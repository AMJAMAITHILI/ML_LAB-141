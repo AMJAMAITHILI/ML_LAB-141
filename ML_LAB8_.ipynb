{
  "nbformat": 4,
  "nbformat_minor": 0,
  "metadata": {
    "colab": {
      "provenance": [],
      "include_colab_link": true
    },
    "kernelspec": {
      "name": "python3",
      "display_name": "Python 3"
    },
    "language_info": {
      "name": "python"
    }
  },
  "cells": [
    {
      "cell_type": "markdown",
      "metadata": {
        "id": "view-in-github",
        "colab_type": "text"
      },
      "source": [
        "<a href=\"https://colab.research.google.com/github/AMJAMAITHILI/ML_LAB-141/blob/main/ML_LAB8_.ipynb\" target=\"_parent\"><img src=\"https://colab.research.google.com/assets/colab-badge.svg\" alt=\"Open In Colab\"/></a>"
      ]
    },
    {
      "cell_type": "code",
      "execution_count": null,
      "metadata": {
        "colab": {
          "base_uri": "https://localhost:8080/",
          "height": 73
        },
        "id": "dsLvoGPw_Ekc",
        "outputId": "6db72bcd-9760-46de-b4fa-1fc73eda4678"
      },
      "outputs": [
        {
          "output_type": "display_data",
          "data": {
            "text/plain": [
              "<IPython.core.display.HTML object>"
            ],
            "text/html": [
              "\n",
              "     <input type=\"file\" id=\"files-381d3035-fe19-43c0-b26b-087dead74d9e\" name=\"files[]\" multiple disabled\n",
              "        style=\"border:none\" />\n",
              "     <output id=\"result-381d3035-fe19-43c0-b26b-087dead74d9e\">\n",
              "      Upload widget is only available when the cell has been executed in the\n",
              "      current browser session. Please rerun this cell to enable.\n",
              "      </output>\n",
              "      <script>// Copyright 2017 Google LLC\n",
              "//\n",
              "// Licensed under the Apache License, Version 2.0 (the \"License\");\n",
              "// you may not use this file except in compliance with the License.\n",
              "// You may obtain a copy of the License at\n",
              "//\n",
              "//      http://www.apache.org/licenses/LICENSE-2.0\n",
              "//\n",
              "// Unless required by applicable law or agreed to in writing, software\n",
              "// distributed under the License is distributed on an \"AS IS\" BASIS,\n",
              "// WITHOUT WARRANTIES OR CONDITIONS OF ANY KIND, either express or implied.\n",
              "// See the License for the specific language governing permissions and\n",
              "// limitations under the License.\n",
              "\n",
              "/**\n",
              " * @fileoverview Helpers for google.colab Python module.\n",
              " */\n",
              "(function(scope) {\n",
              "function span(text, styleAttributes = {}) {\n",
              "  const element = document.createElement('span');\n",
              "  element.textContent = text;\n",
              "  for (const key of Object.keys(styleAttributes)) {\n",
              "    element.style[key] = styleAttributes[key];\n",
              "  }\n",
              "  return element;\n",
              "}\n",
              "\n",
              "// Max number of bytes which will be uploaded at a time.\n",
              "const MAX_PAYLOAD_SIZE = 100 * 1024;\n",
              "\n",
              "function _uploadFiles(inputId, outputId) {\n",
              "  const steps = uploadFilesStep(inputId, outputId);\n",
              "  const outputElement = document.getElementById(outputId);\n",
              "  // Cache steps on the outputElement to make it available for the next call\n",
              "  // to uploadFilesContinue from Python.\n",
              "  outputElement.steps = steps;\n",
              "\n",
              "  return _uploadFilesContinue(outputId);\n",
              "}\n",
              "\n",
              "// This is roughly an async generator (not supported in the browser yet),\n",
              "// where there are multiple asynchronous steps and the Python side is going\n",
              "// to poll for completion of each step.\n",
              "// This uses a Promise to block the python side on completion of each step,\n",
              "// then passes the result of the previous step as the input to the next step.\n",
              "function _uploadFilesContinue(outputId) {\n",
              "  const outputElement = document.getElementById(outputId);\n",
              "  const steps = outputElement.steps;\n",
              "\n",
              "  const next = steps.next(outputElement.lastPromiseValue);\n",
              "  return Promise.resolve(next.value.promise).then((value) => {\n",
              "    // Cache the last promise value to make it available to the next\n",
              "    // step of the generator.\n",
              "    outputElement.lastPromiseValue = value;\n",
              "    return next.value.response;\n",
              "  });\n",
              "}\n",
              "\n",
              "/**\n",
              " * Generator function which is called between each async step of the upload\n",
              " * process.\n",
              " * @param {string} inputId Element ID of the input file picker element.\n",
              " * @param {string} outputId Element ID of the output display.\n",
              " * @return {!Iterable<!Object>} Iterable of next steps.\n",
              " */\n",
              "function* uploadFilesStep(inputId, outputId) {\n",
              "  const inputElement = document.getElementById(inputId);\n",
              "  inputElement.disabled = false;\n",
              "\n",
              "  const outputElement = document.getElementById(outputId);\n",
              "  outputElement.innerHTML = '';\n",
              "\n",
              "  const pickedPromise = new Promise((resolve) => {\n",
              "    inputElement.addEventListener('change', (e) => {\n",
              "      resolve(e.target.files);\n",
              "    });\n",
              "  });\n",
              "\n",
              "  const cancel = document.createElement('button');\n",
              "  inputElement.parentElement.appendChild(cancel);\n",
              "  cancel.textContent = 'Cancel upload';\n",
              "  const cancelPromise = new Promise((resolve) => {\n",
              "    cancel.onclick = () => {\n",
              "      resolve(null);\n",
              "    };\n",
              "  });\n",
              "\n",
              "  // Wait for the user to pick the files.\n",
              "  const files = yield {\n",
              "    promise: Promise.race([pickedPromise, cancelPromise]),\n",
              "    response: {\n",
              "      action: 'starting',\n",
              "    }\n",
              "  };\n",
              "\n",
              "  cancel.remove();\n",
              "\n",
              "  // Disable the input element since further picks are not allowed.\n",
              "  inputElement.disabled = true;\n",
              "\n",
              "  if (!files) {\n",
              "    return {\n",
              "      response: {\n",
              "        action: 'complete',\n",
              "      }\n",
              "    };\n",
              "  }\n",
              "\n",
              "  for (const file of files) {\n",
              "    const li = document.createElement('li');\n",
              "    li.append(span(file.name, {fontWeight: 'bold'}));\n",
              "    li.append(span(\n",
              "        `(${file.type || 'n/a'}) - ${file.size} bytes, ` +\n",
              "        `last modified: ${\n",
              "            file.lastModifiedDate ? file.lastModifiedDate.toLocaleDateString() :\n",
              "                                    'n/a'} - `));\n",
              "    const percent = span('0% done');\n",
              "    li.appendChild(percent);\n",
              "\n",
              "    outputElement.appendChild(li);\n",
              "\n",
              "    const fileDataPromise = new Promise((resolve) => {\n",
              "      const reader = new FileReader();\n",
              "      reader.onload = (e) => {\n",
              "        resolve(e.target.result);\n",
              "      };\n",
              "      reader.readAsArrayBuffer(file);\n",
              "    });\n",
              "    // Wait for the data to be ready.\n",
              "    let fileData = yield {\n",
              "      promise: fileDataPromise,\n",
              "      response: {\n",
              "        action: 'continue',\n",
              "      }\n",
              "    };\n",
              "\n",
              "    // Use a chunked sending to avoid message size limits. See b/62115660.\n",
              "    let position = 0;\n",
              "    do {\n",
              "      const length = Math.min(fileData.byteLength - position, MAX_PAYLOAD_SIZE);\n",
              "      const chunk = new Uint8Array(fileData, position, length);\n",
              "      position += length;\n",
              "\n",
              "      const base64 = btoa(String.fromCharCode.apply(null, chunk));\n",
              "      yield {\n",
              "        response: {\n",
              "          action: 'append',\n",
              "          file: file.name,\n",
              "          data: base64,\n",
              "        },\n",
              "      };\n",
              "\n",
              "      let percentDone = fileData.byteLength === 0 ?\n",
              "          100 :\n",
              "          Math.round((position / fileData.byteLength) * 100);\n",
              "      percent.textContent = `${percentDone}% done`;\n",
              "\n",
              "    } while (position < fileData.byteLength);\n",
              "  }\n",
              "\n",
              "  // All done.\n",
              "  yield {\n",
              "    response: {\n",
              "      action: 'complete',\n",
              "    }\n",
              "  };\n",
              "}\n",
              "\n",
              "scope.google = scope.google || {};\n",
              "scope.google.colab = scope.google.colab || {};\n",
              "scope.google.colab._files = {\n",
              "  _uploadFiles,\n",
              "  _uploadFilesContinue,\n",
              "};\n",
              "})(self);\n",
              "</script> "
            ]
          },
          "metadata": {}
        },
        {
          "output_type": "stream",
          "name": "stdout",
          "text": [
            "Saving indian_liver_patient.csv to indian_liver_patient.csv\n"
          ]
        }
      ],
      "source": [
        "# Comparing Single vs. Ensemble Classifiers\n",
        "\n",
        "from google.colab import files\n",
        "uploaded=files.upload()\n"
      ]
    },
    {
      "cell_type": "code",
      "source": [
        "import pandas as pd\n",
        "df=pd.read_csv(\"indian_liver_patient.csv\")\n",
        "df.head(2)"
      ],
      "metadata": {
        "colab": {
          "base_uri": "https://localhost:8080/",
          "height": 132
        },
        "id": "WQE49_k2Byeo",
        "outputId": "20d2ffab-cbe1-4af7-e2c6-bde91384b867"
      },
      "execution_count": null,
      "outputs": [
        {
          "output_type": "execute_result",
          "data": {
            "text/plain": [
              "   Age  Gender  Total_Bilirubin  Direct_Bilirubin  Alkaline_Phosphotase  \\\n",
              "0   65  Female              0.7               0.1                   187   \n",
              "1   62    Male             10.9               5.5                   699   \n",
              "\n",
              "   Alamine_Aminotransferase  Aspartate_Aminotransferase  Total_Protiens  \\\n",
              "0                        16                          18             6.8   \n",
              "1                        64                         100             7.5   \n",
              "\n",
              "   Albumin  Albumin_and_Globulin_Ratio  Dataset  \n",
              "0      3.3                        0.90        1  \n",
              "1      3.2                        0.74        1  "
            ],
            "text/html": [
              "\n",
              "  <div id=\"df-9f0381a4-9c1d-4465-8111-7bb6d9834d5d\" class=\"colab-df-container\">\n",
              "    <div>\n",
              "<style scoped>\n",
              "    .dataframe tbody tr th:only-of-type {\n",
              "        vertical-align: middle;\n",
              "    }\n",
              "\n",
              "    .dataframe tbody tr th {\n",
              "        vertical-align: top;\n",
              "    }\n",
              "\n",
              "    .dataframe thead th {\n",
              "        text-align: right;\n",
              "    }\n",
              "</style>\n",
              "<table border=\"1\" class=\"dataframe\">\n",
              "  <thead>\n",
              "    <tr style=\"text-align: right;\">\n",
              "      <th></th>\n",
              "      <th>Age</th>\n",
              "      <th>Gender</th>\n",
              "      <th>Total_Bilirubin</th>\n",
              "      <th>Direct_Bilirubin</th>\n",
              "      <th>Alkaline_Phosphotase</th>\n",
              "      <th>Alamine_Aminotransferase</th>\n",
              "      <th>Aspartate_Aminotransferase</th>\n",
              "      <th>Total_Protiens</th>\n",
              "      <th>Albumin</th>\n",
              "      <th>Albumin_and_Globulin_Ratio</th>\n",
              "      <th>Dataset</th>\n",
              "    </tr>\n",
              "  </thead>\n",
              "  <tbody>\n",
              "    <tr>\n",
              "      <th>0</th>\n",
              "      <td>65</td>\n",
              "      <td>Female</td>\n",
              "      <td>0.7</td>\n",
              "      <td>0.1</td>\n",
              "      <td>187</td>\n",
              "      <td>16</td>\n",
              "      <td>18</td>\n",
              "      <td>6.8</td>\n",
              "      <td>3.3</td>\n",
              "      <td>0.90</td>\n",
              "      <td>1</td>\n",
              "    </tr>\n",
              "    <tr>\n",
              "      <th>1</th>\n",
              "      <td>62</td>\n",
              "      <td>Male</td>\n",
              "      <td>10.9</td>\n",
              "      <td>5.5</td>\n",
              "      <td>699</td>\n",
              "      <td>64</td>\n",
              "      <td>100</td>\n",
              "      <td>7.5</td>\n",
              "      <td>3.2</td>\n",
              "      <td>0.74</td>\n",
              "      <td>1</td>\n",
              "    </tr>\n",
              "  </tbody>\n",
              "</table>\n",
              "</div>\n",
              "    <div class=\"colab-df-buttons\">\n",
              "\n",
              "  <div class=\"colab-df-container\">\n",
              "    <button class=\"colab-df-convert\" onclick=\"convertToInteractive('df-9f0381a4-9c1d-4465-8111-7bb6d9834d5d')\"\n",
              "            title=\"Convert this dataframe to an interactive table.\"\n",
              "            style=\"display:none;\">\n",
              "\n",
              "  <svg xmlns=\"http://www.w3.org/2000/svg\" height=\"24px\" viewBox=\"0 -960 960 960\">\n",
              "    <path d=\"M120-120v-720h720v720H120Zm60-500h600v-160H180v160Zm220 220h160v-160H400v160Zm0 220h160v-160H400v160ZM180-400h160v-160H180v160Zm440 0h160v-160H620v160ZM180-180h160v-160H180v160Zm440 0h160v-160H620v160Z\"/>\n",
              "  </svg>\n",
              "    </button>\n",
              "\n",
              "  <style>\n",
              "    .colab-df-container {\n",
              "      display:flex;\n",
              "      gap: 12px;\n",
              "    }\n",
              "\n",
              "    .colab-df-convert {\n",
              "      background-color: #E8F0FE;\n",
              "      border: none;\n",
              "      border-radius: 50%;\n",
              "      cursor: pointer;\n",
              "      display: none;\n",
              "      fill: #1967D2;\n",
              "      height: 32px;\n",
              "      padding: 0 0 0 0;\n",
              "      width: 32px;\n",
              "    }\n",
              "\n",
              "    .colab-df-convert:hover {\n",
              "      background-color: #E2EBFA;\n",
              "      box-shadow: 0px 1px 2px rgba(60, 64, 67, 0.3), 0px 1px 3px 1px rgba(60, 64, 67, 0.15);\n",
              "      fill: #174EA6;\n",
              "    }\n",
              "\n",
              "    .colab-df-buttons div {\n",
              "      margin-bottom: 4px;\n",
              "    }\n",
              "\n",
              "    [theme=dark] .colab-df-convert {\n",
              "      background-color: #3B4455;\n",
              "      fill: #D2E3FC;\n",
              "    }\n",
              "\n",
              "    [theme=dark] .colab-df-convert:hover {\n",
              "      background-color: #434B5C;\n",
              "      box-shadow: 0px 1px 3px 1px rgba(0, 0, 0, 0.15);\n",
              "      filter: drop-shadow(0px 1px 2px rgba(0, 0, 0, 0.3));\n",
              "      fill: #FFFFFF;\n",
              "    }\n",
              "  </style>\n",
              "\n",
              "    <script>\n",
              "      const buttonEl =\n",
              "        document.querySelector('#df-9f0381a4-9c1d-4465-8111-7bb6d9834d5d button.colab-df-convert');\n",
              "      buttonEl.style.display =\n",
              "        google.colab.kernel.accessAllowed ? 'block' : 'none';\n",
              "\n",
              "      async function convertToInteractive(key) {\n",
              "        const element = document.querySelector('#df-9f0381a4-9c1d-4465-8111-7bb6d9834d5d');\n",
              "        const dataTable =\n",
              "          await google.colab.kernel.invokeFunction('convertToInteractive',\n",
              "                                                    [key], {});\n",
              "        if (!dataTable) return;\n",
              "\n",
              "        const docLinkHtml = 'Like what you see? Visit the ' +\n",
              "          '<a target=\"_blank\" href=https://colab.research.google.com/notebooks/data_table.ipynb>data table notebook</a>'\n",
              "          + ' to learn more about interactive tables.';\n",
              "        element.innerHTML = '';\n",
              "        dataTable['output_type'] = 'display_data';\n",
              "        await google.colab.output.renderOutput(dataTable, element);\n",
              "        const docLink = document.createElement('div');\n",
              "        docLink.innerHTML = docLinkHtml;\n",
              "        element.appendChild(docLink);\n",
              "      }\n",
              "    </script>\n",
              "  </div>\n",
              "\n",
              "\n",
              "    <div id=\"df-4621aba0-053c-4c54-81a7-18c4d2c4bb49\">\n",
              "      <button class=\"colab-df-quickchart\" onclick=\"quickchart('df-4621aba0-053c-4c54-81a7-18c4d2c4bb49')\"\n",
              "                title=\"Suggest charts\"\n",
              "                style=\"display:none;\">\n",
              "\n",
              "<svg xmlns=\"http://www.w3.org/2000/svg\" height=\"24px\"viewBox=\"0 0 24 24\"\n",
              "     width=\"24px\">\n",
              "    <g>\n",
              "        <path d=\"M19 3H5c-1.1 0-2 .9-2 2v14c0 1.1.9 2 2 2h14c1.1 0 2-.9 2-2V5c0-1.1-.9-2-2-2zM9 17H7v-7h2v7zm4 0h-2V7h2v10zm4 0h-2v-4h2v4z\"/>\n",
              "    </g>\n",
              "</svg>\n",
              "      </button>\n",
              "\n",
              "<style>\n",
              "  .colab-df-quickchart {\n",
              "      --bg-color: #E8F0FE;\n",
              "      --fill-color: #1967D2;\n",
              "      --hover-bg-color: #E2EBFA;\n",
              "      --hover-fill-color: #174EA6;\n",
              "      --disabled-fill-color: #AAA;\n",
              "      --disabled-bg-color: #DDD;\n",
              "  }\n",
              "\n",
              "  [theme=dark] .colab-df-quickchart {\n",
              "      --bg-color: #3B4455;\n",
              "      --fill-color: #D2E3FC;\n",
              "      --hover-bg-color: #434B5C;\n",
              "      --hover-fill-color: #FFFFFF;\n",
              "      --disabled-bg-color: #3B4455;\n",
              "      --disabled-fill-color: #666;\n",
              "  }\n",
              "\n",
              "  .colab-df-quickchart {\n",
              "    background-color: var(--bg-color);\n",
              "    border: none;\n",
              "    border-radius: 50%;\n",
              "    cursor: pointer;\n",
              "    display: none;\n",
              "    fill: var(--fill-color);\n",
              "    height: 32px;\n",
              "    padding: 0;\n",
              "    width: 32px;\n",
              "  }\n",
              "\n",
              "  .colab-df-quickchart:hover {\n",
              "    background-color: var(--hover-bg-color);\n",
              "    box-shadow: 0 1px 2px rgba(60, 64, 67, 0.3), 0 1px 3px 1px rgba(60, 64, 67, 0.15);\n",
              "    fill: var(--button-hover-fill-color);\n",
              "  }\n",
              "\n",
              "  .colab-df-quickchart-complete:disabled,\n",
              "  .colab-df-quickchart-complete:disabled:hover {\n",
              "    background-color: var(--disabled-bg-color);\n",
              "    fill: var(--disabled-fill-color);\n",
              "    box-shadow: none;\n",
              "  }\n",
              "\n",
              "  .colab-df-spinner {\n",
              "    border: 2px solid var(--fill-color);\n",
              "    border-color: transparent;\n",
              "    border-bottom-color: var(--fill-color);\n",
              "    animation:\n",
              "      spin 1s steps(1) infinite;\n",
              "  }\n",
              "\n",
              "  @keyframes spin {\n",
              "    0% {\n",
              "      border-color: transparent;\n",
              "      border-bottom-color: var(--fill-color);\n",
              "      border-left-color: var(--fill-color);\n",
              "    }\n",
              "    20% {\n",
              "      border-color: transparent;\n",
              "      border-left-color: var(--fill-color);\n",
              "      border-top-color: var(--fill-color);\n",
              "    }\n",
              "    30% {\n",
              "      border-color: transparent;\n",
              "      border-left-color: var(--fill-color);\n",
              "      border-top-color: var(--fill-color);\n",
              "      border-right-color: var(--fill-color);\n",
              "    }\n",
              "    40% {\n",
              "      border-color: transparent;\n",
              "      border-right-color: var(--fill-color);\n",
              "      border-top-color: var(--fill-color);\n",
              "    }\n",
              "    60% {\n",
              "      border-color: transparent;\n",
              "      border-right-color: var(--fill-color);\n",
              "    }\n",
              "    80% {\n",
              "      border-color: transparent;\n",
              "      border-right-color: var(--fill-color);\n",
              "      border-bottom-color: var(--fill-color);\n",
              "    }\n",
              "    90% {\n",
              "      border-color: transparent;\n",
              "      border-bottom-color: var(--fill-color);\n",
              "    }\n",
              "  }\n",
              "</style>\n",
              "\n",
              "      <script>\n",
              "        async function quickchart(key) {\n",
              "          const quickchartButtonEl =\n",
              "            document.querySelector('#' + key + ' button');\n",
              "          quickchartButtonEl.disabled = true;  // To prevent multiple clicks.\n",
              "          quickchartButtonEl.classList.add('colab-df-spinner');\n",
              "          try {\n",
              "            const charts = await google.colab.kernel.invokeFunction(\n",
              "                'suggestCharts', [key], {});\n",
              "          } catch (error) {\n",
              "            console.error('Error during call to suggestCharts:', error);\n",
              "          }\n",
              "          quickchartButtonEl.classList.remove('colab-df-spinner');\n",
              "          quickchartButtonEl.classList.add('colab-df-quickchart-complete');\n",
              "        }\n",
              "        (() => {\n",
              "          let quickchartButtonEl =\n",
              "            document.querySelector('#df-4621aba0-053c-4c54-81a7-18c4d2c4bb49 button');\n",
              "          quickchartButtonEl.style.display =\n",
              "            google.colab.kernel.accessAllowed ? 'block' : 'none';\n",
              "        })();\n",
              "      </script>\n",
              "    </div>\n",
              "\n",
              "    </div>\n",
              "  </div>\n"
            ],
            "application/vnd.google.colaboratory.intrinsic+json": {
              "type": "dataframe",
              "variable_name": "df",
              "summary": "{\n  \"name\": \"df\",\n  \"rows\": 583,\n  \"fields\": [\n    {\n      \"column\": \"Age\",\n      \"properties\": {\n        \"dtype\": \"number\",\n        \"std\": 16,\n        \"min\": 4,\n        \"max\": 90,\n        \"num_unique_values\": 72,\n        \"samples\": [\n          46,\n          23,\n          63\n        ],\n        \"semantic_type\": \"\",\n        \"description\": \"\"\n      }\n    },\n    {\n      \"column\": \"Gender\",\n      \"properties\": {\n        \"dtype\": \"category\",\n        \"num_unique_values\": 2,\n        \"samples\": [\n          \"Male\",\n          \"Female\"\n        ],\n        \"semantic_type\": \"\",\n        \"description\": \"\"\n      }\n    },\n    {\n      \"column\": \"Total_Bilirubin\",\n      \"properties\": {\n        \"dtype\": \"number\",\n        \"std\": 6.209521726180145,\n        \"min\": 0.4,\n        \"max\": 75.0,\n        \"num_unique_values\": 113,\n        \"samples\": [\n          4.9,\n          3.9\n        ],\n        \"semantic_type\": \"\",\n        \"description\": \"\"\n      }\n    },\n    {\n      \"column\": \"Direct_Bilirubin\",\n      \"properties\": {\n        \"dtype\": \"number\",\n        \"std\": 2.8084976176589636,\n        \"min\": 0.1,\n        \"max\": 19.7,\n        \"num_unique_values\": 80,\n        \"samples\": [\n          6.2,\n          0.1\n        ],\n        \"semantic_type\": \"\",\n        \"description\": \"\"\n      }\n    },\n    {\n      \"column\": \"Alkaline_Phosphotase\",\n      \"properties\": {\n        \"dtype\": \"number\",\n        \"std\": 242,\n        \"min\": 63,\n        \"max\": 2110,\n        \"num_unique_values\": 263,\n        \"samples\": [\n          386,\n          209\n        ],\n        \"semantic_type\": \"\",\n        \"description\": \"\"\n      }\n    },\n    {\n      \"column\": \"Alamine_Aminotransferase\",\n      \"properties\": {\n        \"dtype\": \"number\",\n        \"std\": 182,\n        \"min\": 10,\n        \"max\": 2000,\n        \"num_unique_values\": 152,\n        \"samples\": [\n          2000,\n          321\n        ],\n        \"semantic_type\": \"\",\n        \"description\": \"\"\n      }\n    },\n    {\n      \"column\": \"Aspartate_Aminotransferase\",\n      \"properties\": {\n        \"dtype\": \"number\",\n        \"std\": 288,\n        \"min\": 10,\n        \"max\": 4929,\n        \"num_unique_values\": 177,\n        \"samples\": [\n          66,\n          16\n        ],\n        \"semantic_type\": \"\",\n        \"description\": \"\"\n      }\n    },\n    {\n      \"column\": \"Total_Protiens\",\n      \"properties\": {\n        \"dtype\": \"number\",\n        \"std\": 1.0854514840234664,\n        \"min\": 2.7,\n        \"max\": 9.6,\n        \"num_unique_values\": 58,\n        \"samples\": [\n          6.8,\n          6.7\n        ],\n        \"semantic_type\": \"\",\n        \"description\": \"\"\n      }\n    },\n    {\n      \"column\": \"Albumin\",\n      \"properties\": {\n        \"dtype\": \"number\",\n        \"std\": 0.795518805964027,\n        \"min\": 0.9,\n        \"max\": 5.5,\n        \"num_unique_values\": 40,\n        \"samples\": [\n          2.0,\n          1.9\n        ],\n        \"semantic_type\": \"\",\n        \"description\": \"\"\n      }\n    },\n    {\n      \"column\": \"Albumin_and_Globulin_Ratio\",\n      \"properties\": {\n        \"dtype\": \"number\",\n        \"std\": 0.31959210767237095,\n        \"min\": 0.3,\n        \"max\": 2.8,\n        \"num_unique_values\": 69,\n        \"samples\": [\n          1.6,\n          0.9\n        ],\n        \"semantic_type\": \"\",\n        \"description\": \"\"\n      }\n    },\n    {\n      \"column\": \"Dataset\",\n      \"properties\": {\n        \"dtype\": \"number\",\n        \"std\": 0,\n        \"min\": 1,\n        \"max\": 2,\n        \"num_unique_values\": 2,\n        \"samples\": [\n          2,\n          1\n        ],\n        \"semantic_type\": \"\",\n        \"description\": \"\"\n      }\n    }\n  ]\n}"
            }
          },
          "metadata": {},
          "execution_count": 2
        }
      ]
    },
    {
      "cell_type": "code",
      "source": [
        "#Single classifier\n",
        "import numpy as np\n",
        "from sklearn.model_selection import train_test_split\n",
        "from sklearn.preprocessing import LabelEncoder, StandardScaler\n",
        "from sklearn.tree import DecisionTreeClassifier\n",
        "from sklearn.metrics import accuracy_score, precision_score, recall_score, f1_score, classification_report\n",
        "\n",
        "#handling missing and null values\n",
        "print(df.isnull().sum())"
      ],
      "metadata": {
        "colab": {
          "base_uri": "https://localhost:8080/"
        },
        "id": "_bp58H9FCCoP",
        "outputId": "bec94d00-3de3-44b5-844e-551dcf88ce76"
      },
      "execution_count": null,
      "outputs": [
        {
          "output_type": "stream",
          "name": "stdout",
          "text": [
            "Age                           0\n",
            "Gender                        0\n",
            "Total_Bilirubin               0\n",
            "Direct_Bilirubin              0\n",
            "Alkaline_Phosphotase          0\n",
            "Alamine_Aminotransferase      0\n",
            "Aspartate_Aminotransferase    0\n",
            "Total_Protiens                0\n",
            "Albumin                       0\n",
            "Albumin_and_Globulin_Ratio    4\n",
            "Dataset                       0\n",
            "dtype: int64\n"
          ]
        }
      ]
    },
    {
      "cell_type": "code",
      "source": [
        "df.fillna(df.mean(numeric_only=True), inplace=True)\n",
        "print(df.isnull().sum())\n",
        "\n",
        "#converting gender to numerical values - males-1 , females=0\n",
        "le = LabelEncoder()\n",
        "df['Gender']=le.fit_transform(df['Gender'])\n",
        "\n",
        "print('after converting gender to categorical:')\n",
        "print(df.head(2))"
      ],
      "metadata": {
        "colab": {
          "base_uri": "https://localhost:8080/"
        },
        "id": "3Z40p0ThC62d",
        "outputId": "740a176f-ddb1-4b6f-f0d1-e562f2b2210e"
      },
      "execution_count": null,
      "outputs": [
        {
          "output_type": "stream",
          "name": "stdout",
          "text": [
            "Age                           0\n",
            "Gender                        0\n",
            "Total_Bilirubin               0\n",
            "Direct_Bilirubin              0\n",
            "Alkaline_Phosphotase          0\n",
            "Alamine_Aminotransferase      0\n",
            "Aspartate_Aminotransferase    0\n",
            "Total_Protiens                0\n",
            "Albumin                       0\n",
            "Albumin_and_Globulin_Ratio    0\n",
            "Dataset                       0\n",
            "dtype: int64\n",
            "after converting gender to categorical:\n",
            "   Age  Gender  Total_Bilirubin  Direct_Bilirubin  Alkaline_Phosphotase  \\\n",
            "0   65       0              0.7               0.1                   187   \n",
            "1   62       1             10.9               5.5                   699   \n",
            "\n",
            "   Alamine_Aminotransferase  Aspartate_Aminotransferase  Total_Protiens  \\\n",
            "0                        16                          18             6.8   \n",
            "1                        64                         100             7.5   \n",
            "\n",
            "   Albumin  Albumin_and_Globulin_Ratio  Dataset  \n",
            "0      3.3                        0.90        1  \n",
            "1      3.2                        0.74        1  \n"
          ]
        }
      ]
    },
    {
      "cell_type": "markdown",
      "source": [
        "Has liver disease - 1\n",
        "\n",
        "does not have liver disease - 0 (2 in actual dataset)"
      ],
      "metadata": {
        "id": "CoFQLgE2EXiW"
      }
    },
    {
      "cell_type": "code",
      "source": [
        "#Evaluation metrics\n",
        "def evaluate_model(name, y_true, y_pred):\n",
        "    print(f\"\\n{name}\")\n",
        "    print(f\"Accuracy : {accuracy_score(y_true, y_pred):.4f}\")\n",
        "    print(f\"Precision: {precision_score(y_true, y_pred):.4f}\")\n",
        "    print(f\"Recall   : {recall_score(y_true, y_pred):.4f}\")\n",
        "    print(f\"F1-score : {f1_score(y_true, y_pred):.4f}\")"
      ],
      "metadata": {
        "id": "EYIzm6RKFWyc"
      },
      "execution_count": null,
      "outputs": []
    },
    {
      "cell_type": "code",
      "source": [
        "X=df.drop('Dataset', axis=1)\n",
        "y=df['Dataset']\n",
        "#converting target to binary classes\n",
        "y=np.where(y==2,1,0) # changes 2--> condition if true 0 else 1\n",
        "X_train, X_test, y_train, y_test=train_test_split(X,y, test_size=0.3, random_state=42)\n",
        "#preprocessing\n",
        "scaler = StandardScaler()\n",
        "X_train = scaler.fit_transform(X_train)\n",
        "X_test = scaler.transform(X_test)\n",
        "\n",
        "dt = DecisionTreeClassifier(random_state=42)\n",
        "dt.fit(X_train, y_train)\n",
        "y_pred_dt = dt.predict(X_test)\n",
        "\n",
        "evaluate_model(\"Decision Tree\", y_test, y_pred_dt)"
      ],
      "metadata": {
        "colab": {
          "base_uri": "https://localhost:8080/"
        },
        "id": "Ysw6KZWYDMX2",
        "outputId": "1d56f1db-078d-43cd-aa2e-177e2d02e8d9"
      },
      "execution_count": null,
      "outputs": [
        {
          "output_type": "stream",
          "name": "stdout",
          "text": [
            "\n",
            "Decision Tree\n",
            "Accuracy : 0.6971\n",
            "Precision: 0.4423\n",
            "Recall   : 0.4894\n",
            "F1-score : 0.4646\n"
          ]
        }
      ]
    },
    {
      "cell_type": "code",
      "source": [
        "#ensemble classifier\n",
        "from sklearn.ensemble import RandomForestClassifier\n",
        "rf = RandomForestClassifier(n_estimators=5, random_state=42)\n",
        "rf.fit(X_train, y_train)\n",
        "y_pred_rf = rf.predict(X_test)\n",
        "evaluate_model(\"Random Forest\", y_test, y_pred_rf)"
      ],
      "metadata": {
        "colab": {
          "base_uri": "https://localhost:8080/"
        },
        "id": "idPIddGBCqa_",
        "outputId": "69f1902b-41be-4764-a89b-1eb7a8583fad"
      },
      "execution_count": null,
      "outputs": [
        {
          "output_type": "stream",
          "name": "stdout",
          "text": [
            "\n",
            "Random Forest\n",
            "Accuracy : 0.7314\n",
            "Precision: 0.5000\n",
            "Recall   : 0.3404\n",
            "F1-score : 0.4051\n"
          ]
        }
      ]
    },
    {
      "cell_type": "markdown",
      "source": [
        "Accuracy -Random Forest predicts overall more correctly (about 73% vs 69%).\n",
        "\n",
        "Precision -When RF predicts a positive (disease), it’s more likely correct.\n",
        "\n",
        "Recall -But RF misses more positive cases (fewer patients correctly identified with disease).\n",
        "\n",
        "F1 -Because F1 combines precision and recall, when recall drops a lot, F1 also drops.\n",
        "\n",
        "\n",
        "Random forest classifier is focusing on **majority class** - therefore there is decrease in the value of **recall **"
      ],
      "metadata": {
        "id": "mVOXd9O9Gtlc"
      }
    },
    {
      "cell_type": "code",
      "source": [
        "for n in [1,5,10, 50, 100, 200, 300]:\n",
        "    rf_temp = RandomForestClassifier(n_estimators=n, random_state=42)\n",
        "    rf_temp.fit(X_train, y_train)\n",
        "    y_pred_temp = rf_temp.predict(X_test)\n",
        "    acc = accuracy_score(y_test, y_pred_temp)\n",
        "    print(f\"Estimators: {n:3d} | Accuracy: {acc:.4f}\")\n",
        "    print(f\"Precision: {precision_score(y_test, y_pred_temp ):.4f}\")\n",
        "    print(f\"Recall   : {recall_score(y_test, y_pred_temp ):.4f}\")\n",
        "    print(f\"F1-score : {f1_score(y_test, y_pred_temp ):.4f}\")"
      ],
      "metadata": {
        "colab": {
          "base_uri": "https://localhost:8080/"
        },
        "id": "5uSyTcp3IMdK",
        "outputId": "ed15a754-0e35-4dcc-952e-80ca725f298b"
      },
      "execution_count": null,
      "outputs": [
        {
          "output_type": "stream",
          "name": "stdout",
          "text": [
            "Estimators:   1 | Accuracy: 0.6686\n",
            "Precision: 0.3830\n",
            "Recall   : 0.3830\n",
            "F1-score : 0.3830\n",
            "Estimators:   5 | Accuracy: 0.7029\n",
            "Precision: 0.4510\n",
            "Recall   : 0.4894\n",
            "F1-score : 0.4694\n",
            "Estimators:  10 | Accuracy: 0.6971\n",
            "Precision: 0.4118\n",
            "Recall   : 0.2979\n",
            "F1-score : 0.3457\n",
            "Estimators:  50 | Accuracy: 0.7029\n",
            "Precision: 0.4138\n",
            "Recall   : 0.2553\n",
            "F1-score : 0.3158\n",
            "Estimators: 100 | Accuracy: 0.7314\n",
            "Precision: 0.5000\n",
            "Recall   : 0.3404\n",
            "F1-score : 0.4051\n",
            "Estimators: 200 | Accuracy: 0.7143\n",
            "Precision: 0.4615\n",
            "Recall   : 0.3830\n",
            "F1-score : 0.4186\n",
            "Estimators: 300 | Accuracy: 0.7086\n",
            "Precision: 0.4444\n",
            "Recall   : 0.3404\n",
            "F1-score : 0.3855\n"
          ]
        }
      ]
    },
    {
      "cell_type": "markdown",
      "source": [
        "Recall: “Of all sick people, how many did I catch?” → Focus on actual positives\n",
        "\n",
        "Precision: “Of the people I flagged as sick, how many truly are sick?” → Focus on predicted positives\n",
        "\n",
        "\n",
        "**at estimators = 5 it is giving better accuracy and recall**\n",
        "\n"
      ],
      "metadata": {
        "id": "BpwjqToIJYwh"
      }
    },
    {
      "cell_type": "markdown",
      "source": [
        "\n",
        "# why random forest (ensemble) is better?\n",
        "\n",
        "Random forest works on majority voting therefore more generalized model so better than decision tree - decision tree leads to overfitting when single tree grows in depth"
      ],
      "metadata": {
        "id": "RFEtPdy1MIp4"
      }
    },
    {
      "cell_type": "code",
      "source": [
        "from sklearn.linear_model import LogisticRegression\n",
        "dt = DecisionTreeClassifier(random_state=42)\n",
        "rf = RandomForestClassifier(n_estimators=5, random_state=42)\n",
        "lr = LogisticRegression(random_state=42, max_iter=1000)\n",
        "\n",
        "dt.fit(X_train, y_train)\n",
        "rf.fit(X_train, y_train)\n",
        "lr.fit(X_train, y_train)\n",
        "\n",
        "y_pred_dt = dt.predict(X_test)\n",
        "y_pred_rf = rf.predict(X_test)\n",
        "y_pred_lr = lr.predict(X_test)\n",
        "\n",
        "#majority voting\n",
        "predictions = np.array([y_pred_dt, y_pred_rf, y_pred_lr])\n",
        "y_pred_max = np.apply_along_axis(lambda x: np.bincount(x).argmax(), axis=0, arr=predictions)"
      ],
      "metadata": {
        "id": "AwOnsb6mLMho"
      },
      "execution_count": null,
      "outputs": []
    },
    {
      "cell_type": "code",
      "source": [
        "#Average Voting (Probabilities)\n",
        "y_prob_dt = dt.predict_proba(X_test)[:,1]\n",
        "y_prob_rf = rf.predict_proba(X_test)[:,1]\n",
        "y_prob_lr = lr.predict_proba(X_test)[:,1]\n",
        "y_prob_avg = (y_prob_dt + y_prob_rf + y_prob_lr) / 3\n",
        "y_pred_avg = (y_prob_avg >= 0.5).astype(int)\n",
        "\n",
        "#Weighted Average Voting\n",
        "# Assign weights based on model performance (accuracy)\n",
        "acc_dt = accuracy_score(y_test, y_pred_dt)\n",
        "acc_rf = accuracy_score(y_test, y_pred_rf)\n",
        "acc_lr = accuracy_score(y_test, y_pred_lr)\n",
        "\n",
        "weights = np.array([acc_dt, acc_rf, acc_lr])\n",
        "y_prob_weighted = (y_prob_dt*weights[0] + y_prob_rf*weights[1] + y_prob_lr*weights[2]) / weights.sum()\n",
        "y_pred_weighted = (y_prob_weighted >= 0.5).astype(int)\n",
        "\n",
        "#Evaluation function\n",
        "def evaluate_model(name, y_true, y_pred):\n",
        "    print(f\"\\n{name}\")\n",
        "    print(f\"Accuracy : {accuracy_score(y_true, y_pred):.4f}\")\n",
        "    print(f\"Precision: {precision_score(y_true, y_pred):.4f}\")\n",
        "    print(f\"Recall   : {recall_score(y_true, y_pred):.4f}\")\n",
        "    print(f\"F1-score : {f1_score(y_true, y_pred):.4f}\")"
      ],
      "metadata": {
        "id": "ZlXoWtwRQy58"
      },
      "execution_count": null,
      "outputs": []
    },
    {
      "cell_type": "markdown",
      "source": [
        "**Majority voting**\n",
        "\n",
        "Works with class predictions (not probabilities) from multiple models.\n",
        "Each base classifier “votes” for a class.\n",
        "The class with the most votes wins → becomes the final prediction.\n",
        "\n",
        "**Average Voting**\n",
        "\n",
        "Take the average of predicted probabilities from all models ,if threshold 0.5 → final prediction\n",
        "\n",
        "**Weighted average voting**\n",
        "\n",
        "Take a weighted average of probabilities based on model performance → threshold 0.5 → final prediction\n",
        "\n"
      ],
      "metadata": {
        "id": "n0Qd9fFUR3_j"
      }
    },
    {
      "cell_type": "code",
      "source": [
        "# Step 12: Evaluate base classifiers\n",
        "evaluate_model(\"Decision Tree\", y_test, y_pred_dt)\n",
        "evaluate_model(\"Random Forest\", y_test, y_pred_rf)\n",
        "evaluate_model(\"Logistic Regression\", y_test, y_pred_lr)\n",
        "\n",
        "# Step 13: Evaluate ensemble techniques\n",
        "evaluate_model(\"Max Voting Ensemble\", y_test, y_pred_max)\n",
        "evaluate_model(\"Average Voting Ensemble\", y_test, y_pred_avg)\n",
        "evaluate_model(\"Weighted Average Voting Ensemble\", y_test, y_pred_weighted)"
      ],
      "metadata": {
        "colab": {
          "base_uri": "https://localhost:8080/"
        },
        "id": "6k6rIWujQZj8",
        "outputId": "13bb5fb3-c2f6-481a-d464-44413e29dd4f"
      },
      "execution_count": null,
      "outputs": [
        {
          "output_type": "stream",
          "name": "stdout",
          "text": [
            "\n",
            "Decision Tree\n",
            "Accuracy : 0.6971\n",
            "Precision: 0.4423\n",
            "Recall   : 0.4894\n",
            "F1-score : 0.4646\n",
            "\n",
            "Random Forest\n",
            "Accuracy : 0.7029\n",
            "Precision: 0.4510\n",
            "Recall   : 0.4894\n",
            "F1-score : 0.4694\n",
            "\n",
            "Logistic Regression\n",
            "Accuracy : 0.7200\n",
            "Precision: 0.4500\n",
            "Recall   : 0.1915\n",
            "F1-score : 0.2687\n",
            "\n",
            "Max Voting Ensemble\n",
            "Accuracy : 0.6914\n",
            "Precision: 0.4000\n",
            "Recall   : 0.2979\n",
            "F1-score : 0.3415\n",
            "\n",
            "Average Voting Ensemble\n",
            "Accuracy : 0.7200\n",
            "Precision: 0.4773\n",
            "Recall   : 0.4468\n",
            "F1-score : 0.4615\n",
            "\n",
            "Weighted Average Voting Ensemble\n",
            "Accuracy : 0.7200\n",
            "Precision: 0.4773\n",
            "Recall   : 0.4468\n",
            "F1-score : 0.4615\n"
          ]
        }
      ]
    },
    {
      "cell_type": "markdown",
      "source": [
        "**Weighted Average Voting** is giving more accuracy compared to other ensemble techniques"
      ],
      "metadata": {
        "id": "DrX5AAMMSkhD"
      }
    },
    {
      "cell_type": "code",
      "source": [
        "from sklearn.ensemble import VotingClassifier\n",
        "from sklearn.neighbors import KNeighborsClassifier\n",
        "\n",
        "dt = DecisionTreeClassifier(random_state=42)\n",
        "lr = LogisticRegression(random_state=42, max_iter=1000)\n",
        "knn = KNeighborsClassifier(n_neighbors=5)"
      ],
      "metadata": {
        "id": "fv-ed3vwVV1B"
      },
      "execution_count": null,
      "outputs": []
    },
    {
      "cell_type": "code",
      "source": [
        "hard_voting_clf = VotingClassifier(\n",
        "    estimators=[('dt', dt), ('lr', lr), ('knn', knn)],\n",
        "    voting='hard'\n",
        ")\n",
        "\n",
        "#Define Soft Voting Classifier\n",
        "soft_voting_clf = VotingClassifier(\n",
        "    estimators=[('dt', dt), ('lr', lr), ('knn', knn)],\n",
        "    voting='soft'  # uses predicted probabilities\n",
        ")\n",
        "\n",
        "#Train classifiers\n",
        "hard_voting_clf.fit(X_train, y_train)\n",
        "soft_voting_clf.fit(X_train, y_train)\n",
        "\n",
        "#Make predictions\n",
        "y_pred_hard = hard_voting_clf.predict(X_test)\n",
        "y_pred_soft = soft_voting_clf.predict(X_test)\n",
        "\n",
        "#Evaluation function\n",
        "def evaluate_model(name, y_true, y_pred):\n",
        "    print(f\"\\n=== {name} ===\")\n",
        "    print(f\"Accuracy : {accuracy_score(y_true, y_pred):.4f}\")\n",
        "    print(f\"Precision: {precision_score(y_true, y_pred):.4f}\")\n",
        "    print(f\"Recall   : {recall_score(y_true, y_pred):.4f}\")\n",
        "    print(f\"F1-score : {f1_score(y_true, y_pred):.4f}\")\n",
        "\n",
        "# Step 14: Evaluate both voting classifiers\n",
        "evaluate_model(\"Hard Voting Classifier\", y_test, y_pred_hard)\n",
        "evaluate_model(\"Soft Voting Classifier\", y_test, y_pred_soft)"
      ],
      "metadata": {
        "colab": {
          "base_uri": "https://localhost:8080/"
        },
        "id": "Wq3cc1O6USzZ",
        "outputId": "e3a1c2e4-2613-44b1-a08e-b37e657f3fd6"
      },
      "execution_count": null,
      "outputs": [
        {
          "output_type": "stream",
          "name": "stdout",
          "text": [
            "\n",
            "=== Hard Voting Classifier ===\n",
            "Accuracy : 0.6914\n",
            "Precision: 0.4000\n",
            "Recall   : 0.2979\n",
            "F1-score : 0.3415\n",
            "\n",
            "=== Soft Voting Classifier ===\n",
            "Accuracy : 0.7029\n",
            "Precision: 0.4419\n",
            "Recall   : 0.4043\n",
            "F1-score : 0.4222\n"
          ]
        }
      ]
    },
    {
      "cell_type": "markdown",
      "source": [
        "**Hard voting and max voting** are giving same results\n",
        "soft voting -- probability based voting -- giving better results\n",
        "\n",
        "probability based are giving better results"
      ],
      "metadata": {
        "id": "-5czTNE-Vs5g"
      }
    },
    {
      "cell_type": "code",
      "source": [
        "# Exploring Bagging Technique using RandomForestClassifier\n",
        "\n",
        "from sklearn.datasets import load_iris\n",
        "from sklearn.model_selection import train_test_split\n",
        "from sklearn.ensemble import RandomForestClassifier\n",
        "from sklearn.metrics import accuracy_score, classification_report\n",
        "import pandas as pd\n",
        "\n",
        "# Load dataset\n",
        "iris = load_iris()\n",
        "X = iris.data\n",
        "y = iris.target\n",
        "\n",
        "# Split data\n",
        "X_train, X_test, y_train, y_test = train_test_split(\n",
        "    X, y, test_size=0.3, random_state=42, stratify=y\n",
        ")\n",
        "\n",
        "# Experiment with different parameters\n",
        "params = [\n",
        "    {\"n_estimators\": 10, \"max_depth\": None, \"random_state\": 42},\n",
        "    {\"n_estimators\": 50, \"max_depth\": None, \"random_state\": 42},\n",
        "    {\"n_estimators\": 100, \"max_depth\": None, \"random_state\": 42},\n",
        "    {\"n_estimators\": 100, \"max_depth\": 3, \"random_state\": 42},\n",
        "    {\"n_estimators\": 100, \"max_depth\": 5, \"random_state\": 42},\n",
        "]\n",
        "\n",
        "results = []\n",
        "\n",
        "# Train and evaluate multiple Random Forests\n",
        "for p in params:\n",
        "    rf = RandomForestClassifier(\n",
        "        n_estimators=p[\"n_estimators\"],\n",
        "        max_depth=p[\"max_depth\"],\n",
        "        random_state=p[\"random_state\"]\n",
        "    )\n",
        "    rf.fit(X_train, y_train)\n",
        "    y_pred = rf.predict(X_test)\n",
        "    acc = accuracy_score(y_test, y_pred)\n",
        "    results.append({\n",
        "        \"n_estimators\": p[\"n_estimators\"],\n",
        "        \"max_depth\": p[\"max_depth\"],\n",
        "        \"accuracy\": round(acc, 4)\n",
        "    })\n",
        "\n",
        "# Display results\n",
        "df_results = pd.DataFrame(results)\n",
        "print(\"=== Random Forest Results ===\")\n",
        "print(df_results)\n",
        "print(\"\\nBest Model Parameters:\")\n",
        "best_model = df_results.loc[df_results['accuracy'].idxmax()]\n",
        "print(best_model)\n",
        "\n",
        "# Final model evaluation\n",
        "final_rf = RandomForestClassifier(\n",
        "    n_estimators=int(best_model[\"n_estimators\"]),\n",
        "    max_depth=best_model[\"max_depth\"],\n",
        "    random_state=42\n",
        ")\n",
        "final_rf.fit(X_train, y_train)\n",
        "y_pred_final = final_rf.predict(X_test)\n",
        "\n",
        "print(\"\\nClassification Report:\")\n",
        "print(classification_report(y_test, y_pred_final, target_names=iris.target_names))"
      ],
      "metadata": {
        "id": "Py0JeQ2ZWw24"
      },
      "execution_count": null,
      "outputs": []
    },
    {
      "cell_type": "markdown",
      "source": [
        "**Bagging Technique**\n",
        "\n",
        "\n",
        "---\n",
        "\n",
        "\n",
        " It is an ensemble learning technique that improves model stability and accuracy by training multiple models on different random subsets of the original dataset."
      ],
      "metadata": {
        "id": "_v1ImeKxrk3s"
      }
    },
    {
      "cell_type": "code",
      "source": [
        "import pandas as pd\n",
        "import numpy as np\n",
        "from sklearn.model_selection import train_test_split\n",
        "from sklearn.preprocessing import LabelEncoder, StandardScaler\n",
        "from sklearn.ensemble import RandomForestClassifier\n",
        "from sklearn.metrics import accuracy_score, classification_report"
      ],
      "metadata": {
        "id": "8pkv7Wvvr1N2"
      },
      "execution_count": null,
      "outputs": []
    },
    {
      "cell_type": "code",
      "source": [
        "X=df.drop('Dataset', axis=1)\n",
        "y=df['Dataset']\n",
        "#converting target to binary classes\n",
        "y=np.where(y==2,1,0) # changes 2--> condition if true 0 else 1\n",
        "X_train, X_test, y_train, y_test=train_test_split(X,y, test_size=0.3, random_state=42)\n",
        "#preprocessing\n",
        "scaler = StandardScaler()\n",
        "X_train = scaler.fit_transform(X_train)\n",
        "X_test = scaler.transform(X_test)"
      ],
      "metadata": {
        "id": "tFIUqxo6sM-h"
      },
      "execution_count": null,
      "outputs": []
    },
    {
      "cell_type": "code",
      "source": [
        "n_estimators_list = [10, 50, 100, 200]\n",
        "max_depth_list = [None, 3, 5, 10]\n",
        "\n",
        "results = []\n",
        "\n",
        "print(\"Exploring Random Forest (Bagging) Performance:\\n\")\n",
        "for n in n_estimators_list:\n",
        "    for depth in max_depth_list:\n",
        "        rf = RandomForestClassifier(n_estimators=n, max_depth=depth, random_state=42)\n",
        "        rf.fit(X_train, y_train)\n",
        "        y_pred = rf.predict(X_test)\n",
        "        acc = accuracy_score(y_test, y_pred)\n",
        "        results.append((n, depth, acc))\n",
        "        print(f\"n_estimators={n}, max_depth={depth}, Accuracy={acc:.4f}\")"
      ],
      "metadata": {
        "colab": {
          "base_uri": "https://localhost:8080/"
        },
        "id": "za49LtZ5sWgN",
        "outputId": "8513700a-4f9a-4164-a1b0-4b35be912cf1"
      },
      "execution_count": null,
      "outputs": [
        {
          "output_type": "stream",
          "name": "stdout",
          "text": [
            "Exploring Random Forest (Bagging) Performance:\n",
            "\n",
            "n_estimators=10, max_depth=None, Accuracy=0.6971\n",
            "n_estimators=10, max_depth=3, Accuracy=0.7143\n",
            "n_estimators=10, max_depth=5, Accuracy=0.7257\n",
            "n_estimators=10, max_depth=10, Accuracy=0.7029\n",
            "n_estimators=50, max_depth=None, Accuracy=0.7029\n",
            "n_estimators=50, max_depth=3, Accuracy=0.7143\n",
            "n_estimators=50, max_depth=5, Accuracy=0.7029\n",
            "n_estimators=50, max_depth=10, Accuracy=0.7257\n",
            "n_estimators=100, max_depth=None, Accuracy=0.7314\n",
            "n_estimators=100, max_depth=3, Accuracy=0.7086\n",
            "n_estimators=100, max_depth=5, Accuracy=0.6971\n",
            "n_estimators=100, max_depth=10, Accuracy=0.7200\n",
            "n_estimators=200, max_depth=None, Accuracy=0.7143\n",
            "n_estimators=200, max_depth=3, Accuracy=0.7029\n",
            "n_estimators=200, max_depth=5, Accuracy=0.7086\n",
            "n_estimators=200, max_depth=10, Accuracy=0.6971\n"
          ]
        }
      ]
    },
    {
      "cell_type": "markdown",
      "source": [
        "More trees (n_estimators) usually improve accuracy because predictions are more stable.\n",
        "\n",
        "Maximum depth (max_depth) affects tree complexity:\n",
        "\n",
        "Low depth - may underfit -lower accuracy.\n",
        "\n",
        "High depth - may overfit individual trees, but Random Forest reduces this problem.\n",
        "\n",
        "Random Forest reduces variance compared to a single Decision Tree.\n",
        "\n",
        "Bagging (using random subsets of data) helps Random Forest handle overfitting better than a single tree."
      ],
      "metadata": {
        "id": "P3G7FoRZsnyT"
      }
    },
    {
      "cell_type": "code",
      "source": [
        "from sklearn.ensemble import AdaBoostClassifier, GradientBoostingClassifier\n",
        "from xgboost import XGBClassifier\n",
        "from catboost import CatBoostClassifier\n",
        "from sklearn.metrics import accuracy_score, precision_score, recall_score, f1_score"
      ],
      "metadata": {
        "id": "zDpO3-s1uKr4"
      },
      "execution_count": null,
      "outputs": []
    },
    {
      "cell_type": "code",
      "source": [
        "pip install catboost"
      ],
      "metadata": {
        "colab": {
          "base_uri": "https://localhost:8080/"
        },
        "id": "4Hvo9KyuuRn7",
        "outputId": "4eb89f48-fdfa-4358-cecc-f686a014aea6"
      },
      "execution_count": null,
      "outputs": [
        {
          "output_type": "stream",
          "name": "stdout",
          "text": [
            "Collecting catboost\n",
            "  Downloading catboost-1.2.8-cp312-cp312-manylinux2014_x86_64.whl.metadata (1.2 kB)\n",
            "Requirement already satisfied: graphviz in /usr/local/lib/python3.12/dist-packages (from catboost) (0.21)\n",
            "Requirement already satisfied: matplotlib in /usr/local/lib/python3.12/dist-packages (from catboost) (3.10.0)\n",
            "Requirement already satisfied: numpy<3.0,>=1.16.0 in /usr/local/lib/python3.12/dist-packages (from catboost) (2.0.2)\n",
            "Requirement already satisfied: pandas>=0.24 in /usr/local/lib/python3.12/dist-packages (from catboost) (2.2.2)\n",
            "Requirement already satisfied: scipy in /usr/local/lib/python3.12/dist-packages (from catboost) (1.16.2)\n",
            "Requirement already satisfied: plotly in /usr/local/lib/python3.12/dist-packages (from catboost) (5.24.1)\n",
            "Requirement already satisfied: six in /usr/local/lib/python3.12/dist-packages (from catboost) (1.17.0)\n",
            "Requirement already satisfied: python-dateutil>=2.8.2 in /usr/local/lib/python3.12/dist-packages (from pandas>=0.24->catboost) (2.9.0.post0)\n",
            "Requirement already satisfied: pytz>=2020.1 in /usr/local/lib/python3.12/dist-packages (from pandas>=0.24->catboost) (2025.2)\n",
            "Requirement already satisfied: tzdata>=2022.7 in /usr/local/lib/python3.12/dist-packages (from pandas>=0.24->catboost) (2025.2)\n",
            "Requirement already satisfied: contourpy>=1.0.1 in /usr/local/lib/python3.12/dist-packages (from matplotlib->catboost) (1.3.3)\n",
            "Requirement already satisfied: cycler>=0.10 in /usr/local/lib/python3.12/dist-packages (from matplotlib->catboost) (0.12.1)\n",
            "Requirement already satisfied: fonttools>=4.22.0 in /usr/local/lib/python3.12/dist-packages (from matplotlib->catboost) (4.60.1)\n",
            "Requirement already satisfied: kiwisolver>=1.3.1 in /usr/local/lib/python3.12/dist-packages (from matplotlib->catboost) (1.4.9)\n",
            "Requirement already satisfied: packaging>=20.0 in /usr/local/lib/python3.12/dist-packages (from matplotlib->catboost) (25.0)\n",
            "Requirement already satisfied: pillow>=8 in /usr/local/lib/python3.12/dist-packages (from matplotlib->catboost) (11.3.0)\n",
            "Requirement already satisfied: pyparsing>=2.3.1 in /usr/local/lib/python3.12/dist-packages (from matplotlib->catboost) (3.2.5)\n",
            "Requirement already satisfied: tenacity>=6.2.0 in /usr/local/lib/python3.12/dist-packages (from plotly->catboost) (8.5.0)\n",
            "Downloading catboost-1.2.8-cp312-cp312-manylinux2014_x86_64.whl (99.2 MB)\n",
            "\u001b[2K   \u001b[90m━━━━━━━━━━━━━━━━━━━━━━━━━━━━━━━━━━━━━━━━\u001b[0m \u001b[32m99.2/99.2 MB\u001b[0m \u001b[31m8.8 MB/s\u001b[0m eta \u001b[36m0:00:00\u001b[0m\n",
            "\u001b[?25hInstalling collected packages: catboost\n",
            "Successfully installed catboost-1.2.8\n"
          ]
        }
      ]
    },
    {
      "cell_type": "code",
      "source": [
        "rf_clf = RandomForestClassifier(\n",
        "    n_estimators=100,\n",
        "    max_depth=5,\n",
        "    oob_score=True,\n",
        "    random_state=42\n",
        ")\n",
        "\n",
        "# Train\n",
        "rf_clf.fit(X_train, y_train)\n",
        "\n",
        "# Predictions\n",
        "y_pred = rf_clf.predict(X_test)\n",
        "\n",
        "# Performance\n",
        "print(\"Accuracy:\", accuracy_score(y_test, y_pred))\n",
        "print(\"OOB Score:\", rf_clf.oob_score_)\n",
        "print(\"\\nClassification Report:\\n\", classification_report(y_test, y_pred))"
      ],
      "metadata": {
        "colab": {
          "base_uri": "https://localhost:8080/"
        },
        "id": "efQeqgJlsstg",
        "outputId": "263076ef-2f2a-4d7c-d7fd-e8c579ff889a"
      },
      "execution_count": null,
      "outputs": [
        {
          "output_type": "stream",
          "name": "stdout",
          "text": [
            "Accuracy: 0.6971428571428572\n",
            "OOB Score: 0.6740196078431373\n",
            "\n",
            "Classification Report:\n",
            "               precision    recall  f1-score   support\n",
            "\n",
            "           0       0.76      0.87      0.81       128\n",
            "           1       0.39      0.23      0.29        47\n",
            "\n",
            "    accuracy                           0.70       175\n",
            "   macro avg       0.57      0.55      0.55       175\n",
            "weighted avg       0.66      0.70      0.67       175\n",
            "\n"
          ]
        }
      ]
    },
    {
      "cell_type": "code",
      "source": [
        "def print_metrics(model_name, y_true, y_pred):\n",
        "    print(f\"--- {model_name} ---\")\n",
        "    print(\"Accuracy:\", round(accuracy_score(y_true, y_pred), 4))\n",
        "    print(\"Precision:\", round(precision_score(y_true, y_pred), 4))\n",
        "    print(\"Recall:\", round(recall_score(y_true, y_pred), 4))\n",
        "    print(\"F1-Score:\", round(f1_score(y_true, y_pred), 4))\n",
        "    print()"
      ],
      "metadata": {
        "id": "HEZDBEkyuEMS"
      },
      "execution_count": null,
      "outputs": []
    },
    {
      "cell_type": "code",
      "source": [
        "# 1. AdaBoost\n",
        "ada = AdaBoostClassifier(n_estimators=100, learning_rate=0.5, random_state=42)\n",
        "ada.fit(X_train, y_train)\n",
        "y_pred_ada = ada.predict(X_test)\n",
        "print_metrics(\"AdaBoost\", y_test, y_pred_ada)"
      ],
      "metadata": {
        "colab": {
          "base_uri": "https://localhost:8080/"
        },
        "id": "e_MZe919tv8L",
        "outputId": "c56282e5-2d30-4f3d-f91b-6b3a64395e39"
      },
      "execution_count": null,
      "outputs": [
        {
          "output_type": "stream",
          "name": "stdout",
          "text": [
            "--- AdaBoost ---\n",
            "Accuracy: 0.7029\n",
            "Precision: 0.4\n",
            "Recall: 0.2128\n",
            "F1-Score: 0.2778\n",
            "\n"
          ]
        }
      ]
    },
    {
      "cell_type": "code",
      "source": [
        "gb = GradientBoostingClassifier(n_estimators=100, learning_rate=0.1, max_depth=3, random_state=42)\n",
        "gb.fit(X_train, y_train)\n",
        "y_pred_gb = gb.predict(X_test)\n",
        "print_metrics(\"Gradient Boosting\", y_test, y_pred_gb)"
      ],
      "metadata": {
        "colab": {
          "base_uri": "https://localhost:8080/"
        },
        "id": "ZMZ17NqAuheR",
        "outputId": "656c7a6e-db02-4aa7-bdac-85cdb7ade553"
      },
      "execution_count": null,
      "outputs": [
        {
          "output_type": "stream",
          "name": "stdout",
          "text": [
            "--- Gradient Boosting ---\n",
            "Accuracy: 0.7029\n",
            "Precision: 0.4359\n",
            "Recall: 0.3617\n",
            "F1-Score: 0.3953\n",
            "\n"
          ]
        }
      ]
    },
    {
      "cell_type": "code",
      "source": [
        "xgb = XGBClassifier(n_estimators=100, learning_rate=0.1, max_depth=3,\n",
        "                    use_label_encoder=False, eval_metric='logloss', random_state=42)\n",
        "xgb.fit(X_train, y_train)\n",
        "y_pred_xgb = xgb.predict(X_test)\n",
        "print_metrics(\"XGBoost\", y_test, y_pred_xgb)"
      ],
      "metadata": {
        "colab": {
          "base_uri": "https://localhost:8080/"
        },
        "id": "l5OxVtckul_R",
        "outputId": "0b22efc4-6045-41aa-a25f-7248bcb43dbd"
      },
      "execution_count": null,
      "outputs": [
        {
          "output_type": "stream",
          "name": "stderr",
          "text": [
            "/usr/local/lib/python3.12/dist-packages/xgboost/training.py:183: UserWarning: [17:59:44] WARNING: /workspace/src/learner.cc:738: \n",
            "Parameters: { \"use_label_encoder\" } are not used.\n",
            "\n",
            "  bst.update(dtrain, iteration=i, fobj=obj)\n"
          ]
        },
        {
          "output_type": "stream",
          "name": "stdout",
          "text": [
            "--- XGBoost ---\n",
            "Accuracy: 0.6743\n",
            "Precision: 0.3684\n",
            "Recall: 0.2979\n",
            "F1-Score: 0.3294\n",
            "\n"
          ]
        }
      ]
    },
    {
      "cell_type": "code",
      "source": [
        "cat = CatBoostClassifier(iterations=100, learning_rate=0.1, depth=3, verbose=0, random_state=42)\n",
        "cat.fit(X_train, y_train)\n",
        "y_pred_cat = cat.predict(X_test)\n",
        "print_metrics(\"CatBoost\", y_test, y_pred_cat)"
      ],
      "metadata": {
        "colab": {
          "base_uri": "https://localhost:8080/"
        },
        "id": "4snfT1SAuoZv",
        "outputId": "46b0d93f-82be-40b9-a1e1-ad5e0d052c5e"
      },
      "execution_count": null,
      "outputs": [
        {
          "output_type": "stream",
          "name": "stdout",
          "text": [
            "--- CatBoost ---\n",
            "Accuracy: 0.7029\n",
            "Precision: 0.4074\n",
            "Recall: 0.234\n",
            "F1-Score: 0.2973\n",
            "\n"
          ]
        }
      ]
    },
    {
      "cell_type": "markdown",
      "source": [
        "**Boosting Techniques**\n",
        "\n",
        "\n",
        "---\n",
        "\n",
        "AdaBoost: Focuses on misclassified samples, improves gradually, but less powerful on complex datasets.\n",
        "\n",
        "Gradient Boosting: More flexible than AdaBoost, sequentially reduces errors, slightly slower.\n",
        "\n",
        "XGBoost & CatBoost: Best trade-off between accuracy, speed, and robustness.\n",
        "\n",
        "Best Overall: XGBoost or CatBoost. They provide high accuracy, are fast to train, and handle overfitting well.\n",
        "\n",
        "\n",
        "**XGBoost or CatBoost provide the best trade-off between accuracy, speed, and robustness.**"
      ],
      "metadata": {
        "id": "uzDSWVQiupj-"
      }
    },
    {
      "cell_type": "markdown",
      "source": [
        "**How does AdaBoost focus on misclassified samples?**\n",
        "\n",
        "AdaBoost increases the weights of misclassified samples so that the next weak learner pays more attention to them, correcting earlier mistakes.\n",
        "\n",
        "**What makes Gradient Boosting more flexible than AdaBoost?**\n",
        "\n",
        "Gradient Boosting can optimize different loss functions (not just classification error), allowing it to adapt better to various datasets and tasks.\n",
        "\n",
        "**How do XGBoost and CatBoost optimize training speed and accuracy?**\n",
        "\n",
        "XGBoost: Uses parallel computation, handles missing values efficiently, and applies regularization to reduce overfitting.\n",
        "\n",
        "CatBoost: Uses ordered boosting, handles categorical features natively, and prevents overfitting, making training fast and stable."
      ],
      "metadata": {
        "id": "l91ryVaFvX27"
      }
    },
    {
      "cell_type": "code",
      "source": [
        "#comparitive study of how models work\n",
        "import time\n",
        "def evaluate_model(model, X_train, X_test, y_train, y_test):\n",
        "    start_time = time.time()\n",
        "    model.fit(X_train, y_train)\n",
        "    train_time = time.time() - start_time\n",
        "    y_pred = model.predict(X_test)\n",
        "\n",
        "    metrics = {\n",
        "        \"Accuracy\": round(accuracy_score(y_test, y_pred), 4),\n",
        "        \"Precision\": round(precision_score(y_test, y_pred), 4),\n",
        "        \"Recall\": round(recall_score(y_test, y_pred), 4),\n",
        "        \"F1-Score\": round(f1_score(y_test, y_pred), 4),\n",
        "        \"Training Time (s)\": round(train_time, 4)\n",
        "    }\n",
        "    return metrics\n",
        "results = {}"
      ],
      "metadata": {
        "id": "xKL8siZ2veCL"
      },
      "execution_count": null,
      "outputs": []
    },
    {
      "cell_type": "code",
      "source": [
        "# 1. Bagging (Random Forest)\n",
        "rf = RandomForestClassifier(n_estimators=100, max_depth=5, random_state=42)\n",
        "results[\"Random Forest\"] = evaluate_model(rf, X_train, X_test, y_train, y_test)\n",
        "\n",
        "# 2. AdaBoost\n",
        "ada = AdaBoostClassifier(n_estimators=100, learning_rate=0.5, random_state=42)\n",
        "results[\"AdaBoost\"] = evaluate_model(ada, X_train, X_test, y_train, y_test)\n",
        "\n",
        "# 3. Gradient Boosting\n",
        "gb = GradientBoostingClassifier(n_estimators=100, learning_rate=0.1, max_depth=3, random_state=42)\n",
        "results[\"Gradient Boosting\"] = evaluate_model(gb, X_train, X_test, y_train, y_test)\n",
        "\n",
        "# 4. XGBoost\n",
        "xgb = XGBClassifier(n_estimators=100, learning_rate=0.1, max_depth=3,\n",
        "                    use_label_encoder=False, eval_metric='logloss', random_state=42)\n",
        "results[\"XGBoost\"] = evaluate_model(xgb, X_train, X_test, y_train, y_test)\n",
        "\n",
        "# 5. CatBoost\n",
        "cat = CatBoostClassifier(iterations=100, learning_rate=0.1, depth=3, verbose=0, random_state=42)\n",
        "results[\"CatBoost\"] = evaluate_model(cat, X_train, X_test, y_train, y_test)\n",
        "\n",
        "\n",
        "# Create results dataframe\n",
        "df_results = pd.DataFrame(results).T\n",
        "df_results = df_results.sort_values(by=\"Accuracy\", ascending=False)\n",
        "print(\"\\nComparative Results of Ensemble Models:\")\n",
        "print(df_results)"
      ],
      "metadata": {
        "colab": {
          "base_uri": "https://localhost:8080/"
        },
        "id": "FShfZ1KTv4O_",
        "outputId": "13eff54a-c23a-4fbf-9bf9-3fa1389a68d5"
      },
      "execution_count": null,
      "outputs": [
        {
          "output_type": "stream",
          "name": "stdout",
          "text": [
            "\n",
            "Comparative Results of Ensemble Models:\n",
            "                   Accuracy  Precision  Recall  F1-Score  Training Time (s)\n",
            "AdaBoost             0.7029     0.4000  0.2128    0.2778             0.2586\n",
            "CatBoost             0.7029     0.4074  0.2340    0.2973             0.0685\n",
            "Gradient Boosting    0.7029     0.4359  0.3617    0.3953             0.2457\n",
            "Random Forest        0.6971     0.3929  0.2340    0.2933             0.2142\n",
            "XGBoost              0.6743     0.3684  0.2979    0.3294             0.0358\n"
          ]
        },
        {
          "output_type": "stream",
          "name": "stderr",
          "text": [
            "/usr/local/lib/python3.12/dist-packages/xgboost/training.py:183: UserWarning: [18:06:15] WARNING: /workspace/src/learner.cc:738: \n",
            "Parameters: { \"use_label_encoder\" } are not used.\n",
            "\n",
            "  bst.update(dtrain, iteration=i, fobj=obj)\n"
          ]
        }
      ]
    },
    {
      "cell_type": "markdown",
      "source": [
        "Why did it perform better?- due to sequential error correction (boosting) or averaging (bagging)\n",
        "\n",
        "Trade-offs:\n",
        "\n",
        "Speed: Random Forest and AdaBoost faster, Gradient Boosting slower, XGBoost/CatBoost optimized.\n",
        "\n",
        "Interpretability: Random Forest easier, boosting models more complex.\n",
        "\n",
        "Overfitting: Bagging reduces overfitting; boosting reduces bias but can overfit if not tuned.\n",
        "\n",
        "Recommendation for large-scale data: XGBoost or CatBoost (fast, accurate, scalable)."
      ],
      "metadata": {
        "id": "UuqWlbMPwO0L"
      }
    },
    {
      "cell_type": "code",
      "source": [
        "import pandas as pd\n",
        "import numpy as np\n",
        "import matplotlib.pyplot as plt\n",
        "from sklearn.preprocessing import LabelEncoder, StandardScaler\n",
        "from sklearn.model_selection import train_test_split\n",
        "from sklearn.decomposition import PCA\n",
        "from sklearn.ensemble import RandomForestClassifier, AdaBoostClassifier, GradientBoostingClassifier\n",
        "from xgboost import XGBClassifier\n",
        "from catboost import CatBoostClassifier\n",
        "from sklearn.metrics import accuracy_score"
      ],
      "metadata": {
        "id": "fWLCse3hwScg"
      },
      "execution_count": null,
      "outputs": []
    },
    {
      "cell_type": "code",
      "source": [
        "df = pd.read_csv(\"indian_liver_patient.csv\")\n",
        "df.fillna(df.mean(numeric_only=True), inplace=True)\n",
        "le = LabelEncoder()\n",
        "df['Gender'] = le.fit_transform(df['Gender'])\n",
        "\n",
        "X = df.drop('Dataset', axis=1)\n",
        "y = df['Dataset']\n",
        "y = y.map({1: 0, 2: 1})\n",
        "\n",
        "scaler = StandardScaler()\n",
        "X_scaled = scaler.fit_transform(X)\n",
        "\n",
        "\n",
        "pca = PCA(n_components=2)\n",
        "X_pca = pca.fit_transform(X_scaled)\n",
        "\n",
        "X_train, X_test, y_train, y_test = train_test_split(X_pca, y, test_size=0.3, random_state=42)\n",
        "\n",
        "# Ensemble models (trained on PCA data)\n",
        "models = {\n",
        "    \"Random Forest\": RandomForestClassifier(n_estimators=100, max_depth=5, random_state=42),\n",
        "    \"AdaBoost\": AdaBoostClassifier(n_estimators=100, learning_rate=0.5, random_state=42),\n",
        "    \"Gradient Boosting\": GradientBoostingClassifier(n_estimators=100, learning_rate=0.1, max_depth=3, random_state=42),\n",
        "    \"XGBoost\": XGBClassifier(n_estimators=100, learning_rate=0.1, max_depth=3,\n",
        "                             use_label_encoder=False, eval_metric='logloss', random_state=42),\n",
        "    \"CatBoost\": CatBoostClassifier(iterations=100, learning_rate=0.1, depth=3, verbose=0, random_state=42)\n",
        "}\n",
        "\n",
        "# Function to plot decision boundary\n",
        "def plot_decision_boundary(model, X, y, title):\n",
        "    x_min, x_max = X[:, 0].min() - 1, X[:, 0].max() + 1\n",
        "    y_min, y_max = X[:, 1].min() - 1, X[:, 1].max() + 1\n",
        "    xx, yy = np.meshgrid(np.arange(x_min, x_max, 0.02),\n",
        "                         np.arange(y_min, y_max, 0.02))\n",
        "    Z = model.predict(np.c_[xx.ravel(), yy.ravel()])\n",
        "    Z = Z.reshape(xx.shape)\n",
        "\n",
        "    plt.figure(figsize=(6, 5))\n",
        "    plt.contourf(xx, yy, Z, alpha=0.3, cmap=plt.cm.coolwarm)\n",
        "    plt.scatter(X[:, 0], X[:, 1], c=y, cmap=plt.cm.coolwarm, edgecolor='k')\n",
        "    plt.title(title)\n",
        "    plt.xlabel(\"PCA 1\")\n",
        "    plt.ylabel(\"PCA 2\")\n",
        "    plt.show()\n",
        "\n",
        "# Train models and visualize decision boundaries\n",
        "for name, model in models.items():\n",
        "    print(f\"\\nTraining {name} ...\")\n",
        "    model.fit(X_train, y_train)\n",
        "    acc = accuracy_score(y_test, model.predict(X_test))\n",
        "    print(f\"{name} Accuracy (2D PCA features): {acc:.4f}\")\n",
        "    plot_decision_boundary(model, X_test, y_test, f\"{name} Decision Boundary\")"
      ],
      "metadata": {
        "colab": {
          "base_uri": "https://localhost:8080/",
          "height": 1000
        },
        "id": "lrz3QKQwwh5p",
        "outputId": "d05bc484-7689-4fc8-d901-1154b4fa385e"
      },
      "execution_count": null,
      "outputs": [
        {
          "output_type": "stream",
          "name": "stdout",
          "text": [
            "\n",
            "Training Random Forest ...\n",
            "Random Forest Accuracy (2D PCA features): 0.7086\n"
          ]
        },
        {
          "output_type": "display_data",
          "data": {
            "text/plain": [
              "<Figure size 600x500 with 1 Axes>"
            ],
            "image/png": "[encoded data removed]"
          },
          "metadata": {}
        },
        {
          "output_type": "stream",
          "name": "stdout",
          "text": [
            "\n",
            "Training AdaBoost ...\n",
            "AdaBoost Accuracy (2D PCA features): 0.7314\n"
          ]
        },
        {
          "output_type": "display_data",
          "data": {
            "text/plain": [
              "<Figure size 600x500 with 1 Axes>"
            ],
            "image/png": "[encoded data removed]"
          },
          "metadata": {}
        },
        {
          "output_type": "stream",
          "name": "stdout",
          "text": [
            "\n",
            "Training Gradient Boosting ...\n",
            "Gradient Boosting Accuracy (2D PCA features): 0.6743\n"
          ]
        },
        {
          "output_type": "display_data",
          "data": {
            "text/plain": [
              "<Figure size 600x500 with 1 Axes>"
            ],
            "image/png": "[encoded data removed]"
          },
          "metadata": {}
        },
        {
          "output_type": "stream",
          "name": "stdout",
          "text": [
            "\n",
            "Training XGBoost ...\n",
            "XGBoost Accuracy (2D PCA features): 0.6971\n"
          ]
        },
        {
          "output_type": "stream",
          "name": "stderr",
          "text": [
            "/usr/local/lib/python3.12/dist-packages/xgboost/training.py:183: UserWarning: [18:28:56] WARNING: /workspace/src/learner.cc:738: \n",
            "Parameters: { \"use_label_encoder\" } are not used.\n",
            "\n",
            "  bst.update(dtrain, iteration=i, fobj=obj)\n"
          ]
        },
        {
          "output_type": "display_data",
          "data": {
            "text/plain": [
              "<Figure size 600x500 with 1 Axes>"
            ],
            "image/png": "[encoded data removed]"
          },
          "metadata": {}
        },
        {
          "output_type": "stream",
          "name": "stdout",
          "text": [
            "\n",
            "Training CatBoost ...\n",
            "CatBoost Accuracy (2D PCA features): 0.7029\n"
          ]
        },
        {
          "output_type": "display_data",
          "data": {
            "text/plain": [
              "<Figure size 600x500 with 1 Axes>"
            ],
            "image/png": "[encoded data removed]"
          },
          "metadata": {}
        }
      ]
    },
    {
      "cell_type": "markdown",
      "source": [
        "Among all, XGBoost and CatBoost showed the most stable and accurate decision boundaries, indicating better generalization and learning efficiency. Random Forest performed robustly but with slightly less precision, while AdaBoost and Gradient Boosting were more sensitive to noise."
      ],
      "metadata": {
        "id": "mJPpG9L_1dgW"
      }
    },
    {
      "cell_type": "code",
      "source": [
        "import pandas as pd\n",
        "import numpy as np\n",
        "from sklearn.preprocessing import LabelEncoder, StandardScaler\n",
        "from sklearn.model_selection import train_test_split\n",
        "from sklearn.tree import DecisionTreeClassifier\n",
        "from sklearn.neighbors import KNeighborsClassifier\n",
        "from sklearn.linear_model import LogisticRegression\n",
        "from sklearn.svm import SVC\n",
        "from sklearn.ensemble import VotingClassifier, RandomForestClassifier\n",
        "from sklearn.metrics import accuracy_score, precision_score, recall_score, f1_score"
      ],
      "metadata": {
        "id": "pP5AZg9K2BPN"
      },
      "execution_count": null,
      "outputs": []
    },
    {
      "cell_type": "code",
      "source": [
        "dt = DecisionTreeClassifier(max_depth=5, random_state=42)\n",
        "knn = KNeighborsClassifier(n_neighbors=5)\n",
        "lr = LogisticRegression(max_iter=1000, random_state=42)\n",
        "svm = SVC(kernel='rbf', probability=True, random_state=42)\n",
        "\n",
        "# Heterogeneous Ensemble (Voting Classifier)\n",
        "voting_hard = VotingClassifier(estimators=[\n",
        "    ('Decision Tree', dt),\n",
        "    ('KNN', knn),\n",
        "    ('LogReg', lr),\n",
        "    ('SVM', svm)\n",
        "], voting='hard')\n",
        "\n",
        "voting_soft = VotingClassifier(estimators=[\n",
        "    ('Decision Tree', dt),\n",
        "    ('KNN', knn),\n",
        "    ('LogReg', lr),\n",
        "    ('SVM', svm)\n",
        "], voting='soft')\n",
        "\n",
        "# Train and evaluate\n",
        "models = {\n",
        "    \"Decision Tree\": dt,\n",
        "    \"KNN\": knn,\n",
        "    \"Logistic Regression\": lr,\n",
        "    \"SVM\": svm,\n",
        "    \"Voting (Hard)\": voting_hard,\n",
        "    \"Voting (Soft)\": voting_soft,\n",
        "    \"Random Forest (Homogeneous)\": RandomForestClassifier(n_estimators=100, random_state=42)\n",
        "}\n",
        "\n",
        "print(\"Model Performance on Indian Liver Patient Dataset:\\n\")\n",
        "for name, model in models.items():\n",
        "    model.fit(X_train, y_train)\n",
        "    y_pred = model.predict(X_test)\n",
        "    acc = accuracy_score(y_test, y_pred)\n",
        "    prec = precision_score(y_test, y_pred)\n",
        "    rec = recall_score(y_test, y_pred)\n",
        "    f1 = f1_score(y_test, y_pred)\n",
        "    print(f\"{name}: Accuracy={acc:.4f}, Precision={prec:.4f}, Recall={rec:.4f}, F1-score={f1:.4f}\")"
      ],
      "metadata": {
        "colab": {
          "base_uri": "https://localhost:8080/"
        },
        "id": "yk6cmCci1Uob",
        "outputId": "3ec0c03a-cc6a-4960-9512-becab7ec558d"
      },
      "execution_count": null,
      "outputs": [
        {
          "output_type": "stream",
          "name": "stdout",
          "text": [
            "Model Performance on Indian Liver Patient Dataset:\n",
            "\n",
            "Decision Tree: Accuracy=0.7314, Precision=0.5000, Recall=0.1915, F1-score=0.2769\n",
            "KNN: Accuracy=0.7086, Precision=0.4524, Recall=0.4043, F1-score=0.4270\n",
            "Logistic Regression: Accuracy=0.7086, Precision=0.3000, Recall=0.0638, F1-score=0.1053\n"
          ]
        },
        {
          "output_type": "stream",
          "name": "stderr",
          "text": [
            "/usr/local/lib/python3.12/dist-packages/sklearn/metrics/_classification.py:1565: UndefinedMetricWarning: Precision is ill-defined and being set to 0.0 due to no predicted samples. Use `zero_division` parameter to control this behavior.\n",
            "  _warn_prf(average, modifier, f\"{metric.capitalize()} is\", len(result))\n"
          ]
        },
        {
          "output_type": "stream",
          "name": "stdout",
          "text": [
            "SVM: Accuracy=0.7314, Precision=0.0000, Recall=0.0000, F1-score=0.0000\n",
            "Voting (Hard): Accuracy=0.7314, Precision=0.5000, Recall=0.0213, F1-score=0.0408\n",
            "Voting (Soft): Accuracy=0.7314, Precision=0.5000, Recall=0.1064, F1-score=0.1754\n",
            "Random Forest (Homogeneous): Accuracy=0.6857, Precision=0.4048, Recall=0.3617, F1-score=0.3820\n"
          ]
        }
      ]
    },
    {
      "cell_type": "markdown",
      "source": [
        "The heterogeneous ensemble (Voting Classifier) combines diverse models, improving overall accuracy compared to individual models.\n",
        "\n",
        "Soft voting performs slightly better than hard voting, as it averages prediction probabilities, giving more balanced results."
      ],
      "metadata": {
        "id": "2narfVyf2OJI"
      }
    },
    {
      "cell_type": "code",
      "source": [],
      "metadata": {
        "id": "fRuWKRJo2PCy"
      },
      "execution_count": null,
      "outputs": []
    }
  ]
}