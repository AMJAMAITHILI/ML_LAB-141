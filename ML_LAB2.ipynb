{
  "nbformat": 4,
  "nbformat_minor": 0,
  "metadata": {
    "colab": {
      "provenance": [],
      "gpuType": "T4",
      "mount_file_id": "1ooae1fE7TQlEvHHjmqw4s7ncfS4WEufz",
      "authorship_tag": "ABX9TyPNTQvm9Juexgnc6QWo9PxC",
      "include_colab_link": true
    },
    "kernelspec": {
      "name": "python3",
      "display_name": "Python 3"
    },
    "language_info": {
      "name": "python"
    },
    "accelerator": "GPU"
  },
  "cells": [
    {
      "cell_type": "markdown",
      "metadata": {
        "id": "view-in-github",
        "colab_type": "text"
      },
      "source": [
        "<a href=\"https://colab.research.google.com/github/AMJAMAITHILI/ML_LAB-141/blob/main/ML_LAB2.ipynb\" target=\"_parent\"><img src=\"https://colab.research.google.com/assets/colab-badge.svg\" alt=\"Open In Colab\"/></a>"
      ]
    },
    {
      "cell_type": "code",
      "source": [
        "from google.colab import drive\n",
        "drive.mount('/content/drive')"
      ],
      "metadata": {
        "colab": {
          "base_uri": "https://localhost:8080/"
        },
        "id": "Qw5r5ctSlcJi",
        "outputId": "f82710fb-9650-4619-b68a-4f0bb4d7c82a"
      },
      "execution_count": null,
      "outputs": [
        {
          "output_type": "stream",
          "name": "stdout",
          "text": [
            "Drive already mounted at /content/drive; to attempt to forcibly remount, call drive.mount(\"/content/drive\", force_remount=True).\n"
          ]
        }
      ]
    },
    {
      "cell_type": "code",
      "source": [
        "import pandas as pd"
      ],
      "metadata": {
        "id": "XiRr-T2An6yX"
      },
      "execution_count": null,
      "outputs": []
    },
    {
      "cell_type": "code",
      "source": [
        "url1 = '/content/drive/MyDrive/datasets/Santander Customer Satisfaction_train.csv'\n",
        "url2 = '/content/drive/MyDrive/datasets/house_price_train.csv'\n",
        "url3 = '/content/drive/MyDrive/datasets/titanic_train.csv'\n",
        "\n",
        "# Read CSVs\n",
        "df1 = pd.read_csv(url2)\n",
        "df2 = pd.read_csv(url3)\n",
        "df3 = pd.read_csv(url1)"
      ],
      "metadata": {
        "id": "0BN_vL8xmpny"
      },
      "execution_count": null,
      "outputs": []
    },
    {
      "cell_type": "code",
      "source": [
        "# Show only columns with at least one NaN\n",
        "null_columns = df1.columns[df1.isnull().any()]\n",
        "print(\"Columns with NaN values:\")\n",
        "print(null_columns)"
      ],
      "metadata": {
        "colab": {
          "base_uri": "https://localhost:8080/"
        },
        "id": "atF_hpnorsGS",
        "outputId": "39a9c89d-57e4-4e49-d113-0871d12a16e5"
      },
      "execution_count": null,
      "outputs": [
        {
          "output_type": "stream",
          "name": "stdout",
          "text": [
            "Columns with NaN values:\n",
            "Index(['LotFrontage', 'Alley', 'MasVnrType', 'MasVnrArea', 'BsmtQual',\n",
            "       'BsmtCond', 'BsmtExposure', 'BsmtFinType1', 'BsmtFinType2',\n",
            "       'Electrical', 'FireplaceQu', 'GarageType', 'GarageYrBlt',\n",
            "       'GarageFinish', 'GarageQual', 'GarageCond', 'PoolQC', 'Fence',\n",
            "       'MiscFeature'],\n",
            "      dtype='object')\n"
          ]
        }
      ]
    },
    {
      "cell_type": "code",
      "source": [
        "fill_values = {}\n",
        "\n",
        "# Numeric columns → mean\n",
        "fill_values.update(df1.mean(numeric_only=True))#update method adds the column names (as keys) and their corresponding means to the fill_values dict\n",
        "\n",
        "# Object/text columns → mode\n",
        "fill_values.update({\n",
        "    col: df1[col].mode(dropna=True)[0] #ignoring NaN values so dropna=True [0]->first of many modes\n",
        "    for col in df1.select_dtypes(include='object').columns\n",
        "    if not df1[col].mode(dropna=True).empty\n",
        "})\n",
        "\n",
        "df1.fillna(fill_values, inplace=True)"
      ],
      "metadata": {
        "id": "hJCcgPvXs7yi"
      },
      "execution_count": null,
      "outputs": []
    },
    {
      "cell_type": "code",
      "source": [
        "fill_values = {}\n",
        "\n",
        "# Numeric columns → mean\n",
        "fill_values.update(df2.mean(numeric_only=True))#update method adds the column names (as keys) and their corresponding means to the fill_values dict\n",
        "\n",
        "# Object/text columns → mode\n",
        "fill_values.update({\n",
        "    col: df2[col].mode(dropna=True)[0] #ignoring NaN values so dropna=True [0]->first of many modes\n",
        "    for col in df2.select_dtypes(include='object').columns\n",
        "    if not df2[col].mode(dropna=True).empty\n",
        "})\n",
        "\n",
        "df2.fillna(fill_values, inplace=True)"
      ],
      "metadata": {
        "id": "dkd49zyCfLaf"
      },
      "execution_count": null,
      "outputs": []
    },
    {
      "cell_type": "code",
      "source": [
        "# Show only columns with at least one NaN\n",
        "null_columns = df1.columns[df1.isnull().any()]\n",
        "print(\"Columns with NaN values:\")\n",
        "print(null_columns)"
      ],
      "metadata": {
        "colab": {
          "base_uri": "https://localhost:8080/"
        },
        "id": "ReGR5_RUs-9x",
        "outputId": "040c2fa7-cb2b-4fcf-fbde-dc198dacc73b"
      },
      "execution_count": null,
      "outputs": [
        {
          "output_type": "stream",
          "name": "stdout",
          "text": [
            "Columns with NaN values:\n",
            "Index([], dtype='object')\n"
          ]
        }
      ]
    },
    {
      "cell_type": "code",
      "source": [
        "from sklearn.model_selection import train_test_split\n",
        "x_train,x_test,y_train,y_test=train_test_split(df1.drop(columns=\"SalePrice\"),df1[\"SalePrice\"],test_size=0.3,random_state=0)"
      ],
      "metadata": {
        "id": "UGEga5eznvAa"
      },
      "execution_count": null,
      "outputs": []
    },
    {
      "cell_type": "code",
      "source": [
        "constant_features = [\n",
        "    feature for feature in x_test if x_test[feature].nunique() == 1\n",
        "]\n",
        "print(constant_features)"
      ],
      "metadata": {
        "colab": {
          "base_uri": "https://localhost:8080/"
        },
        "id": "94BRGQA4vXOp",
        "outputId": "92cb8860-20e7-4eb2-f9ff-409c12d6bcc3"
      },
      "execution_count": null,
      "outputs": [
        {
          "output_type": "stream",
          "name": "stdout",
          "text": [
            "['Utilities']\n"
          ]
        }
      ]
    },
    {
      "cell_type": "code",
      "source": [
        "quasi_constant_features = []\n",
        "\n",
        "for col in x_train.columns:\n",
        "    top_freq = x_train[col].value_counts(normalize=True).max()\n",
        "    if top_freq > 0.99:      # appears in 99% of rows\n",
        "        quasi_constant_features.append(col)\n",
        "\n",
        "print(\"Quasi-constant features found:\", quasi_constant_features)"
      ],
      "metadata": {
        "colab": {
          "base_uri": "https://localhost:8080/"
        },
        "id": "TAXBjT74wvc6",
        "outputId": "334628f7-ec4b-460e-e005-5fcf20a00fd4"
      },
      "execution_count": null,
      "outputs": [
        {
          "output_type": "stream",
          "name": "stdout",
          "text": [
            "Quasi-constant features found: ['Street', 'Utilities', 'Condition2', 'PoolArea', 'PoolQC', 'MiscFeature']\n"
          ]
        }
      ]
    },
    {
      "cell_type": "code",
      "source": [
        "duplicate_features = []\n",
        "\n",
        "# Iterate over columns\n",
        "for i in range(len(x_train.columns)):\n",
        "    col1 = x_train.columns[i]\n",
        "    for j in range(i + 1, len(x_train.columns)):\n",
        "        col2 = x_train.columns[j]\n",
        "\n",
        "        # Check if both columns are identical\n",
        "        if x_train[col1].equals(x_train[col2]):\n",
        "            duplicate_features.append(col2)\n",
        "\n",
        "print(\"Duplicate features found:\", duplicate_features)"
      ],
      "metadata": {
        "colab": {
          "base_uri": "https://localhost:8080/"
        },
        "id": "G8oT1GwkxjA6",
        "outputId": "330092b3-3d46-404c-cb13-3dc848e8be8e"
      },
      "execution_count": null,
      "outputs": [
        {
          "output_type": "stream",
          "name": "stdout",
          "text": [
            "Duplicate features found: []\n"
          ]
        }
      ]
    },
    {
      "cell_type": "code",
      "source": [
        "# Keep only numeric columns for correlation\n",
        "import matplotlib.pyplot as plt\n",
        "import seaborn as sns\n",
        "X = df1.select_dtypes(include='number')\n",
        "corrmat = X.corr()\n",
        "\n",
        "fig, ax = plt.subplots()\n",
        "fig.set_size_inches(5,5)\n",
        "sns.heatmap(corrmat)\n",
        "def correlation(dataset, threshold):\n",
        "    col_corr = set()\n",
        "    corr_matrix = dataset.corr()\n",
        "\n",
        "    for i in range(len(corr_matrix.columns)):\n",
        "        for j in range(i):\n",
        "            if abs(corr_matrix.iloc[i, j]) > threshold:\n",
        "                colname = corr_matrix.columns[i]\n",
        "                col_corr.add(colname)\n",
        "    return col_corr\n",
        "corr_features = correlation(X, 0.9)\n",
        "correlated_features = set(corr_features)\n",
        "print(\"Number of correlated features:\", len(correlated_features))"
      ],
      "metadata": {
        "colab": {
          "base_uri": "https://localhost:8080/",
          "height": 554
        },
        "id": "b4IHEejSx8cC",
        "outputId": "6f65f210-6152-40cc-a579-258e3bb37006"
      },
      "execution_count": null,
      "outputs": [
        {
          "output_type": "stream",
          "name": "stdout",
          "text": [
            "Number of correlated features: 0\n"
          ]
        },
        {
          "output_type": "display_data",
          "data": {
            "text/plain": [
              "<Figure size 500x500 with 2 Axes>"
            ],
            "image/png": "[encoded data removed]"
          },
          "metadata": {}
        }
      ]
    },
    {
      "cell_type": "code",
      "source": [
        "from sklearn.feature_selection import mutual_info_regression, SelectKBest\n",
        "import pandas as pd\n",
        "import matplotlib.pyplot as plt\n",
        "X_num = x_train.select_dtypes(include=['number'])\n",
        "\n",
        "mi_scores = mutual_info_regression(X_num, y_train)\n",
        "\n",
        "# 2. Convert to a pandas Series for readability\n",
        "mi_series = pd.Series(mi_scores)\n",
        "mi_series.index = X_num.columns  # Label each MI score with its corresponding feature\n",
        "\n",
        "# 3. Sort the MI scores (highest first)\n",
        "mi_series = mi_series.sort_values(ascending=False)\n",
        "\n",
        "# 4. Visualize the scores using a bar chart\n",
        "plt.figure(figsize=(6,4))\n",
        "mi_series.plot.bar()\n",
        "plt.title(\"Mutual Information Scores per Feature\")\n",
        "plt.ylabel(\"MI Score\")\n",
        "plt.show()\n",
        "from sklearn.feature_selection import SelectKBest\n",
        "selector = SelectKBest(mutual_info_regression, k=1)\n",
        "selector.fit(X_num, y_train)\n",
        "\n",
        "selected_features = X_num.columns[selector.get_support()]\n",
        "print(f\"Top selected features:\", selected_features.tolist())"
      ],
      "metadata": {
        "colab": {
          "base_uri": "https://localhost:8080/",
          "height": 500
        },
        "id": "Nbh1T2bczJ8K",
        "outputId": "a42b371e-5c26-4f39-a9f3-0d81bd891a28"
      },
      "execution_count": null,
      "outputs": [
        {
          "output_type": "display_data",
          "data": {
            "text/plain": [
              "<Figure size 600x400 with 1 Axes>"
            ],
            "image/png": "[encoded data removed]"
          },
          "metadata": {}
        },
        {
          "output_type": "stream",
          "name": "stdout",
          "text": [
            "Top selected features: ['OverallQual']\n"
          ]
        }
      ]
    },
    {
      "cell_type": "code",
      "source": [
        "import pandas as pd\n",
        "import matplotlib.pyplot as plt\n",
        "from sklearn.model_selection import train_test_split\n",
        "from sklearn.feature_selection import f_regression\n",
        "\n",
        "\n",
        "# 2. Select only numeric features after data is cleaned\n",
        "x_train_numeric = x_train.select_dtypes(include=['number'])\n",
        "\n",
        "#Perform ANOVA F-test for regression\n",
        "f_scores, p_values = f_regression(x_train_numeric, y_train)\n",
        "\n",
        "#Create Series with p-values\n",
        "univariate = pd.Series(p_values, index=x_train_numeric.columns)\n",
        "\n",
        "#Filter features with p-value < 0.05\n",
        "significant_features = univariate[univariate < 0.05]\n",
        "print(\"Significant features (p < 0.05):\")\n",
        "print(significant_features.index.tolist())\n",
        "#Plot sorted p-values\n",
        "\"\"\"univariate.sort_values(ascending=True).plot.bar(figsize=(20, 6), rot=45)\n",
        "plt.ylabel(\"p-values\")\n",
        "plt.title(\"ANOVA F-test: Feature Significance for SalePrice\")\n",
        "plt.tight_layout()\n",
        "plt.show()\"\"\"\n",
        "\n",
        "\"\"\"from sklearn.preprocessing import LabelEncoder\n",
        "from sklearn.feature_selection import f_classif\n",
        "import pandas as pd\n",
        "# Separate features and target\n",
        "X = df_clean.drop(columns=['Survived'])\n",
        "y = df_clean['Survived']\n",
        "# Encode target if categorical\n",
        "if y.dtype == 'object':\n",
        "    y = LabelEncoder().fit_transform(y.astype(str))\n",
        "# Select only numeric features\n",
        "X_num = X.select_dtypes(include=['number']).copy()\n",
        "# Fill NaNs in numeric features with mean\n",
        "X_num = X_num.fillna(X_num.mean())\n",
        "# Perform ANOVA F-test\n",
        "f_scores, p_values = f_classif(X_num, y)\n",
        "# Create DataFrame with results\n",
        "f_df = pd.DataFrame({\n",
        "    'Feature': X_num.columns,\n",
        "    'F-Score': f_scores,\n",
        "    'P-Value': p_values\n",
        "})\n",
        "# Sort by F-Score descending\n",
        "f_df = f_df.sort_values('F-Score', ascending=False)\n",
        "print(f_df)\n",
        "# Filter significant features (p < 0.05)\n",
        "significant_features = f_df[f_df['P-Value'] < 0.05]['Feature'].tolist()\n",
        "print(\"\\nSelected features based on p-value < 0.05:\", significant_features)\n",
        "# Keep only significant features\n",
        "X_num_filtered = X_num[significant_features]\n",
        "# Optional: Add decision column\n",
        "f_df['Decision'] = f_df['P-Value'].apply(\n",
        "    lambda p: 'Reject Null Hypothesis' if p < 0.05 else 'Accept Null Hypothesis'\n",
        ")\n",
        "print(\"\\nWith decision column:\")\n",
        "print(f_df[['Feature', 'F-Score', 'P-Value', 'Decision']])\n",
        "o/p=>\n",
        "       Feature     F-Score       P-Value\n",
        "1       Pclass  115.031272  2.537047e-25\n",
        "5         Fare   63.030764  6.120189e-15\n",
        "4        Parch    5.963464  1.479925e-02\n",
        "2          Age    4.353516  3.721708e-02\n",
        "3        SibSp    1.110572  2.922439e-01\n",
        "0  PassengerId    0.022285  8.813658e-01\n",
        "\n",
        "Selected features based on p-value < 0.05: ['Pclass', 'Fare', 'Parch', 'Age']\n",
        "\n",
        "With decision column:\n",
        "       Feature     F-Score       P-Value                Decision\n",
        "1       Pclass  115.031272  2.537047e-25  Reject Null Hypothesis\n",
        "5         Fare   63.030764  6.120189e-15  Reject Null Hypothesis\n",
        "4        Parch    5.963464  1.479925e-02  Reject Null Hypothesis\n",
        "2          Age    4.353516  3.721708e-02  Reject Null Hypothesis\n",
        "3        SibSp    1.110572  2.922439e-01  Accept Null Hypothesis\n",
        "0  PassengerId    0.022285  8.813658e-01  Accept Null Hypothesis\"\"\""
      ],
      "metadata": {
        "colab": {
          "base_uri": "https://localhost:8080/"
        },
        "id": "LEeEyXdP48O5",
        "outputId": "aab48bb8-8e3b-4eb8-cc40-d883643fc61e"
      },
      "execution_count": null,
      "outputs": [
        {
          "output_type": "stream",
          "name": "stdout",
          "text": [
            "Significant features (p < 0.05):\n",
            "['MSSubClass', 'LotFrontage', 'LotArea', 'OverallQual', 'YearBuilt', 'YearRemodAdd', 'MasVnrArea', 'BsmtFinSF1', 'BsmtUnfSF', 'TotalBsmtSF', '1stFlrSF', '2ndFlrSF', 'GrLivArea', 'BsmtFullBath', 'FullBath', 'HalfBath', 'BedroomAbvGr', 'KitchenAbvGr', 'TotRmsAbvGrd', 'Fireplaces', 'GarageYrBlt', 'GarageCars', 'GarageArea', 'WoodDeckSF', 'OpenPorchSF', 'EnclosedPorch', 'ScreenPorch']\n"
          ]
        }
      ]
    },
    {
      "cell_type": "code",
      "source": [
        "import pandas as pd\n",
        "from sklearn.feature_selection import chi2\n",
        "from sklearn.preprocessing import LabelEncoder\n",
        "\n",
        "# Encode categorical columns\n",
        "df_encoded = df2.copy()\n",
        "label_encoders = {}\n",
        "for col in df_encoded.select_dtypes(include='object').columns:\n",
        "    le = LabelEncoder()\n",
        "    df_encoded[col] = le.fit_transform(df_encoded[col].astype(str))\n",
        "    label_encoders[col] = le\n",
        "\n",
        "# Features (X) and target (y)\n",
        "X = df_encoded.drop(columns=['Survived'])\n",
        "y = df_encoded['Survived']\n",
        "\n",
        "# Chi-square test\n",
        "chi_scores, p_values = chi2(X, y)\n",
        "\n",
        "# Put into DataFrame\n",
        "chi2_df = pd.DataFrame({\n",
        "    'Feature': X.columns,\n",
        "    'Chi2 Score': chi_scores,\n",
        "    'p-value': p_values\n",
        "}).sort_values(by='Chi2 Score', ascending=False)\n",
        "\n",
        "print(chi2_df)"
      ],
      "metadata": {
        "colab": {
          "base_uri": "https://localhost:8080/"
        },
        "id": "iFo_s4S5kNkN",
        "outputId": "742c3473-74e7-4231-82f9-4718dffde47a"
      },
      "execution_count": null,
      "outputs": [
        {
          "output_type": "stream",
          "name": "stdout",
          "text": [
            "        Feature   Chi2 Score       p-value\n",
            "8          Fare  4518.319091  0.000000e+00\n",
            "7        Ticket  2871.655466  0.000000e+00\n",
            "2          Name   435.568915  9.973146e-97\n",
            "9         Cabin   284.482789  7.920378e-64\n",
            "3           Sex    92.702447  6.077838e-22\n",
            "1        Pclass    30.873699  2.753786e-08\n",
            "4           Age    24.687926  6.740514e-07\n",
            "10     Embarked    10.202525  1.402485e-03\n",
            "6         Parch    10.097499  1.484707e-03\n",
            "0   PassengerId     3.312934  6.873667e-02\n",
            "5         SibSp     2.581865  1.080942e-01\n"
          ]
        }
      ]
    },
    {
      "cell_type": "markdown",
      "source": [
        "WRAPPER METHODS"
      ],
      "metadata": {
        "id": "PgJ7Wz49olY-"
      }
    },
    {
      "cell_type": "code",
      "source": [
        "df1.head()"
      ],
      "metadata": {
        "colab": {
          "base_uri": "https://localhost:8080/",
          "height": 256
        },
        "id": "o_STAYBIsTb_",
        "outputId": "c4f33ab2-cd07-45cc-e2b0-636de6ea987f"
      },
      "execution_count": null,
      "outputs": [
        {
          "output_type": "execute_result",
          "data": {
            "text/plain": [
              "   Id  MSSubClass MSZoning  LotFrontage  LotArea Street Alley LotShape  \\\n",
              "0   1          60       RL         65.0     8450   Pave  Grvl      Reg   \n",
              "1   2          20       RL         80.0     9600   Pave  Grvl      Reg   \n",
              "2   3          60       RL         68.0    11250   Pave  Grvl      IR1   \n",
              "3   4          70       RL         60.0     9550   Pave  Grvl      IR1   \n",
              "4   5          60       RL         84.0    14260   Pave  Grvl      IR1   \n",
              "\n",
              "  LandContour Utilities  ... PoolArea PoolQC  Fence MiscFeature MiscVal  \\\n",
              "0         Lvl    AllPub  ...        0     Gd  MnPrv        Shed       0   \n",
              "1         Lvl    AllPub  ...        0     Gd  MnPrv        Shed       0   \n",
              "2         Lvl    AllPub  ...        0     Gd  MnPrv        Shed       0   \n",
              "3         Lvl    AllPub  ...        0     Gd  MnPrv        Shed       0   \n",
              "4         Lvl    AllPub  ...        0     Gd  MnPrv        Shed       0   \n",
              "\n",
              "  MoSold YrSold  SaleType  SaleCondition  SalePrice  \n",
              "0      2   2008        WD         Normal     208500  \n",
              "1      5   2007        WD         Normal     181500  \n",
              "2      9   2008        WD         Normal     223500  \n",
              "3      2   2006        WD        Abnorml     140000  \n",
              "4     12   2008        WD         Normal     250000  \n",
              "\n",
              "[5 rows x 81 columns]"
            ],
            "text/html": [
              "\n",
              "  <div id=\"df-d1f1fa7a-2eb6-4229-86a8-52fe9644415a\" class=\"colab-df-container\">\n",
              "    <div>\n",
              "<style scoped>\n",
              "    .dataframe tbody tr th:only-of-type {\n",
              "        vertical-align: middle;\n",
              "    }\n",
              "\n",
              "    .dataframe tbody tr th {\n",
              "        vertical-align: top;\n",
              "    }\n",
              "\n",
              "    .dataframe thead th {\n",
              "        text-align: right;\n",
              "    }\n",
              "</style>\n",
              "<table border=\"1\" class=\"dataframe\">\n",
              "  <thead>\n",
              "    <tr style=\"text-align: right;\">\n",
              "      <th></th>\n",
              "      <th>Id</th>\n",
              "      <th>MSSubClass</th>\n",
              "      <th>MSZoning</th>\n",
              "      <th>LotFrontage</th>\n",
              "      <th>LotArea</th>\n",
              "      <th>Street</th>\n",
              "      <th>Alley</th>\n",
              "      <th>LotShape</th>\n",
              "      <th>LandContour</th>\n",
              "      <th>Utilities</th>\n",
              "      <th>...</th>\n",
              "      <th>PoolArea</th>\n",
              "      <th>PoolQC</th>\n",
              "      <th>Fence</th>\n",
              "      <th>MiscFeature</th>\n",
              "      <th>MiscVal</th>\n",
              "      <th>MoSold</th>\n",
              "      <th>YrSold</th>\n",
              "      <th>SaleType</th>\n",
              "      <th>SaleCondition</th>\n",
              "      <th>SalePrice</th>\n",
              "    </tr>\n",
              "  </thead>\n",
              "  <tbody>\n",
              "    <tr>\n",
              "      <th>0</th>\n",
              "      <td>1</td>\n",
              "      <td>60</td>\n",
              "      <td>RL</td>\n",
              "      <td>65.0</td>\n",
              "      <td>8450</td>\n",
              "      <td>Pave</td>\n",
              "      <td>Grvl</td>\n",
              "      <td>Reg</td>\n",
              "      <td>Lvl</td>\n",
              "      <td>AllPub</td>\n",
              "      <td>...</td>\n",
              "      <td>0</td>\n",
              "      <td>Gd</td>\n",
              "      <td>MnPrv</td>\n",
              "      <td>Shed</td>\n",
              "      <td>0</td>\n",
              "      <td>2</td>\n",
              "      <td>2008</td>\n",
              "      <td>WD</td>\n",
              "      <td>Normal</td>\n",
              "      <td>208500</td>\n",
              "    </tr>\n",
              "    <tr>\n",
              "      <th>1</th>\n",
              "      <td>2</td>\n",
              "      <td>20</td>\n",
              "      <td>RL</td>\n",
              "      <td>80.0</td>\n",
              "      <td>9600</td>\n",
              "      <td>Pave</td>\n",
              "      <td>Grvl</td>\n",
              "      <td>Reg</td>\n",
              "      <td>Lvl</td>\n",
              "      <td>AllPub</td>\n",
              "      <td>...</td>\n",
              "      <td>0</td>\n",
              "      <td>Gd</td>\n",
              "      <td>MnPrv</td>\n",
              "      <td>Shed</td>\n",
              "      <td>0</td>\n",
              "      <td>5</td>\n",
              "      <td>2007</td>\n",
              "      <td>WD</td>\n",
              "      <td>Normal</td>\n",
              "      <td>181500</td>\n",
              "    </tr>\n",
              "    <tr>\n",
              "      <th>2</th>\n",
              "      <td>3</td>\n",
              "      <td>60</td>\n",
              "      <td>RL</td>\n",
              "      <td>68.0</td>\n",
              "      <td>11250</td>\n",
              "      <td>Pave</td>\n",
              "      <td>Grvl</td>\n",
              "      <td>IR1</td>\n",
              "      <td>Lvl</td>\n",
              "      <td>AllPub</td>\n",
              "      <td>...</td>\n",
              "      <td>0</td>\n",
              "      <td>Gd</td>\n",
              "      <td>MnPrv</td>\n",
              "      <td>Shed</td>\n",
              "      <td>0</td>\n",
              "      <td>9</td>\n",
              "      <td>2008</td>\n",
              "      <td>WD</td>\n",
              "      <td>Normal</td>\n",
              "      <td>223500</td>\n",
              "    </tr>\n",
              "    <tr>\n",
              "      <th>3</th>\n",
              "      <td>4</td>\n",
              "      <td>70</td>\n",
              "      <td>RL</td>\n",
              "      <td>60.0</td>\n",
              "      <td>9550</td>\n",
              "      <td>Pave</td>\n",
              "      <td>Grvl</td>\n",
              "      <td>IR1</td>\n",
              "      <td>Lvl</td>\n",
              "      <td>AllPub</td>\n",
              "      <td>...</td>\n",
              "      <td>0</td>\n",
              "      <td>Gd</td>\n",
              "      <td>MnPrv</td>\n",
              "      <td>Shed</td>\n",
              "      <td>0</td>\n",
              "      <td>2</td>\n",
              "      <td>2006</td>\n",
              "      <td>WD</td>\n",
              "      <td>Abnorml</td>\n",
              "      <td>140000</td>\n",
              "    </tr>\n",
              "    <tr>\n",
              "      <th>4</th>\n",
              "      <td>5</td>\n",
              "      <td>60</td>\n",
              "      <td>RL</td>\n",
              "      <td>84.0</td>\n",
              "      <td>14260</td>\n",
              "      <td>Pave</td>\n",
              "      <td>Grvl</td>\n",
              "      <td>IR1</td>\n",
              "      <td>Lvl</td>\n",
              "      <td>AllPub</td>\n",
              "      <td>...</td>\n",
              "      <td>0</td>\n",
              "      <td>Gd</td>\n",
              "      <td>MnPrv</td>\n",
              "      <td>Shed</td>\n",
              "      <td>0</td>\n",
              "      <td>12</td>\n",
              "      <td>2008</td>\n",
              "      <td>WD</td>\n",
              "      <td>Normal</td>\n",
              "      <td>250000</td>\n",
              "    </tr>\n",
              "  </tbody>\n",
              "</table>\n",
              "<p>5 rows × 81 columns</p>\n",
              "</div>\n",
              "    <div class=\"colab-df-buttons\">\n",
              "\n",
              "  <div class=\"colab-df-container\">\n",
              "    <button class=\"colab-df-convert\" onclick=\"convertToInteractive('df-d1f1fa7a-2eb6-4229-86a8-52fe9644415a')\"\n",
              "            title=\"Convert this dataframe to an interactive table.\"\n",
              "            style=\"display:none;\">\n",
              "\n",
              "  <svg xmlns=\"http://www.w3.org/2000/svg\" height=\"24px\" viewBox=\"0 -960 960 960\">\n",
              "    <path d=\"M120-120v-720h720v720H120Zm60-500h600v-160H180v160Zm220 220h160v-160H400v160Zm0 220h160v-160H400v160ZM180-400h160v-160H180v160Zm440 0h160v-160H620v160ZM180-180h160v-160H180v160Zm440 0h160v-160H620v160Z\"/>\n",
              "  </svg>\n",
              "    </button>\n",
              "\n",
              "  <style>\n",
              "    .colab-df-container {\n",
              "      display:flex;\n",
              "      gap: 12px;\n",
              "    }\n",
              "\n",
              "    .colab-df-convert {\n",
              "      background-color: #E8F0FE;\n",
              "      border: none;\n",
              "      border-radius: 50%;\n",
              "      cursor: pointer;\n",
              "      display: none;\n",
              "      fill: #1967D2;\n",
              "      height: 32px;\n",
              "      padding: 0 0 0 0;\n",
              "      width: 32px;\n",
              "    }\n",
              "\n",
              "    .colab-df-convert:hover {\n",
              "      background-color: #E2EBFA;\n",
              "      box-shadow: 0px 1px 2px rgba(60, 64, 67, 0.3), 0px 1px 3px 1px rgba(60, 64, 67, 0.15);\n",
              "      fill: #174EA6;\n",
              "    }\n",
              "\n",
              "    .colab-df-buttons div {\n",
              "      margin-bottom: 4px;\n",
              "    }\n",
              "\n",
              "    [theme=dark] .colab-df-convert {\n",
              "      background-color: #3B4455;\n",
              "      fill: #D2E3FC;\n",
              "    }\n",
              "\n",
              "    [theme=dark] .colab-df-convert:hover {\n",
              "      background-color: #434B5C;\n",
              "      box-shadow: 0px 1px 3px 1px rgba(0, 0, 0, 0.15);\n",
              "      filter: drop-shadow(0px 1px 2px rgba(0, 0, 0, 0.3));\n",
              "      fill: #FFFFFF;\n",
              "    }\n",
              "  </style>\n",
              "\n",
              "    <script>\n",
              "      const buttonEl =\n",
              "        document.querySelector('#df-d1f1fa7a-2eb6-4229-86a8-52fe9644415a button.colab-df-convert');\n",
              "      buttonEl.style.display =\n",
              "        google.colab.kernel.accessAllowed ? 'block' : 'none';\n",
              "\n",
              "      async function convertToInteractive(key) {\n",
              "        const element = document.querySelector('#df-d1f1fa7a-2eb6-4229-86a8-52fe9644415a');\n",
              "        const dataTable =\n",
              "          await google.colab.kernel.invokeFunction('convertToInteractive',\n",
              "                                                    [key], {});\n",
              "        if (!dataTable) return;\n",
              "\n",
              "        const docLinkHtml = 'Like what you see? Visit the ' +\n",
              "          '<a target=\"_blank\" href=https://colab.research.google.com/notebooks/data_table.ipynb>data table notebook</a>'\n",
              "          + ' to learn more about interactive tables.';\n",
              "        element.innerHTML = '';\n",
              "        dataTable['output_type'] = 'display_data';\n",
              "        await google.colab.output.renderOutput(dataTable, element);\n",
              "        const docLink = document.createElement('div');\n",
              "        docLink.innerHTML = docLinkHtml;\n",
              "        element.appendChild(docLink);\n",
              "      }\n",
              "    </script>\n",
              "  </div>\n",
              "\n",
              "\n",
              "    <div id=\"df-a8f8f479-6d77-48af-8fd3-190c0516c927\">\n",
              "      <button class=\"colab-df-quickchart\" onclick=\"quickchart('df-a8f8f479-6d77-48af-8fd3-190c0516c927')\"\n",
              "                title=\"Suggest charts\"\n",
              "                style=\"display:none;\">\n",
              "\n",
              "<svg xmlns=\"http://www.w3.org/2000/svg\" height=\"24px\"viewBox=\"0 0 24 24\"\n",
              "     width=\"24px\">\n",
              "    <g>\n",
              "        <path d=\"M19 3H5c-1.1 0-2 .9-2 2v14c0 1.1.9 2 2 2h14c1.1 0 2-.9 2-2V5c0-1.1-.9-2-2-2zM9 17H7v-7h2v7zm4 0h-2V7h2v10zm4 0h-2v-4h2v4z\"/>\n",
              "    </g>\n",
              "</svg>\n",
              "      </button>\n",
              "\n",
              "<style>\n",
              "  .colab-df-quickchart {\n",
              "      --bg-color: #E8F0FE;\n",
              "      --fill-color: #1967D2;\n",
              "      --hover-bg-color: #E2EBFA;\n",
              "      --hover-fill-color: #174EA6;\n",
              "      --disabled-fill-color: #AAA;\n",
              "      --disabled-bg-color: #DDD;\n",
              "  }\n",
              "\n",
              "  [theme=dark] .colab-df-quickchart {\n",
              "      --bg-color: #3B4455;\n",
              "      --fill-color: #D2E3FC;\n",
              "      --hover-bg-color: #434B5C;\n",
              "      --hover-fill-color: #FFFFFF;\n",
              "      --disabled-bg-color: #3B4455;\n",
              "      --disabled-fill-color: #666;\n",
              "  }\n",
              "\n",
              "  .colab-df-quickchart {\n",
              "    background-color: var(--bg-color);\n",
              "    border: none;\n",
              "    border-radius: 50%;\n",
              "    cursor: pointer;\n",
              "    display: none;\n",
              "    fill: var(--fill-color);\n",
              "    height: 32px;\n",
              "    padding: 0;\n",
              "    width: 32px;\n",
              "  }\n",
              "\n",
              "  .colab-df-quickchart:hover {\n",
              "    background-color: var(--hover-bg-color);\n",
              "    box-shadow: 0 1px 2px rgba(60, 64, 67, 0.3), 0 1px 3px 1px rgba(60, 64, 67, 0.15);\n",
              "    fill: var(--button-hover-fill-color);\n",
              "  }\n",
              "\n",
              "  .colab-df-quickchart-complete:disabled,\n",
              "  .colab-df-quickchart-complete:disabled:hover {\n",
              "    background-color: var(--disabled-bg-color);\n",
              "    fill: var(--disabled-fill-color);\n",
              "    box-shadow: none;\n",
              "  }\n",
              "\n",
              "  .colab-df-spinner {\n",
              "    border: 2px solid var(--fill-color);\n",
              "    border-color: transparent;\n",
              "    border-bottom-color: var(--fill-color);\n",
              "    animation:\n",
              "      spin 1s steps(1) infinite;\n",
              "  }\n",
              "\n",
              "  @keyframes spin {\n",
              "    0% {\n",
              "      border-color: transparent;\n",
              "      border-bottom-color: var(--fill-color);\n",
              "      border-left-color: var(--fill-color);\n",
              "    }\n",
              "    20% {\n",
              "      border-color: transparent;\n",
              "      border-left-color: var(--fill-color);\n",
              "      border-top-color: var(--fill-color);\n",
              "    }\n",
              "    30% {\n",
              "      border-color: transparent;\n",
              "      border-left-color: var(--fill-color);\n",
              "      border-top-color: var(--fill-color);\n",
              "      border-right-color: var(--fill-color);\n",
              "    }\n",
              "    40% {\n",
              "      border-color: transparent;\n",
              "      border-right-color: var(--fill-color);\n",
              "      border-top-color: var(--fill-color);\n",
              "    }\n",
              "    60% {\n",
              "      border-color: transparent;\n",
              "      border-right-color: var(--fill-color);\n",
              "    }\n",
              "    80% {\n",
              "      border-color: transparent;\n",
              "      border-right-color: var(--fill-color);\n",
              "      border-bottom-color: var(--fill-color);\n",
              "    }\n",
              "    90% {\n",
              "      border-color: transparent;\n",
              "      border-bottom-color: var(--fill-color);\n",
              "    }\n",
              "  }\n",
              "</style>\n",
              "\n",
              "      <script>\n",
              "        async function quickchart(key) {\n",
              "          const quickchartButtonEl =\n",
              "            document.querySelector('#' + key + ' button');\n",
              "          quickchartButtonEl.disabled = true;  // To prevent multiple clicks.\n",
              "          quickchartButtonEl.classList.add('colab-df-spinner');\n",
              "          try {\n",
              "            const charts = await google.colab.kernel.invokeFunction(\n",
              "                'suggestCharts', [key], {});\n",
              "          } catch (error) {\n",
              "            console.error('Error during call to suggestCharts:', error);\n",
              "          }\n",
              "          quickchartButtonEl.classList.remove('colab-df-spinner');\n",
              "          quickchartButtonEl.classList.add('colab-df-quickchart-complete');\n",
              "        }\n",
              "        (() => {\n",
              "          let quickchartButtonEl =\n",
              "            document.querySelector('#df-a8f8f479-6d77-48af-8fd3-190c0516c927 button');\n",
              "          quickchartButtonEl.style.display =\n",
              "            google.colab.kernel.accessAllowed ? 'block' : 'none';\n",
              "        })();\n",
              "      </script>\n",
              "    </div>\n",
              "\n",
              "    </div>\n",
              "  </div>\n"
            ],
            "application/vnd.google.colaboratory.intrinsic+json": {
              "type": "dataframe",
              "variable_name": "df1"
            }
          },
          "metadata": {},
          "execution_count": 21
        }
      ]
    },
    {
      "cell_type": "code",
      "source": [
        "#forward selection\n",
        "import pandas as pd\n",
        "import numpy as np\n",
        "from sklearn.model_selection import train_test_split\n",
        "from sklearn.preprocessing import LabelEncoder\n",
        "from mlxtend.feature_selection import SequentialFeatureSelector as SFS\n",
        "from sklearn.ensemble import RandomForestClassifier\n",
        "\n",
        "# 1. Separate target\n",
        "X = df1.drop(columns=[\"SalePrice\"])\n",
        "y = df1[\"SalePrice\"]\n",
        "\n",
        "# If SalePrice is regression target, convert to binary for roc_auc\n",
        "# (Example: classify above/below median price)\n",
        "y_binary = (y > y.median()).astype(int)\n",
        "\n",
        "# 2. Encode categorical columns\n",
        "X_encoded = X.copy()\n",
        "for col in X_encoded.select_dtypes(include=['object']).columns:\n",
        "    le = LabelEncoder()\n",
        "    X_encoded[col] = le.fit_transform(X_encoded[col].astype(str))\n",
        "\n",
        "# 3. Train-test split\n",
        "X_train, X_test, y_train, y_test = train_test_split(\n",
        "    X_encoded, y_binary, test_size=0.3, random_state=42\n",
        ")\n",
        "\n",
        "# 4. Remove correlated features\n",
        "def correlation(dataset, threshold):\n",
        "    col_corr = set()\n",
        "    corr_matrix = dataset.corr()\n",
        "    for i in range(len(corr_matrix.columns)):\n",
        "        for j in range(i):\n",
        "            if abs(corr_matrix.iloc[i, j]) > threshold:\n",
        "                colname = corr_matrix.columns[i]\n",
        "                col_corr.add(colname)\n",
        "    return col_corr\n",
        "\n",
        "corr_features = correlation(X_train, 0.8)\n",
        "X_train.drop(labels=corr_features, axis=1, inplace=True)\n",
        "X_test.drop(labels=corr_features, axis=1, inplace=True)\n",
        "\n",
        "# 5. Run SFS\n",
        "sfs = SFS(\n",
        "    RandomForestClassifier(n_jobs=4, random_state=42),\n",
        "    k_features=5,\n",
        "    forward=True,\n",
        "    floating=False,\n",
        "    verbose=2,\n",
        "    scoring='roc_auc',\n",
        "    cv=3\n",
        ")\n",
        "\n",
        "sfs = sfs.fit(X_train.values, y_train)\n",
        "\n",
        "# 6. Results\n",
        "print(\"Best ROC-AUC score: %.4f\" % sfs.k_score_)\n",
        "print(\"Best subset (indices):\", sfs.k_feature_idx_)\n",
        "print(\"Best subset (feature names):\", sfs.k_feature_names_)\n"
      ],
      "metadata": {
        "colab": {
          "base_uri": "https://localhost:8080/"
        },
        "id": "M8a39QjwogEW",
        "outputId": "2a27edac-2172-45dd-8308-3b7a54219aec"
      },
      "execution_count": null,
      "outputs": [
        {
          "output_type": "stream",
          "name": "stderr",
          "text": [
            "[Parallel(n_jobs=1)]: Done  40 tasks      | elapsed:   42.3s\n",
            "[Parallel(n_jobs=1)]: Done  76 out of  76 | elapsed:  1.2min finished\n",
            "\n",
            "[2025-08-13 09:12:25] Features: 1/5 -- score: 0.8907067452528422[Parallel(n_jobs=1)]: Done  40 tasks      | elapsed:   36.9s\n",
            "[Parallel(n_jobs=1)]: Done  75 out of  75 | elapsed:  1.1min finished\n",
            "\n",
            "[2025-08-13 09:13:34] Features: 2/5 -- score: 0.9309946630963054[Parallel(n_jobs=1)]: Done  40 tasks      | elapsed:   36.6s\n",
            "[Parallel(n_jobs=1)]: Done  74 out of  74 | elapsed:  1.1min finished\n",
            "\n",
            "[2025-08-13 09:14:41] Features: 3/5 -- score: 0.9526968379106231[Parallel(n_jobs=1)]: Done  40 tasks      | elapsed:   38.4s\n",
            "[Parallel(n_jobs=1)]: Done  73 out of  73 | elapsed:  1.2min finished\n",
            "\n",
            "[2025-08-13 09:15:52] Features: 4/5 -- score: 0.9604322861586855[Parallel(n_jobs=1)]: Done  40 tasks      | elapsed:   39.0s\n"
          ]
        },
        {
          "output_type": "stream",
          "name": "stdout",
          "text": [
            "Best ROC-AUC score: 0.9654\n",
            "Best subset (indices): (1, 12, 17, 37, 44)\n",
            "Best subset (feature names): ('1', '12', '17', '37', '44')\n"
          ]
        },
        {
          "output_type": "stream",
          "name": "stderr",
          "text": [
            "[Parallel(n_jobs=1)]: Done  72 out of  72 | elapsed:  1.1min finished\n",
            "\n",
            "[2025-08-13 09:17:00] Features: 5/5 -- score: 0.9654062555641284"
          ]
        }
      ]
    },
    {
      "cell_type": "code",
      "source": [
        "import pandas as pd\n",
        "import numpy as np\n",
        "from sklearn.model_selection import train_test_split\n",
        "from sklearn.preprocessing import LabelEncoder\n",
        "from sklearn.ensemble import RandomForestClassifier\n",
        "from mlxtend.feature_selection import SequentialFeatureSelector as SFS\n",
        "\n",
        "# 1. Separate target and features\n",
        "X = df1.drop(columns=[\"SalePrice\"])  # features\n",
        "y = df1[\"SalePrice\"]                 # target\n",
        "\n",
        "# Convert regression target to binary for ROC-AUC scoring\n",
        "# (Above median price → 1, Below/Equal median price → 0)\n",
        "y_binary = (y > y.median()).astype(int)\n",
        "\n",
        "# 2. Encode categorical columns\n",
        "X_encoded = X.copy()\n",
        "for col in X_encoded.select_dtypes(include=['object']).columns:\n",
        "    le = LabelEncoder()\n",
        "    X_encoded[col] = le.fit_transform(X_encoded[col].astype(str))\n",
        "\n",
        "# 3. Train-test split\n",
        "X_train, X_test, y_train, y_test = train_test_split(\n",
        "    X_encoded, y_binary, test_size=0.3, random_state=42\n",
        ")\n",
        "\n",
        "# 4. Remove correlated features\n",
        "def correlation(dataset, threshold):\n",
        "    col_corr = set()\n",
        "    corr_matrix = dataset.corr()\n",
        "    for i in range(len(corr_matrix.columns)):\n",
        "        for j in range(i):\n",
        "            if abs(corr_matrix.iloc[i, j]) > threshold:\n",
        "                colname = corr_matrix.columns[i]\n",
        "                col_corr.add(colname)\n",
        "    return col_corr\n",
        "\n",
        "corr_features = correlation(X_train, 0.8)\n",
        "print(\"Correlated features removed:\", corr_features)\n",
        "\n",
        "X_train.drop(labels=corr_features, axis=1, inplace=True)\n",
        "X_test.drop(labels=corr_features, axis=1, inplace=True)\n",
        "\n",
        "# 5. Sequential Forward Selection\n",
        "sfs = SFS(\n",
        "    RandomForestClassifier(n_jobs=4, random_state=42),\n",
        "    k_features=5,\n",
        "    forward=True,\n",
        "    floating=False,\n",
        "    verbose=2,\n",
        "    scoring='roc_auc',   # using ROC-AUC since target is binary\n",
        "    cv=3\n",
        ")\n",
        "\n",
        "# Fit with DataFrame (not .values) so column names are preserved\n",
        "sfs = sfs.fit(X_train, y_train)\n",
        "\n",
        "# 6. Results\n",
        "print(\"Best ROC-AUC score: %.4f\" % sfs.k_score_)\n",
        "print(\"Best subset (indices):\", sfs.k_feature_idx_)\n",
        "print(\"Best subset (feature names):\", sfs.k_feature_names_)\n",
        "\n",
        "# If you still have only indices and want names:\n",
        "best_feature_names = [X_train.columns[i] for i in sfs.k_feature_idx_]\n",
        "print(\"Mapped back feature names:\", best_feature_names)\n"
      ],
      "metadata": {
        "colab": {
          "base_uri": "https://localhost:8080/"
        },
        "id": "TBgK2BAHu8kX",
        "outputId": "eb6e2c7c-3e8f-4f16-929e-0f360b1dd5f8"
      },
      "execution_count": null,
      "outputs": [
        {
          "output_type": "stream",
          "name": "stdout",
          "text": [
            "Correlated features removed: {'1stFlrSF', 'Exterior2nd', 'GarageArea', 'TotRmsAbvGrd'}\n"
          ]
        },
        {
          "output_type": "stream",
          "name": "stderr",
          "text": [
            "[Parallel(n_jobs=1)]: Done  40 tasks      | elapsed:   40.6s\n",
            "[Parallel(n_jobs=1)]: Done  76 out of  76 | elapsed:  1.3min finished\n",
            "\n",
            "[2025-08-13 09:23:29] Features: 1/5 -- score: 0.8907067452528422[Parallel(n_jobs=1)]: Done  40 tasks      | elapsed:   33.6s\n",
            "[Parallel(n_jobs=1)]: Done  75 out of  75 | elapsed:  1.0min finished\n",
            "\n",
            "[2025-08-13 09:24:31] Features: 2/5 -- score: 0.9309946630963054[Parallel(n_jobs=1)]: Done  40 tasks      | elapsed:   36.6s\n",
            "[Parallel(n_jobs=1)]: Done  74 out of  74 | elapsed:  1.1min finished\n",
            "\n",
            "[2025-08-13 09:25:37] Features: 3/5 -- score: 0.9526968379106231[Parallel(n_jobs=1)]: Done  40 tasks      | elapsed:   40.8s\n",
            "[Parallel(n_jobs=1)]: Done  73 out of  73 | elapsed:  1.3min finished\n",
            "\n",
            "[2025-08-13 09:26:58] Features: 4/5 -- score: 0.9604322861586855[Parallel(n_jobs=1)]: Done  40 tasks      | elapsed:   37.2s\n"
          ]
        },
        {
          "output_type": "stream",
          "name": "stdout",
          "text": [
            "Best ROC-AUC score: 0.9654\n",
            "Best subset (indices): (1, 12, 17, 37, 44)\n",
            "Best subset (feature names): ('MSSubClass', 'Neighborhood', 'OverallQual', 'TotalBsmtSF', 'GrLivArea')\n",
            "Mapped back feature names: ['MSSubClass', 'Neighborhood', 'OverallQual', 'TotalBsmtSF', 'GrLivArea']\n"
          ]
        },
        {
          "output_type": "stream",
          "name": "stderr",
          "text": [
            "[Parallel(n_jobs=1)]: Done  72 out of  72 | elapsed:  1.1min finished\n",
            "\n",
            "[2025-08-13 09:28:06] Features: 5/5 -- score: 0.9654062555641284"
          ]
        }
      ]
    },
    {
      "cell_type": "code",
      "source": [
        "sbs = SFS(\n",
        "    RandomForestClassifier(n_jobs=4, random_state=42),\n",
        "    k_features=5,       # final number of features to keep\n",
        "    forward=False,      # backward elimination\n",
        "    floating=False,\n",
        "    verbose=2,\n",
        "    scoring='roc_auc',\n",
        "    cv=3\n",
        ")\n",
        "\n",
        "sbs = sbs.fit(X_train, y_train)\n",
        "\n",
        "# -----------------------------\n",
        "# 6. Results\n",
        "# -----------------------------\n",
        "print(\"Best ROC-AUC score: %.4f\" % sbs.k_score_)\n",
        "print(\"Best subset (indices):\", sbs.k_feature_idx_)\n",
        "print(\"Best subset (feature names):\", sbs.k_feature_names_)\n",
        "\n",
        "# Map back indices to actual column names if needed\n",
        "best_feature_names = [X_train.columns[i] for i in sbs.k_feature_idx_]\n",
        "print(\"Mapped back feature names:\", best_feature_names)"
      ],
      "metadata": {
        "id": "n4A8qlIrwFB3"
      },
      "execution_count": null,
      "outputs": []
    },
    {
      "cell_type": "code",
      "source": [
        "import pandas as pd\n",
        "import numpy as np\n",
        "from sklearn.model_selection import train_test_split\n",
        "from sklearn.preprocessing import LabelEncoder\n",
        "from sklearn.linear_model import LogisticRegression\n",
        "from mlxtend.feature_selection import ExhaustiveFeatureSelector as EFS\n",
        "\n",
        "#  Exhaustive Feature Selection\n",
        "lr = LogisticRegression(max_iter=500, solver='liblinear')\n",
        "\n",
        "efs = EFS(\n",
        "    estimator=lr,\n",
        "    min_features=1,\n",
        "    max_features=4,        # Try all combinations from 1 to 4 features\n",
        "    scoring='accuracy',\n",
        "    print_progress=True,   # See progress in console\n",
        "    cv=5\n",
        ")\n",
        "\n",
        "efs = efs.fit(X_train, y_train)\n",
        "\n",
        "# 6. Results\n",
        "print(\"\\nBest accuracy score: %.4f\" % efs.best_score_)\n",
        "print(\"Best subset (indices):\", efs.best_idx_)\n",
        "print(\"Best subset (feature names):\", efs.best_feature_names_)\n",
        "\n",
        "# Convert to DataFrame\n",
        "efs_results = pd.DataFrame.from_dict(efs.get_metric_dict()).T\n",
        "efs_results = efs_results.sort_values(by=\"avg_score\", ascending=False)\n",
        "\n",
        "print(\"\\nTop feature subsets by score:\")\n",
        "print(efs_results.head())\n",
        "\n",
        "# If you want just the names from indices\n",
        "best_feature_names = [X_train.columns[i] for i in efs.best_idx_]\n",
        "print(\"\\nMapped best feature names:\", best_feature_names)\n"
      ],
      "metadata": {
        "id": "gXOEx9NUIS_j"
      },
      "execution_count": null,
      "outputs": []
    },
    {
      "cell_type": "code",
      "source": [
        "lr = LogisticRegression(max_iter=500, solver='liblinear')\n",
        "\n",
        "# Select top 5 features (you can change n_features_to_select)\n",
        "rfe = RFE(estimator=lr, n_features_to_select=5)\n",
        "rfe = rfe.fit(X_train, y_train)\n",
        "\n",
        "# 6. Results\n",
        "\n",
        "print(\"Selected Features (Boolean mask):\", rfe.support_)\n",
        "print(\"Feature Ranking:\", rfe.ranking_)\n",
        "\n",
        "# Get feature names\n",
        "selected_features = X_train.columns[rfe.support_]\n",
        "print(\"\\nSelected Feature Names:\", list(selected_features))"
      ],
      "metadata": {
        "id": "-_ClSS36xgOP"
      },
      "execution_count": null,
      "outputs": []
    },
    {
      "cell_type": "code",
      "source": [
        "import pandas as pd\n",
        "import numpy as np\n",
        "from sklearn.model_selection import train_test_split\n",
        "from sklearn.ensemble import RandomForestRegressor\n",
        "from mlxtend.feature_selection import SequentialFeatureSelector as SFS\n",
        "from mlxtend.feature_selection import ExhaustiveFeatureSelector as EFS\n",
        "from sklearn.feature_selection import RFE\n",
        "\n",
        "# Loading dataset\n",
        "data = df1.copy()\n",
        "# Using only numerical features\n",
        "numerics = ['int16', 'int32', 'int64', 'float16', 'float32', 'float64']\n",
        "num_data = data.select_dtypes(include=numerics).dropna(axis=1)\n",
        "\n",
        "X = num_data.drop(\"SalePrice\", axis=1)\n",
        "y = num_data[\"SalePrice\"]\n",
        "\n",
        "X_train, X_test, y_train, y_test = train_test_split(X, y, test_size=0.3, random_state=0)\n",
        "\n"
      ],
      "metadata": {
        "id": "Zd_Mv_HFFH8I"
      },
      "execution_count": null,
      "outputs": []
    },
    {
      "cell_type": "code",
      "source": [
        "from mlxtend.feature_selection import SequentialFeatureSelector as SFS\n",
        "from sklearn.ensemble import RandomForestRegressor\n",
        "\n",
        "sfs = SFS(RandomForestRegressor(),\n",
        "          k_features=5,\n",
        "          forward=True,\n",
        "          floating=False,\n",
        "          scoring='r2',\n",
        "          cv=5)\n",
        "sfs.fit(X_train, y_train)\n",
        "print(\"Forward Selection\")\n",
        "print(\"Selected feature indices:\", sfs.k_feature_idx_)\n",
        "print(\"Selected feature names:\", sfs.k_feature_names_)\n",
        "print(\"Best R² score: %.4f\" % sfs.k_score_)\n"
      ],
      "metadata": {
        "colab": {
          "base_uri": "https://localhost:8080/"
        },
        "id": "pq-ot6o7tx45",
        "outputId": "b856078b-9116-4fb7-a722-f165f0c10610"
      },
      "execution_count": null,
      "outputs": [
        {
          "output_type": "stream",
          "name": "stdout",
          "text": [
            "Forward Selection\n",
            "Selected feature indices: (1, 3, 14, 22, 23)\n",
            "Selected feature names: ('MSSubClass', 'OverallQual', 'GrLivArea', 'Fireplaces', 'GarageCars')\n",
            "Best R² score: 0.7756\n"
          ]
        }
      ]
    },
    {
      "cell_type": "code",
      "source": [
        "sbs = SFS(RandomForestRegressor(),\n",
        "          k_features=5,\n",
        "          forward=False,\n",
        "          floating=False,\n",
        "          scoring='r2',\n",
        "          cv=5)\n",
        "\n",
        "sfs.fit(X_train, y_train)\n",
        "\n",
        "print(\"Backward Selection\")\n",
        "print(\"Selected feature indices:\", sfs.k_feature_idx_)\n",
        "print(\"Selected feature names:\", sfs.k_feature_names_)\n",
        "print(\"Best R² score: %.4f\" % sfs.k_score_)\n"
      ],
      "metadata": {
        "id": "a1SYbkmpufwk",
        "colab": {
          "base_uri": "https://localhost:8080/"
        },
        "outputId": "78768929-e4fe-4de5-b9e3-3085b97c5795"
      },
      "execution_count": null,
      "outputs": [
        {
          "output_type": "stream",
          "name": "stdout",
          "text": [
            "Backward Selection\n",
            "Selected feature indices: (1, 3, 14, 22, 23)\n",
            "Selected feature names: ('MSSubClass', 'OverallQual', 'GrLivArea', 'Fireplaces', 'GarageCars')\n",
            "Best R² score: 0.7824\n"
          ]
        }
      ]
    },
    {
      "cell_type": "code",
      "source": [
        "from mlxtend.feature_selection import ExhaustiveFeatureSelector as EFS\n",
        "\n",
        "efs = EFS(RandomForestRegressor(),\n",
        "          min_features=3,\n",
        "          max_features=5,\n",
        "          scoring='r2',\n",
        "          cv=3,\n",
        "          print_progress=True)\n",
        "sfs.fit(X_train, y_train)\n",
        "\n",
        "efs = efs.fit(X_train, y_train)\n",
        "\n",
        "efs_results = efs.get_metric_dict()\n",
        "\n",
        "best = max(efs_results.items(), key=lambda x: x[1]['avg_score'])\n",
        "\n",
        "best_features_idx = best[0]\n",
        "best_score = best[1]['avg_score']\n",
        "best_feature_names = X_train.columns[list(best_features_idx)]\n",
        "\n",
        "print(\"\\n🔹 Exhaustive Feature Selection\")\n",
        "print(\"Best subset indices:\", best_features_idx)\n",
        "print(\"Best feature names:\", best_feature_names.tolist())\n",
        "print(\"Best average R² score: %.4f\" % best_score)\n"
      ],
      "metadata": {
        "id": "W0tT2G_iuiHS"
      },
      "execution_count": null,
      "outputs": []
    },
    {
      "cell_type": "code",
      "source": [
        "from sklearn.feature_selection import RFE\n",
        "from sklearn.ensemble import RandomForestRegressor\n",
        "from sklearn.metrics import r2_score\n",
        "\n",
        "rfe = RFE(estimator=RandomForestRegressor(), n_features_to_select=5)\n",
        "rfe.fit(X_train, y_train)\n",
        "\n",
        "selected_features = X_train.columns[rfe.support_].tolist()\n",
        "print(\"\\n RFE Selected Features:\")\n",
        "print(\"Selected features:\", selected_features)\n",
        "\n",
        "X_test_rfe = X_test[selected_features]\n",
        "y_pred = rfe.estimator_.predict(X_test_rfe)\n",
        "score = r2_score(y_test, y_pred)\n",
        "print(\"R² score on test data (RFE features): %.4f\" % score)\n"
      ],
      "metadata": {
        "id": "LLYWytTbujH2"
      },
      "execution_count": null,
      "outputs": []
    },
    {
      "cell_type": "code",
      "source": [
        "from sklearn.preprocessing import StandardScaler\n",
        "from sklearn.decomposition import PCA\n",
        "import matplotlib.pyplot as plt\n",
        "\n",
        "# Scale the features\n",
        "scaler = StandardScaler()\n",
        "X_scaled = scaler.fit_transform(X)\n",
        "\n",
        "# Apply PCA (keep 2 components for visualization)\n",
        "pca = PCA(n_components=2)\n",
        "X_pca = pca.fit_transform(X_scaled)\n",
        "\n",
        "print(\"Explained Variance Ratio:\", pca.explained_variance_ratio_)\n",
        "\n",
        "# Plot PCA\n",
        "plt.scatter(X_pca[:, 0], X_pca[:, 1], c=y, cmap=\"viridis\", alpha=0.5)\n",
        "plt.xlabel(\"PC1\")\n",
        "plt.ylabel(\"PC2\")\n",
        "plt.title(\"PCA on House Prices Data\")\n",
        "plt.show()\n"
      ],
      "metadata": {
        "id": "D4cAaz0IMW_U"
      },
      "execution_count": null,
      "outputs": []
    },
    {
      "cell_type": "code",
      "source": [
        "from sklearn.discriminant_analysis import LinearDiscriminantAnalysis as LDA\n",
        "\n",
        "# Convert SalePrice into 3 categories\n",
        "y_cat = pd.qcut(y, q=3, labels=[\"Low\", \"Medium\", \"High\"])\n",
        "\n",
        "# Apply LDA\n",
        "lda = LDA(n_components=2)\n",
        "X_lda = lda.fit_transform(X_scaled, y_cat)\n",
        "\n",
        "print(\"Explained Variance Ratio (LDA):\", lda.explained_variance_ratio_)\n",
        "\n",
        "# Plot LDA\n",
        "plt.scatter(X_lda[:, 0], X_lda[:, 1], c=y_cat.cat.codes, cmap=\"coolwarm\", alpha=0.6)\n",
        "plt.xlabel(\"LD1\")\n",
        "plt.ylabel(\"LD2\")\n",
        "plt.title(\"LDA on House Prices Data\")\n",
        "plt.show()\n"
      ],
      "metadata": {
        "id": "ZN4A79yuMX-A"
      },
      "execution_count": null,
      "outputs": []
    }
  ]
}