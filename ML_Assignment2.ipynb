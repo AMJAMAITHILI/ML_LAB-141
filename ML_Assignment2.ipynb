{
  "nbformat": 4,
  "nbformat_minor": 0,
  "metadata": {
    "colab": {
      "provenance": [],
      "gpuType": "T4",
      "authorship_tag": "ABX9TyNmTAw3PkR6gLQZWk+lblfc",
      "include_colab_link": true
    },
    "kernelspec": {
      "name": "python3",
      "display_name": "Python 3"
    },
    "language_info": {
      "name": "python"
    },
    "accelerator": "GPU"
  },
  "cells": [
    {
      "cell_type": "markdown",
      "metadata": {
        "id": "view-in-github",
        "colab_type": "text"
      },
      "source": [
        "<a href=\"https://colab.research.google.com/github/AMJAMAITHILI/ML_LAB-141/blob/main/ML_Assignment2.ipynb\" target=\"_parent\"><img src=\"https://colab.research.google.com/assets/colab-badge.svg\" alt=\"Open In Colab\"/></a>"
      ]
    },
    {
      "cell_type": "markdown",
      "source": [
        "**CatBoost: gradient boosting with categorical features\n",
        "support**\n",
        "\n",
        "*Introduction*\n",
        "\n",
        "The 2018 NeurIPS paper CatBoost: unbiased boosting with categorical features introduced a new\n",
        "gradient-boosting algorithm that:\n",
        "\n",
        "Handles categorical features internally rather than using one-hot encoding.\n",
        "\n",
        "Reduces overfitting by removing gradient bias through an “ordered boosting” scheme.\n",
        "\n",
        "Provides competitive GPU/CPU implementations faster than XGBoost and LightGBM.\n",
        "\n",
        "Although CatBoost shows strong results, the paper reports only limited\n",
        "hyperparameter exploration.\n",
        "So my goal is to reproduce a baseline Gradient Boosting model, apply CatBoost on the same data,\n",
        "and demonstrate that systematic hyperparameter tuning further improves CatBoost’s performance\n",
        "on the Adult Income dataset."
      ],
      "metadata": {
        "id": "fO5AV8T0uuyJ"
      }
    },
    {
      "cell_type": "code",
      "execution_count": 3,
      "metadata": {
        "colab": {
          "base_uri": "https://localhost:8080/",
          "height": 0
        },
        "id": "nSTQ8Xdeuo2d",
        "outputId": "67d1ac88-8447-4deb-dd80-3ee24eb0057a"
      },
      "outputs": [
        {
          "output_type": "stream",
          "name": "stdout",
          "text": [
            "\u001b[2K   \u001b[90m━━━━━━━━━━━━━━━━━━━━━━━━━━━━━━━━━━━━━━━━\u001b[0m \u001b[32m99.2/99.2 MB\u001b[0m \u001b[31m10.1 MB/s\u001b[0m eta \u001b[36m0:00:00\u001b[0m\n",
            "\u001b[2K   \u001b[90m━━━━━━━━━━━━━━━━━━━━━━━━━━━━━━━━━━━━━━━━\u001b[0m \u001b[32m400.9/400.9 kB\u001b[0m \u001b[31m35.1 MB/s\u001b[0m eta \u001b[36m0:00:00\u001b[0m\n",
            "\u001b[?25h"
          ]
        }
      ],
      "source": [
        "# Install required libraries\n",
        "!pip install catboost optuna scikit-learn pandas matplotlib --quiet\n"
      ]
    },
    {
      "cell_type": "code",
      "source": [
        "# Imports\n",
        "import pandas as pd\n",
        "import numpy as np\n",
        "import matplotlib.pyplot as plt\n",
        "from sklearn.model_selection import train_test_split, cross_val_score\n",
        "from sklearn.metrics import accuracy_score, roc_auc_score, roc_curve\n",
        "from sklearn.preprocessing import LabelEncoder\n",
        "from sklearn.ensemble import GradientBoostingClassifier\n",
        "from catboost import CatBoostClassifier, Pool\n",
        "import optuna\n"
      ],
      "metadata": {
        "id": "ir-CkeHEvO0V"
      },
      "execution_count": 4,
      "outputs": []
    },
    {
      "cell_type": "code",
      "source": [
        "import pandas as pd\n",
        "\n",
        "url = \"https://archive.ics.uci.edu/ml/machine-learning-databases/adult/adult.data\"\n",
        "columns = [\n",
        "    \"age\", \"workclass\", \"fnlwgt\", \"education\", \"education-num\",\n",
        "    \"marital-status\", \"occupation\", \"relationship\", \"race\", \"sex\",\n",
        "    \"capital-gain\", \"capital-loss\", \"hours-per-week\", \"native-country\", \"income\"\n",
        "]\n",
        "\n",
        "df = pd.read_csv(url, header=None, names=columns, na_values=\" ?\", skipinitialspace=True)\n",
        "print(df.shape)\n",
        "df.head()\n"
      ],
      "metadata": {
        "colab": {
          "base_uri": "https://localhost:8080/",
          "height": 310
        },
        "id": "fUi0kQIfvT6C",
        "outputId": "0f6a6e33-9e39-4d90-ee11-39354d84ba6c"
      },
      "execution_count": 5,
      "outputs": [
        {
          "output_type": "stream",
          "name": "stdout",
          "text": [
            "(32561, 15)\n"
          ]
        },
        {
          "output_type": "execute_result",
          "data": {
            "text/plain": [
              "   age         workclass  fnlwgt  education  education-num  \\\n",
              "0   39         State-gov   77516  Bachelors             13   \n",
              "1   50  Self-emp-not-inc   83311  Bachelors             13   \n",
              "2   38           Private  215646    HS-grad              9   \n",
              "3   53           Private  234721       11th              7   \n",
              "4   28           Private  338409  Bachelors             13   \n",
              "\n",
              "       marital-status         occupation   relationship   race     sex  \\\n",
              "0       Never-married       Adm-clerical  Not-in-family  White    Male   \n",
              "1  Married-civ-spouse    Exec-managerial        Husband  White    Male   \n",
              "2            Divorced  Handlers-cleaners  Not-in-family  White    Male   \n",
              "3  Married-civ-spouse  Handlers-cleaners        Husband  Black    Male   \n",
              "4  Married-civ-spouse     Prof-specialty           Wife  Black  Female   \n",
              "\n",
              "   capital-gain  capital-loss  hours-per-week native-country income  \n",
              "0          2174             0              40  United-States  <=50K  \n",
              "1             0             0              13  United-States  <=50K  \n",
              "2             0             0              40  United-States  <=50K  \n",
              "3             0             0              40  United-States  <=50K  \n",
              "4             0             0              40           Cuba  <=50K  "
            ],
            "text/html": [
              "\n",
              "  <div id=\"df-ab829c5d-61b9-4f27-b616-feab0ff00ba8\" class=\"colab-df-container\">\n",
              "    <div>\n",
              "<style scoped>\n",
              "    .dataframe tbody tr th:only-of-type {\n",
              "        vertical-align: middle;\n",
              "    }\n",
              "\n",
              "    .dataframe tbody tr th {\n",
              "        vertical-align: top;\n",
              "    }\n",
              "\n",
              "    .dataframe thead th {\n",
              "        text-align: right;\n",
              "    }\n",
              "</style>\n",
              "<table border=\"1\" class=\"dataframe\">\n",
              "  <thead>\n",
              "    <tr style=\"text-align: right;\">\n",
              "      <th></th>\n",
              "      <th>age</th>\n",
              "      <th>workclass</th>\n",
              "      <th>fnlwgt</th>\n",
              "      <th>education</th>\n",
              "      <th>education-num</th>\n",
              "      <th>marital-status</th>\n",
              "      <th>occupation</th>\n",
              "      <th>relationship</th>\n",
              "      <th>race</th>\n",
              "      <th>sex</th>\n",
              "      <th>capital-gain</th>\n",
              "      <th>capital-loss</th>\n",
              "      <th>hours-per-week</th>\n",
              "      <th>native-country</th>\n",
              "      <th>income</th>\n",
              "    </tr>\n",
              "  </thead>\n",
              "  <tbody>\n",
              "    <tr>\n",
              "      <th>0</th>\n",
              "      <td>39</td>\n",
              "      <td>State-gov</td>\n",
              "      <td>77516</td>\n",
              "      <td>Bachelors</td>\n",
              "      <td>13</td>\n",
              "      <td>Never-married</td>\n",
              "      <td>Adm-clerical</td>\n",
              "      <td>Not-in-family</td>\n",
              "      <td>White</td>\n",
              "      <td>Male</td>\n",
              "      <td>2174</td>\n",
              "      <td>0</td>\n",
              "      <td>40</td>\n",
              "      <td>United-States</td>\n",
              "      <td>&lt;=50K</td>\n",
              "    </tr>\n",
              "    <tr>\n",
              "      <th>1</th>\n",
              "      <td>50</td>\n",
              "      <td>Self-emp-not-inc</td>\n",
              "      <td>83311</td>\n",
              "      <td>Bachelors</td>\n",
              "      <td>13</td>\n",
              "      <td>Married-civ-spouse</td>\n",
              "      <td>Exec-managerial</td>\n",
              "      <td>Husband</td>\n",
              "      <td>White</td>\n",
              "      <td>Male</td>\n",
              "      <td>0</td>\n",
              "      <td>0</td>\n",
              "      <td>13</td>\n",
              "      <td>United-States</td>\n",
              "      <td>&lt;=50K</td>\n",
              "    </tr>\n",
              "    <tr>\n",
              "      <th>2</th>\n",
              "      <td>38</td>\n",
              "      <td>Private</td>\n",
              "      <td>215646</td>\n",
              "      <td>HS-grad</td>\n",
              "      <td>9</td>\n",
              "      <td>Divorced</td>\n",
              "      <td>Handlers-cleaners</td>\n",
              "      <td>Not-in-family</td>\n",
              "      <td>White</td>\n",
              "      <td>Male</td>\n",
              "      <td>0</td>\n",
              "      <td>0</td>\n",
              "      <td>40</td>\n",
              "      <td>United-States</td>\n",
              "      <td>&lt;=50K</td>\n",
              "    </tr>\n",
              "    <tr>\n",
              "      <th>3</th>\n",
              "      <td>53</td>\n",
              "      <td>Private</td>\n",
              "      <td>234721</td>\n",
              "      <td>11th</td>\n",
              "      <td>7</td>\n",
              "      <td>Married-civ-spouse</td>\n",
              "      <td>Handlers-cleaners</td>\n",
              "      <td>Husband</td>\n",
              "      <td>Black</td>\n",
              "      <td>Male</td>\n",
              "      <td>0</td>\n",
              "      <td>0</td>\n",
              "      <td>40</td>\n",
              "      <td>United-States</td>\n",
              "      <td>&lt;=50K</td>\n",
              "    </tr>\n",
              "    <tr>\n",
              "      <th>4</th>\n",
              "      <td>28</td>\n",
              "      <td>Private</td>\n",
              "      <td>338409</td>\n",
              "      <td>Bachelors</td>\n",
              "      <td>13</td>\n",
              "      <td>Married-civ-spouse</td>\n",
              "      <td>Prof-specialty</td>\n",
              "      <td>Wife</td>\n",
              "      <td>Black</td>\n",
              "      <td>Female</td>\n",
              "      <td>0</td>\n",
              "      <td>0</td>\n",
              "      <td>40</td>\n",
              "      <td>Cuba</td>\n",
              "      <td>&lt;=50K</td>\n",
              "    </tr>\n",
              "  </tbody>\n",
              "</table>\n",
              "</div>\n",
              "    <div class=\"colab-df-buttons\">\n",
              "\n",
              "  <div class=\"colab-df-container\">\n",
              "    <button class=\"colab-df-convert\" onclick=\"convertToInteractive('df-ab829c5d-61b9-4f27-b616-feab0ff00ba8')\"\n",
              "            title=\"Convert this dataframe to an interactive table.\"\n",
              "            style=\"display:none;\">\n",
              "\n",
              "  <svg xmlns=\"http://www.w3.org/2000/svg\" height=\"24px\" viewBox=\"0 -960 960 960\">\n",
              "    <path d=\"M120-120v-720h720v720H120Zm60-500h600v-160H180v160Zm220 220h160v-160H400v160Zm0 220h160v-160H400v160ZM180-400h160v-160H180v160Zm440 0h160v-160H620v160ZM180-180h160v-160H180v160Zm440 0h160v-160H620v160Z\"/>\n",
              "  </svg>\n",
              "    </button>\n",
              "\n",
              "  <style>\n",
              "    .colab-df-container {\n",
              "      display:flex;\n",
              "      gap: 12px;\n",
              "    }\n",
              "\n",
              "    .colab-df-convert {\n",
              "      background-color: #E8F0FE;\n",
              "      border: none;\n",
              "      border-radius: 50%;\n",
              "      cursor: pointer;\n",
              "      display: none;\n",
              "      fill: #1967D2;\n",
              "      height: 32px;\n",
              "      padding: 0 0 0 0;\n",
              "      width: 32px;\n",
              "    }\n",
              "\n",
              "    .colab-df-convert:hover {\n",
              "      background-color: #E2EBFA;\n",
              "      box-shadow: 0px 1px 2px rgba(60, 64, 67, 0.3), 0px 1px 3px 1px rgba(60, 64, 67, 0.15);\n",
              "      fill: #174EA6;\n",
              "    }\n",
              "\n",
              "    .colab-df-buttons div {\n",
              "      margin-bottom: 4px;\n",
              "    }\n",
              "\n",
              "    [theme=dark] .colab-df-convert {\n",
              "      background-color: #3B4455;\n",
              "      fill: #D2E3FC;\n",
              "    }\n",
              "\n",
              "    [theme=dark] .colab-df-convert:hover {\n",
              "      background-color: #434B5C;\n",
              "      box-shadow: 0px 1px 3px 1px rgba(0, 0, 0, 0.15);\n",
              "      filter: drop-shadow(0px 1px 2px rgba(0, 0, 0, 0.3));\n",
              "      fill: #FFFFFF;\n",
              "    }\n",
              "  </style>\n",
              "\n",
              "    <script>\n",
              "      const buttonEl =\n",
              "        document.querySelector('#df-ab829c5d-61b9-4f27-b616-feab0ff00ba8 button.colab-df-convert');\n",
              "      buttonEl.style.display =\n",
              "        google.colab.kernel.accessAllowed ? 'block' : 'none';\n",
              "\n",
              "      async function convertToInteractive(key) {\n",
              "        const element = document.querySelector('#df-ab829c5d-61b9-4f27-b616-feab0ff00ba8');\n",
              "        const dataTable =\n",
              "          await google.colab.kernel.invokeFunction('convertToInteractive',\n",
              "                                                    [key], {});\n",
              "        if (!dataTable) return;\n",
              "\n",
              "        const docLinkHtml = 'Like what you see? Visit the ' +\n",
              "          '<a target=\"_blank\" href=https://colab.research.google.com/notebooks/data_table.ipynb>data table notebook</a>'\n",
              "          + ' to learn more about interactive tables.';\n",
              "        element.innerHTML = '';\n",
              "        dataTable['output_type'] = 'display_data';\n",
              "        await google.colab.output.renderOutput(dataTable, element);\n",
              "        const docLink = document.createElement('div');\n",
              "        docLink.innerHTML = docLinkHtml;\n",
              "        element.appendChild(docLink);\n",
              "      }\n",
              "    </script>\n",
              "  </div>\n",
              "\n",
              "\n",
              "    <div id=\"df-81598f0b-dd91-4d47-a69b-16f43184b22e\">\n",
              "      <button class=\"colab-df-quickchart\" onclick=\"quickchart('df-81598f0b-dd91-4d47-a69b-16f43184b22e')\"\n",
              "                title=\"Suggest charts\"\n",
              "                style=\"display:none;\">\n",
              "\n",
              "<svg xmlns=\"http://www.w3.org/2000/svg\" height=\"24px\"viewBox=\"0 0 24 24\"\n",
              "     width=\"24px\">\n",
              "    <g>\n",
              "        <path d=\"M19 3H5c-1.1 0-2 .9-2 2v14c0 1.1.9 2 2 2h14c1.1 0 2-.9 2-2V5c0-1.1-.9-2-2-2zM9 17H7v-7h2v7zm4 0h-2V7h2v10zm4 0h-2v-4h2v4z\"/>\n",
              "    </g>\n",
              "</svg>\n",
              "      </button>\n",
              "\n",
              "<style>\n",
              "  .colab-df-quickchart {\n",
              "      --bg-color: #E8F0FE;\n",
              "      --fill-color: #1967D2;\n",
              "      --hover-bg-color: #E2EBFA;\n",
              "      --hover-fill-color: #174EA6;\n",
              "      --disabled-fill-color: #AAA;\n",
              "      --disabled-bg-color: #DDD;\n",
              "  }\n",
              "\n",
              "  [theme=dark] .colab-df-quickchart {\n",
              "      --bg-color: #3B4455;\n",
              "      --fill-color: #D2E3FC;\n",
              "      --hover-bg-color: #434B5C;\n",
              "      --hover-fill-color: #FFFFFF;\n",
              "      --disabled-bg-color: #3B4455;\n",
              "      --disabled-fill-color: #666;\n",
              "  }\n",
              "\n",
              "  .colab-df-quickchart {\n",
              "    background-color: var(--bg-color);\n",
              "    border: none;\n",
              "    border-radius: 50%;\n",
              "    cursor: pointer;\n",
              "    display: none;\n",
              "    fill: var(--fill-color);\n",
              "    height: 32px;\n",
              "    padding: 0;\n",
              "    width: 32px;\n",
              "  }\n",
              "\n",
              "  .colab-df-quickchart:hover {\n",
              "    background-color: var(--hover-bg-color);\n",
              "    box-shadow: 0 1px 2px rgba(60, 64, 67, 0.3), 0 1px 3px 1px rgba(60, 64, 67, 0.15);\n",
              "    fill: var(--button-hover-fill-color);\n",
              "  }\n",
              "\n",
              "  .colab-df-quickchart-complete:disabled,\n",
              "  .colab-df-quickchart-complete:disabled:hover {\n",
              "    background-color: var(--disabled-bg-color);\n",
              "    fill: var(--disabled-fill-color);\n",
              "    box-shadow: none;\n",
              "  }\n",
              "\n",
              "  .colab-df-spinner {\n",
              "    border: 2px solid var(--fill-color);\n",
              "    border-color: transparent;\n",
              "    border-bottom-color: var(--fill-color);\n",
              "    animation:\n",
              "      spin 1s steps(1) infinite;\n",
              "  }\n",
              "\n",
              "  @keyframes spin {\n",
              "    0% {\n",
              "      border-color: transparent;\n",
              "      border-bottom-color: var(--fill-color);\n",
              "      border-left-color: var(--fill-color);\n",
              "    }\n",
              "    20% {\n",
              "      border-color: transparent;\n",
              "      border-left-color: var(--fill-color);\n",
              "      border-top-color: var(--fill-color);\n",
              "    }\n",
              "    30% {\n",
              "      border-color: transparent;\n",
              "      border-left-color: var(--fill-color);\n",
              "      border-top-color: var(--fill-color);\n",
              "      border-right-color: var(--fill-color);\n",
              "    }\n",
              "    40% {\n",
              "      border-color: transparent;\n",
              "      border-right-color: var(--fill-color);\n",
              "      border-top-color: var(--fill-color);\n",
              "    }\n",
              "    60% {\n",
              "      border-color: transparent;\n",
              "      border-right-color: var(--fill-color);\n",
              "    }\n",
              "    80% {\n",
              "      border-color: transparent;\n",
              "      border-right-color: var(--fill-color);\n",
              "      border-bottom-color: var(--fill-color);\n",
              "    }\n",
              "    90% {\n",
              "      border-color: transparent;\n",
              "      border-bottom-color: var(--fill-color);\n",
              "    }\n",
              "  }\n",
              "</style>\n",
              "\n",
              "      <script>\n",
              "        async function quickchart(key) {\n",
              "          const quickchartButtonEl =\n",
              "            document.querySelector('#' + key + ' button');\n",
              "          quickchartButtonEl.disabled = true;  // To prevent multiple clicks.\n",
              "          quickchartButtonEl.classList.add('colab-df-spinner');\n",
              "          try {\n",
              "            const charts = await google.colab.kernel.invokeFunction(\n",
              "                'suggestCharts', [key], {});\n",
              "          } catch (error) {\n",
              "            console.error('Error during call to suggestCharts:', error);\n",
              "          }\n",
              "          quickchartButtonEl.classList.remove('colab-df-spinner');\n",
              "          quickchartButtonEl.classList.add('colab-df-quickchart-complete');\n",
              "        }\n",
              "        (() => {\n",
              "          let quickchartButtonEl =\n",
              "            document.querySelector('#df-81598f0b-dd91-4d47-a69b-16f43184b22e button');\n",
              "          quickchartButtonEl.style.display =\n",
              "            google.colab.kernel.accessAllowed ? 'block' : 'none';\n",
              "        })();\n",
              "      </script>\n",
              "    </div>\n",
              "\n",
              "    </div>\n",
              "  </div>\n"
            ],
            "application/vnd.google.colaboratory.intrinsic+json": {
              "type": "dataframe",
              "variable_name": "df",
              "summary": "{\n  \"name\": \"df\",\n  \"rows\": 32561,\n  \"fields\": [\n    {\n      \"column\": \"age\",\n      \"properties\": {\n        \"dtype\": \"number\",\n        \"std\": 13,\n        \"min\": 17,\n        \"max\": 90,\n        \"num_unique_values\": 73,\n        \"samples\": [\n          28,\n          73,\n          35\n        ],\n        \"semantic_type\": \"\",\n        \"description\": \"\"\n      }\n    },\n    {\n      \"column\": \"workclass\",\n      \"properties\": {\n        \"dtype\": \"category\",\n        \"num_unique_values\": 9,\n        \"samples\": [\n          \"Without-pay\",\n          \"Self-emp-not-inc\",\n          \"?\"\n        ],\n        \"semantic_type\": \"\",\n        \"description\": \"\"\n      }\n    },\n    {\n      \"column\": \"fnlwgt\",\n      \"properties\": {\n        \"dtype\": \"number\",\n        \"std\": 105549,\n        \"min\": 12285,\n        \"max\": 1484705,\n        \"num_unique_values\": 21648,\n        \"samples\": [\n          128485,\n          469907,\n          235951\n        ],\n        \"semantic_type\": \"\",\n        \"description\": \"\"\n      }\n    },\n    {\n      \"column\": \"education\",\n      \"properties\": {\n        \"dtype\": \"category\",\n        \"num_unique_values\": 16,\n        \"samples\": [\n          \"Bachelors\",\n          \"HS-grad\",\n          \"Some-college\"\n        ],\n        \"semantic_type\": \"\",\n        \"description\": \"\"\n      }\n    },\n    {\n      \"column\": \"education-num\",\n      \"properties\": {\n        \"dtype\": \"number\",\n        \"std\": 2,\n        \"min\": 1,\n        \"max\": 16,\n        \"num_unique_values\": 16,\n        \"samples\": [\n          13,\n          9,\n          10\n        ],\n        \"semantic_type\": \"\",\n        \"description\": \"\"\n      }\n    },\n    {\n      \"column\": \"marital-status\",\n      \"properties\": {\n        \"dtype\": \"category\",\n        \"num_unique_values\": 7,\n        \"samples\": [\n          \"Never-married\",\n          \"Married-civ-spouse\",\n          \"Married-AF-spouse\"\n        ],\n        \"semantic_type\": \"\",\n        \"description\": \"\"\n      }\n    },\n    {\n      \"column\": \"occupation\",\n      \"properties\": {\n        \"dtype\": \"category\",\n        \"num_unique_values\": 15,\n        \"samples\": [\n          \"Machine-op-inspct\",\n          \"?\",\n          \"Adm-clerical\"\n        ],\n        \"semantic_type\": \"\",\n        \"description\": \"\"\n      }\n    },\n    {\n      \"column\": \"relationship\",\n      \"properties\": {\n        \"dtype\": \"category\",\n        \"num_unique_values\": 6,\n        \"samples\": [\n          \"Not-in-family\",\n          \"Husband\",\n          \"Other-relative\"\n        ],\n        \"semantic_type\": \"\",\n        \"description\": \"\"\n      }\n    },\n    {\n      \"column\": \"race\",\n      \"properties\": {\n        \"dtype\": \"category\",\n        \"num_unique_values\": 5,\n        \"samples\": [\n          \"Black\",\n          \"Other\",\n          \"Asian-Pac-Islander\"\n        ],\n        \"semantic_type\": \"\",\n        \"description\": \"\"\n      }\n    },\n    {\n      \"column\": \"sex\",\n      \"properties\": {\n        \"dtype\": \"category\",\n        \"num_unique_values\": 2,\n        \"samples\": [\n          \"Female\",\n          \"Male\"\n        ],\n        \"semantic_type\": \"\",\n        \"description\": \"\"\n      }\n    },\n    {\n      \"column\": \"capital-gain\",\n      \"properties\": {\n        \"dtype\": \"number\",\n        \"std\": 7385,\n        \"min\": 0,\n        \"max\": 99999,\n        \"num_unique_values\": 119,\n        \"samples\": [\n          3781,\n          15831\n        ],\n        \"semantic_type\": \"\",\n        \"description\": \"\"\n      }\n    },\n    {\n      \"column\": \"capital-loss\",\n      \"properties\": {\n        \"dtype\": \"number\",\n        \"std\": 402,\n        \"min\": 0,\n        \"max\": 4356,\n        \"num_unique_values\": 92,\n        \"samples\": [\n          419,\n          2051\n        ],\n        \"semantic_type\": \"\",\n        \"description\": \"\"\n      }\n    },\n    {\n      \"column\": \"hours-per-week\",\n      \"properties\": {\n        \"dtype\": \"number\",\n        \"std\": 12,\n        \"min\": 1,\n        \"max\": 99,\n        \"num_unique_values\": 94,\n        \"samples\": [\n          6,\n          22\n        ],\n        \"semantic_type\": \"\",\n        \"description\": \"\"\n      }\n    },\n    {\n      \"column\": \"native-country\",\n      \"properties\": {\n        \"dtype\": \"category\",\n        \"num_unique_values\": 42,\n        \"samples\": [\n          \"El-Salvador\",\n          \"Philippines\"\n        ],\n        \"semantic_type\": \"\",\n        \"description\": \"\"\n      }\n    },\n    {\n      \"column\": \"income\",\n      \"properties\": {\n        \"dtype\": \"category\",\n        \"num_unique_values\": 2,\n        \"samples\": [\n          \">50K\",\n          \"<=50K\"\n        ],\n        \"semantic_type\": \"\",\n        \"description\": \"\"\n      }\n    }\n  ]\n}"
            }
          },
          "metadata": {},
          "execution_count": 5
        }
      ]
    },
    {
      "cell_type": "code",
      "source": [
        "# Basic cleaning: drop rows with missing values\n",
        "df = df.dropna().reset_index(drop=True)\n",
        "print(\"Final shape after dropping NA:\", df.shape)\n"
      ],
      "metadata": {
        "colab": {
          "base_uri": "https://localhost:8080/",
          "height": 0
        },
        "id": "rEcMH78Pvj7b",
        "outputId": "dfbdffe2-bae0-4979-f7eb-b9d11d5e821a"
      },
      "execution_count": 6,
      "outputs": [
        {
          "output_type": "stream",
          "name": "stdout",
          "text": [
            "Final shape after dropping NA: (32561, 15)\n"
          ]
        }
      ]
    },
    {
      "cell_type": "code",
      "source": [
        "X = df.drop(\"income\", axis=1)\n",
        "y = df[\"income\"].apply(lambda x: 1 if x.strip() == \">50K\" else 0)\n",
        "\n",
        "# Identify categorical columns\n",
        "cat_features = X.select_dtypes(include=[\"object\"]).columns.tolist()\n",
        "num_features = X.select_dtypes(exclude=[\"object\"]).columns.tolist()\n",
        "\n",
        "X_train, X_test, y_train, y_test = train_test_split(\n",
        "    X, y, test_size=0.2, random_state=42, stratify=y\n",
        ")\n"
      ],
      "metadata": {
        "id": "679OKmBnvoMO"
      },
      "execution_count": 7,
      "outputs": []
    },
    {
      "cell_type": "markdown",
      "source": [
        "Baseline 1 — Gradient Boosting Classifier (scikit-learn default)"
      ],
      "metadata": {
        "id": "0snxK0tt9QGt"
      }
    },
    {
      "cell_type": "code",
      "source": [
        "from sklearn.compose import ColumnTransformer\n",
        "from sklearn.preprocessing import OneHotEncoder\n",
        "from sklearn.pipeline import Pipeline\n",
        "\n",
        "preprocess = ColumnTransformer(\n",
        "    transformers=[(\"cat\", OneHotEncoder(handle_unknown=\"ignore\"), cat_features)],\n",
        "    remainder=\"passthrough\"\n",
        ")\n",
        "\n",
        "gb_baseline = Pipeline(steps=[\n",
        "    (\"preprocess\", preprocess),\n",
        "    (\"model\", GradientBoostingClassifier(random_state=42))\n",
        "])\n",
        "\n",
        "gb_baseline.fit(X_train, y_train)\n",
        "y_pred = gb_baseline.predict(X_test)\n",
        "y_prob = gb_baseline.predict_proba(X_test)[:, 1]\n",
        "\n",
        "print(\"GradientBoostingClassifier (default)\")\n",
        "print(\"Accuracy:\", accuracy_score(y_test, y_pred))\n",
        "print(\"ROC-AUC:\", roc_auc_score(y_test, y_prob))\n"
      ],
      "metadata": {
        "colab": {
          "base_uri": "https://localhost:8080/",
          "height": 0
        },
        "id": "qFYYdutMvra6",
        "outputId": "dad3d836-8784-4377-e2ab-b9caaf92ddec"
      },
      "execution_count": 8,
      "outputs": [
        {
          "output_type": "stream",
          "name": "stdout",
          "text": [
            "GradientBoostingClassifier (default)\n",
            "Accuracy: 0.869031168432366\n",
            "ROC-AUC: 0.923791683002827\n"
          ]
        }
      ]
    },
    {
      "cell_type": "markdown",
      "source": [
        "Baseline 2 — CatBoost Classifier (default parameters)\n",
        "\n",
        "CatBoost handles categorical variables directly, so we do not need to encode them."
      ],
      "metadata": {
        "id": "Y1nCHwCe9lLa"
      }
    },
    {
      "cell_type": "code",
      "source": [
        "train_pool = Pool(X_train, y_train, cat_features=cat_features)\n",
        "test_pool  = Pool(X_test,  y_test,  cat_features=cat_features)\n",
        "\n",
        "cat_default = CatBoostClassifier(\n",
        "    verbose=0,\n",
        "    random_seed=42\n",
        ")\n",
        "cat_default.fit(train_pool)\n",
        "y_pred_cat = cat_default.predict(X_test)\n",
        "y_prob_cat = cat_default.predict_proba(X_test)[:, 1]\n",
        "\n",
        "print(\"CatBoostClassifier (default)\")\n",
        "print(\"Accuracy:\", accuracy_score(y_test, y_pred_cat))\n",
        "print(\"ROC-AUC:\", roc_auc_score(y_test, y_prob_cat))\n"
      ],
      "metadata": {
        "colab": {
          "base_uri": "https://localhost:8080/",
          "height": 0
        },
        "id": "jFznwNNo710N",
        "outputId": "99c7babe-dadb-4622-edf5-8b56c8e966d5"
      },
      "execution_count": 22,
      "outputs": [
        {
          "output_type": "stream",
          "name": "stdout",
          "text": [
            "CatBoostClassifier (default)\n",
            "Accuracy: 0.8785505911254414\n",
            "ROC-AUC: 0.932439874331937\n"
          ]
        }
      ]
    },
    {
      "cell_type": "markdown",
      "source": [
        "\n",
        "Improvement — Hyperparameter Tuning with Optuna\n",
        "\n",
        "optimizing depth, learning_rate, l2_leaf_reg, and iterations."
      ],
      "metadata": {
        "id": "P-YqHFci9RSX"
      }
    },
    {
      "cell_type": "code",
      "source": [
        "from catboost import CatBoostClassifier, Pool, cv\n",
        "import optuna\n",
        "import pandas as pd\n",
        "\n",
        "# Example: categorical columns in Adult dataset\n",
        "cat_features = [\"workclass\", \"education\", \"marital-status\", \"occupation\",\n",
        "                \"relationship\", \"race\", \"sex\", \"native-country\"]\n",
        "\n",
        "# Wrap data in Pool\n",
        "train_pool = Pool(data=X_train, label=y_train, cat_features=cat_features)\n",
        "\n",
        "def objective(trial):\n",
        "    params = {\n",
        "        \"depth\": trial.suggest_int(\"depth\", 4, 10),\n",
        "        \"learning_rate\": trial.suggest_float(\"learning_rate\", 0.01, 0.3),\n",
        "        \"l2_leaf_reg\": trial.suggest_float(\"l2_leaf_reg\", 1.0, 10.0),\n",
        "        \"iterations\": trial.suggest_int(\"iterations\", 200, 800),\n",
        "        \"loss_function\": \"Logloss\",\n",
        "        \"eval_metric\": \"AUC\",\n",
        "        \"random_seed\": 42,\n",
        "        \"verbose\": 0\n",
        "    }\n",
        "\n",
        "    # Use CatBoost cv\n",
        "    cv_results = cv(\n",
        "        params=params,\n",
        "        pool=train_pool,\n",
        "        fold_count=3,\n",
        "        verbose=False,\n",
        "        stratified=True\n",
        "    )\n",
        "\n",
        "    # Return the maximum mean test AUC from cross-validation\n",
        "    return cv_results['test-AUC-mean'].max()\n",
        "\n",
        "study = optuna.create_study(direction=\"maximize\")\n",
        "study.optimize(objective, n_trials=25)\n",
        "\n",
        "print(\"Best parameters:\", study.best_params)\n",
        "print(\"Best CV AUC:\", study.best_value)\n"
      ],
      "metadata": {
        "colab": {
          "base_uri": "https://localhost:8080/",
          "height": 0
        },
        "id": "WtZQsFsWvv5j",
        "outputId": "c70ef8f3-4d09-438f-f9a9-84c54e244874"
      },
      "execution_count": 10,
      "outputs": [
        {
          "output_type": "stream",
          "name": "stderr",
          "text": [
            "[I 2025-10-05 09:52:03,494] A new study created in memory with name: no-name-51f9d5a5-88f0-4268-99cb-0ec4ebae8070\n"
          ]
        },
        {
          "output_type": "stream",
          "name": "stdout",
          "text": [
            "Training on fold [0/3]\n",
            "\n",
            "bestTest = 0.9209027768\n",
            "bestIteration = 219\n",
            "\n",
            "Training on fold [1/3]\n",
            "\n",
            "bestTest = 0.9295028277\n",
            "bestIteration = 218\n",
            "\n",
            "Training on fold [2/3]\n"
          ]
        },
        {
          "output_type": "stream",
          "name": "stderr",
          "text": [
            "[I 2025-10-05 09:52:26,971] Trial 0 finished with value: 0.9257918432274028 and parameters: {'depth': 4, 'learning_rate': 0.1504566365409458, 'l2_leaf_reg': 5.1185965362552075, 'iterations': 221}. Best is trial 0 with value: 0.9257918432274028.\n"
          ]
        },
        {
          "output_type": "stream",
          "name": "stdout",
          "text": [
            "\n",
            "bestTest = 0.9269789949\n",
            "bestIteration = 209\n",
            "\n",
            "Training on fold [0/3]\n",
            "\n",
            "bestTest = 0.9192920901\n",
            "bestIteration = 293\n",
            "\n",
            "Training on fold [1/3]\n",
            "\n",
            "bestTest = 0.9273807461\n",
            "bestIteration = 241\n",
            "\n",
            "Training on fold [2/3]\n"
          ]
        },
        {
          "output_type": "stream",
          "name": "stderr",
          "text": [
            "[I 2025-10-05 09:54:01,462] Trial 1 finished with value: 0.9243116530211206 and parameters: {'depth': 10, 'learning_rate': 0.05596754366675301, 'l2_leaf_reg': 8.658764562772289, 'iterations': 294}. Best is trial 0 with value: 0.9257918432274028.\n"
          ]
        },
        {
          "output_type": "stream",
          "name": "stdout",
          "text": [
            "\n",
            "bestTest = 0.9266553067\n",
            "bestIteration = 287\n",
            "\n",
            "Training on fold [0/3]\n",
            "\n",
            "bestTest = 0.9210574503\n",
            "bestIteration = 332\n",
            "\n",
            "Training on fold [1/3]\n",
            "\n",
            "bestTest = 0.928300154\n",
            "bestIteration = 201\n",
            "\n",
            "Training on fold [2/3]\n"
          ]
        },
        {
          "output_type": "stream",
          "name": "stderr",
          "text": [
            "[I 2025-10-05 09:55:05,092] Trial 2 finished with value: 0.9255104891850842 and parameters: {'depth': 8, 'learning_rate': 0.07004974169129, 'l2_leaf_reg': 3.167516148053057, 'iterations': 366}. Best is trial 0 with value: 0.9257918432274028.\n"
          ]
        },
        {
          "output_type": "stream",
          "name": "stdout",
          "text": [
            "\n",
            "bestTest = 0.9277265761\n",
            "bestIteration = 328\n",
            "\n",
            "Training on fold [0/3]\n",
            "\n",
            "bestTest = 0.9216328329\n",
            "bestIteration = 554\n",
            "\n",
            "Training on fold [1/3]\n",
            "\n",
            "bestTest = 0.9290727961\n",
            "bestIteration = 181\n",
            "\n",
            "Training on fold [2/3]\n"
          ]
        },
        {
          "output_type": "stream",
          "name": "stderr",
          "text": [
            "[I 2025-10-05 09:56:43,380] Trial 3 finished with value: 0.9259095521062838 and parameters: {'depth': 7, 'learning_rate': 0.07776752376561653, 'l2_leaf_reg': 3.035604093394182, 'iterations': 688}. Best is trial 3 with value: 0.9259095521062838.\n"
          ]
        },
        {
          "output_type": "stream",
          "name": "stdout",
          "text": [
            "\n",
            "bestTest = 0.9277915895\n",
            "bestIteration = 405\n",
            "\n",
            "Training on fold [0/3]\n",
            "\n",
            "bestTest = 0.9169888548\n",
            "bestIteration = 60\n",
            "\n",
            "Training on fold [1/3]\n",
            "\n",
            "bestTest = 0.9227390533\n",
            "bestIteration = 17\n",
            "\n",
            "Training on fold [2/3]\n"
          ]
        },
        {
          "output_type": "stream",
          "name": "stderr",
          "text": [
            "[I 2025-10-05 09:58:09,352] Trial 4 finished with value: 0.9200167540087812 and parameters: {'depth': 10, 'learning_rate': 0.2821493880511317, 'l2_leaf_reg': 2.3196908112188095, 'iterations': 254}. Best is trial 3 with value: 0.9259095521062838.\n"
          ]
        },
        {
          "output_type": "stream",
          "name": "stdout",
          "text": [
            "\n",
            "bestTest = 0.9227839638\n",
            "bestIteration = 51\n",
            "\n",
            "Training on fold [0/3]\n",
            "\n",
            "bestTest = 0.9227600924\n",
            "bestIteration = 591\n",
            "\n",
            "Training on fold [1/3]\n",
            "\n",
            "bestTest = 0.9292584478\n",
            "bestIteration = 444\n",
            "\n",
            "Training on fold [2/3]\n"
          ]
        },
        {
          "output_type": "stream",
          "name": "stderr",
          "text": [
            "[I 2025-10-05 09:59:16,108] Trial 5 finished with value: 0.9268037592219192 and parameters: {'depth': 5, 'learning_rate': 0.0873777287310142, 'l2_leaf_reg': 3.591318830023826, 'iterations': 654}. Best is trial 5 with value: 0.9268037592219192.\n"
          ]
        },
        {
          "output_type": "stream",
          "name": "stdout",
          "text": [
            "\n",
            "bestTest = 0.9285890916\n",
            "bestIteration = 648\n",
            "\n",
            "Training on fold [0/3]\n",
            "\n",
            "bestTest = 0.9227553767\n",
            "bestIteration = 278\n",
            "\n",
            "Training on fold [1/3]\n",
            "\n",
            "bestTest = 0.9279599738\n",
            "bestIteration = 97\n",
            "\n",
            "Training on fold [2/3]\n"
          ]
        },
        {
          "output_type": "stream",
          "name": "stderr",
          "text": [
            "[I 2025-10-05 09:59:57,411] Trial 6 finished with value: 0.9258182616812638 and parameters: {'depth': 5, 'learning_rate': 0.28627330710398785, 'l2_leaf_reg': 6.981513395314929, 'iterations': 423}. Best is trial 5 with value: 0.9268037592219192.\n"
          ]
        },
        {
          "output_type": "stream",
          "name": "stdout",
          "text": [
            "\n",
            "bestTest = 0.9281438662\n",
            "bestIteration = 341\n",
            "\n",
            "Training on fold [0/3]\n",
            "\n",
            "bestTest = 0.922499244\n",
            "bestIteration = 610\n",
            "\n",
            "Training on fold [1/3]\n",
            "\n",
            "bestTest = 0.9298179423\n",
            "bestIteration = 378\n",
            "\n",
            "Training on fold [2/3]\n"
          ]
        },
        {
          "output_type": "stream",
          "name": "stderr",
          "text": [
            "[I 2025-10-05 10:01:08,953] Trial 7 finished with value: 0.926829921963495 and parameters: {'depth': 6, 'learning_rate': 0.05213340202097124, 'l2_leaf_reg': 2.558421716238695, 'iterations': 615}. Best is trial 7 with value: 0.926829921963495.\n"
          ]
        },
        {
          "output_type": "stream",
          "name": "stdout",
          "text": [
            "\n",
            "bestTest = 0.9285176205\n",
            "bestIteration = 614\n",
            "\n",
            "Training on fold [0/3]\n",
            "\n",
            "bestTest = 0.9184827747\n",
            "bestIteration = 110\n",
            "\n",
            "Training on fold [1/3]\n",
            "\n",
            "bestTest = 0.9254778338\n",
            "bestIteration = 39\n",
            "\n",
            "Training on fold [2/3]\n"
          ]
        },
        {
          "output_type": "stream",
          "name": "stderr",
          "text": [
            "[I 2025-10-05 10:04:59,762] Trial 8 finished with value: 0.9225478960874464 and parameters: {'depth': 10, 'learning_rate': 0.19388483533759512, 'l2_leaf_reg': 6.829989784475509, 'iterations': 662}. Best is trial 7 with value: 0.926829921963495.\n"
          ]
        },
        {
          "output_type": "stream",
          "name": "stdout",
          "text": [
            "\n",
            "bestTest = 0.9246225869\n",
            "bestIteration = 91\n",
            "\n",
            "Training on fold [0/3]\n",
            "\n",
            "bestTest = 0.9210060497\n",
            "bestIteration = 306\n",
            "\n",
            "Training on fold [1/3]\n",
            "\n",
            "bestTest = 0.9285387299\n",
            "bestIteration = 218\n",
            "\n",
            "Training on fold [2/3]\n"
          ]
        },
        {
          "output_type": "stream",
          "name": "stderr",
          "text": [
            "[I 2025-10-05 10:05:26,824] Trial 9 finished with value: 0.9255322484351884 and parameters: {'depth': 4, 'learning_rate': 0.11558649161997221, 'l2_leaf_reg': 8.253944518380194, 'iterations': 310}. Best is trial 7 with value: 0.926829921963495.\n"
          ]
        },
        {
          "output_type": "stream",
          "name": "stdout",
          "text": [
            "\n",
            "bestTest = 0.9271319505\n",
            "bestIteration = 309\n",
            "\n",
            "Training on fold [0/3]\n",
            "\n",
            "bestTest = 0.9172021113\n",
            "bestIteration = 791\n",
            "\n",
            "Training on fold [1/3]\n",
            "\n",
            "bestTest = 0.9277047843\n",
            "bestIteration = 797\n",
            "\n",
            "Training on fold [2/3]\n"
          ]
        },
        {
          "output_type": "stream",
          "name": "stderr",
          "text": [
            "[I 2025-10-05 10:07:42,199] Trial 10 finished with value: 0.9232027132110355 and parameters: {'depth': 8, 'learning_rate': 0.012716658515354723, 'l2_leaf_reg': 1.6294924189021147, 'iterations': 799}. Best is trial 7 with value: 0.926829921963495.\n"
          ]
        },
        {
          "output_type": "stream",
          "name": "stdout",
          "text": [
            "\n",
            "bestTest = 0.9247196716\n",
            "bestIteration = 795\n",
            "\n",
            "Training on fold [0/3]\n",
            "\n",
            "bestTest = 0.9192928155\n",
            "bestIteration = 557\n",
            "\n",
            "Training on fold [1/3]\n",
            "\n",
            "bestTest = 0.9285105085\n",
            "bestIteration = 557\n",
            "\n",
            "Training on fold [2/3]\n"
          ]
        },
        {
          "output_type": "stream",
          "name": "stderr",
          "text": [
            "[I 2025-10-05 10:08:47,582] Trial 11 finished with value: 0.9247220719211203 and parameters: {'depth': 6, 'learning_rate': 0.023796433641013668, 'l2_leaf_reg': 4.54030871563178, 'iterations': 558}. Best is trial 7 with value: 0.926829921963495.\n"
          ]
        },
        {
          "output_type": "stream",
          "name": "stdout",
          "text": [
            "\n",
            "bestTest = 0.9263628917\n",
            "bestIteration = 557\n",
            "\n",
            "Training on fold [0/3]\n",
            "\n",
            "bestTest = 0.9223196864\n",
            "bestIteration = 377\n",
            "\n",
            "Training on fold [1/3]\n",
            "\n",
            "bestTest = 0.9296951901\n",
            "bestIteration = 258\n",
            "\n",
            "Training on fold [2/3]\n"
          ]
        },
        {
          "output_type": "stream",
          "name": "stderr",
          "text": [
            "[I 2025-10-05 10:09:52,662] Trial 12 finished with value: 0.926453911133852 and parameters: {'depth': 6, 'learning_rate': 0.11680239557421493, 'l2_leaf_reg': 4.100929443234719, 'iterations': 554}. Best is trial 7 with value: 0.926829921963495.\n"
          ]
        },
        {
          "output_type": "stream",
          "name": "stdout",
          "text": [
            "\n",
            "bestTest = 0.9279778862\n",
            "bestIteration = 277\n",
            "\n",
            "Training on fold [0/3]\n",
            "\n",
            "bestTest = 0.9208296841\n",
            "bestIteration = 95\n",
            "\n",
            "Training on fold [1/3]\n",
            "\n",
            "bestTest = 0.9285090938\n",
            "bestIteration = 102\n",
            "\n",
            "Training on fold [2/3]\n"
          ]
        },
        {
          "output_type": "stream",
          "name": "stderr",
          "text": [
            "[I 2025-10-05 10:11:11,959] Trial 13 finished with value: 0.9254849412955415 and parameters: {'depth': 6, 'learning_rate': 0.2086537210518639, 'l2_leaf_reg': 1.6481599560837532, 'iterations': 658}. Best is trial 7 with value: 0.926829921963495.\n"
          ]
        },
        {
          "output_type": "stream",
          "name": "stdout",
          "text": [
            "\n",
            "bestTest = 0.9273126964\n",
            "bestIteration = 130\n",
            "\n",
            "Training on fold [0/3]\n",
            "\n",
            "bestTest = 0.9231051333\n",
            "bestIteration = 689\n",
            "\n",
            "Training on fold [1/3]\n",
            "\n",
            "bestTest = 0.929791317\n",
            "bestIteration = 322\n",
            "\n",
            "Training on fold [2/3]\n"
          ]
        },
        {
          "output_type": "stream",
          "name": "stderr",
          "text": [
            "[I 2025-10-05 10:12:29,050] Trial 14 finished with value: 0.9267124753645374 and parameters: {'depth': 5, 'learning_rate': 0.106690599427464, 'l2_leaf_reg': 1.0254489111937, 'iterations': 766}. Best is trial 7 with value: 0.926829921963495.\n"
          ]
        },
        {
          "output_type": "stream",
          "name": "stdout",
          "text": [
            "\n",
            "bestTest = 0.9283702883\n",
            "bestIteration = 462\n",
            "\n",
            "Training on fold [0/3]\n",
            "\n",
            "bestTest = 0.9212148081\n",
            "bestIteration = 495\n",
            "\n",
            "Training on fold [1/3]\n",
            "\n",
            "bestTest = 0.9296212269\n",
            "bestIteration = 477\n",
            "\n",
            "Training on fold [2/3]\n"
          ]
        },
        {
          "output_type": "stream",
          "name": "stderr",
          "text": [
            "[I 2025-10-05 10:13:16,828] Trial 15 finished with value: 0.9260007229525873 and parameters: {'depth': 5, 'learning_rate': 0.045479790195666316, 'l2_leaf_reg': 3.6080337054271094, 'iterations': 497}. Best is trial 7 with value: 0.926829921963495.\n"
          ]
        },
        {
          "output_type": "stream",
          "name": "stdout",
          "text": [
            "\n",
            "bestTest = 0.9272316836\n",
            "bestIteration = 486\n",
            "\n",
            "Training on fold [0/3]\n",
            "\n",
            "bestTest = 0.9214597683\n",
            "bestIteration = 230\n",
            "\n",
            "Training on fold [1/3]\n",
            "\n",
            "bestTest = 0.9278858655\n",
            "bestIteration = 150\n",
            "\n",
            "Training on fold [2/3]\n"
          ]
        },
        {
          "output_type": "stream",
          "name": "stderr",
          "text": [
            "[I 2025-10-05 10:14:40,708] Trial 16 finished with value: 0.9253506310687079 and parameters: {'depth': 7, 'learning_rate': 0.15386606638316608, 'l2_leaf_reg': 5.9919265428118464, 'iterations': 589}. Best is trial 7 with value: 0.926829921963495.\n"
          ]
        },
        {
          "output_type": "stream",
          "name": "stdout",
          "text": [
            "\n",
            "bestTest = 0.9270395822\n",
            "bestIteration = 237\n",
            "\n",
            "Training on fold [0/3]\n",
            "\n",
            "bestTest = 0.9214436988\n",
            "bestIteration = 416\n",
            "\n",
            "Training on fold [1/3]\n",
            "\n",
            "bestTest = 0.928139205\n",
            "bestIteration = 274\n",
            "\n",
            "Training on fold [2/3]\n"
          ]
        },
        {
          "output_type": "stream",
          "name": "stderr",
          "text": [
            "[I 2025-10-05 10:16:01,649] Trial 17 finished with value: 0.9256040039701636 and parameters: {'depth': 8, 'learning_rate': 0.08731327122364774, 'l2_leaf_reg': 9.820619434900333, 'iterations': 472}. Best is trial 7 with value: 0.926829921963495.\n"
          ]
        },
        {
          "output_type": "stream",
          "name": "stdout",
          "text": [
            "\n",
            "bestTest = 0.9277560716\n",
            "bestIteration = 339\n",
            "\n",
            "Training on fold [0/3]\n",
            "\n",
            "bestTest = 0.9230565258\n",
            "bestIteration = 368\n",
            "\n",
            "Training on fold [1/3]\n",
            "\n",
            "bestTest = 0.9308687356\n",
            "bestIteration = 235\n",
            "\n",
            "Training on fold [2/3]\n"
          ]
        },
        {
          "output_type": "stream",
          "name": "stderr",
          "text": [
            "[I 2025-10-05 10:17:01,740] Trial 18 finished with value: 0.9270566813247115 and parameters: {'depth': 4, 'learning_rate': 0.19703747354789575, 'l2_leaf_reg': 2.4724251168410945, 'iterations': 715}. Best is trial 18 with value: 0.9270566813247115.\n"
          ]
        },
        {
          "output_type": "stream",
          "name": "stdout",
          "text": [
            "\n",
            "bestTest = 0.9279771969\n",
            "bestIteration = 374\n",
            "\n",
            "Training on fold [0/3]\n",
            "\n",
            "bestTest = 0.9217544243\n",
            "bestIteration = 232\n",
            "\n",
            "Training on fold [1/3]\n",
            "\n",
            "bestTest = 0.9304726567\n",
            "bestIteration = 342\n",
            "\n",
            "Training on fold [2/3]\n"
          ]
        },
        {
          "output_type": "stream",
          "name": "stderr",
          "text": [
            "[I 2025-10-05 10:18:03,942] Trial 19 finished with value: 0.9266837953260499 and parameters: {'depth': 4, 'learning_rate': 0.23737369260632085, 'l2_leaf_reg': 2.451054683795518, 'iterations': 724}. Best is trial 18 with value: 0.9270566813247115.\n"
          ]
        },
        {
          "output_type": "stream",
          "name": "stdout",
          "text": [
            "\n",
            "bestTest = 0.9283443482\n",
            "bestIteration = 305\n",
            "\n",
            "Training on fold [0/3]\n",
            "\n",
            "bestTest = 0.9198539423\n",
            "bestIteration = 100\n",
            "\n",
            "Training on fold [1/3]\n",
            "\n",
            "bestTest = 0.9261844567\n",
            "bestIteration = 67\n",
            "\n",
            "Training on fold [2/3]\n"
          ]
        },
        {
          "output_type": "stream",
          "name": "stderr",
          "text": [
            "[I 2025-10-05 10:21:02,203] Trial 20 finished with value: 0.9236502982409563 and parameters: {'depth': 9, 'learning_rate': 0.1771761191208093, 'l2_leaf_reg': 5.2475110352928915, 'iterations': 733}. Best is trial 18 with value: 0.9270566813247115.\n"
          ]
        },
        {
          "output_type": "stream",
          "name": "stdout",
          "text": [
            "\n",
            "bestTest = 0.9264737627\n",
            "bestIteration = 113\n",
            "\n",
            "Training on fold [0/3]\n",
            "\n",
            "bestTest = 0.9233323554\n",
            "bestIteration = 226\n",
            "\n",
            "Training on fold [1/3]\n",
            "\n",
            "bestTest = 0.9290794343\n",
            "bestIteration = 210\n",
            "\n",
            "Training on fold [2/3]\n"
          ]
        },
        {
          "output_type": "stream",
          "name": "stderr",
          "text": [
            "[I 2025-10-05 10:22:02,872] Trial 21 finished with value: 0.9264483684139538 and parameters: {'depth': 5, 'learning_rate': 0.2400041226961372, 'l2_leaf_reg': 2.5241087144849086, 'iterations': 610}. Best is trial 18 with value: 0.9270566813247115.\n"
          ]
        },
        {
          "output_type": "stream",
          "name": "stdout",
          "text": [
            "\n",
            "bestTest = 0.9275099495\n",
            "bestIteration = 216\n",
            "\n",
            "Training on fold [0/3]\n",
            "\n",
            "bestTest = 0.9215324257\n",
            "bestIteration = 651\n",
            "\n",
            "Training on fold [1/3]\n",
            "\n",
            "bestTest = 0.9292844565\n",
            "bestIteration = 494\n",
            "\n",
            "Training on fold [2/3]\n"
          ]
        },
        {
          "output_type": "stream",
          "name": "stderr",
          "text": [
            "[I 2025-10-05 10:23:18,643] Trial 22 finished with value: 0.9263296682839783 and parameters: {'depth': 6, 'learning_rate': 0.04365165193050978, 'l2_leaf_reg': 3.9701101084871615, 'iterations': 654}. Best is trial 18 with value: 0.9270566813247115.\n"
          ]
        },
        {
          "output_type": "stream",
          "name": "stdout",
          "text": [
            "\n",
            "bestTest = 0.9283750772\n",
            "bestIteration = 647\n",
            "\n",
            "Training on fold [0/3]\n",
            "\n",
            "bestTest = 0.923608185\n",
            "bestIteration = 581\n",
            "\n",
            "Training on fold [1/3]\n",
            "\n",
            "bestTest = 0.9300933366\n",
            "bestIteration = 575\n",
            "\n",
            "Training on fold [2/3]\n"
          ]
        },
        {
          "output_type": "stream",
          "name": "stderr",
          "text": [
            "[I 2025-10-05 10:24:09,698] Trial 23 finished with value: 0.9271960235660112 and parameters: {'depth': 4, 'learning_rate': 0.13665986440279793, 'l2_leaf_reg': 3.1866245311176273, 'iterations': 612}. Best is trial 23 with value: 0.9271960235660112.\n"
          ]
        },
        {
          "output_type": "stream",
          "name": "stdout",
          "text": [
            "\n",
            "bestTest = 0.9281593939\n",
            "bestIteration = 496\n",
            "\n",
            "Training on fold [0/3]\n",
            "\n",
            "bestTest = 0.9220263726\n",
            "bestIteration = 419\n",
            "\n",
            "Training on fold [1/3]\n",
            "\n",
            "bestTest = 0.9305332711\n",
            "bestIteration = 204\n",
            "\n",
            "Training on fold [2/3]\n"
          ]
        },
        {
          "output_type": "stream",
          "name": "stderr",
          "text": [
            "[I 2025-10-05 10:25:00,392] Trial 24 finished with value: 0.9269275860375842 and parameters: {'depth': 4, 'learning_rate': 0.12949522723456397, 'l2_leaf_reg': 1.0467952514756598, 'iterations': 603}. Best is trial 23 with value: 0.9271960235660112.\n"
          ]
        },
        {
          "output_type": "stream",
          "name": "stdout",
          "text": [
            "\n",
            "bestTest = 0.9287889207\n",
            "bestIteration = 439\n",
            "\n",
            "Best parameters: {'depth': 4, 'learning_rate': 0.13665986440279793, 'l2_leaf_reg': 3.1866245311176273, 'iterations': 612}\n",
            "Best CV AUC: 0.9271960235660112\n"
          ]
        }
      ]
    },
    {
      "cell_type": "markdown",
      "source": [
        "Training CatBoost with the best parameters->"
      ],
      "metadata": {
        "id": "pAAUPzen-Jpk"
      }
    },
    {
      "cell_type": "code",
      "source": [
        "best_params = study.best_params\n",
        "cat_tuned = CatBoostClassifier(**best_params, verbose=0)\n",
        "cat_tuned.fit(train_pool)\n",
        "\n",
        "y_pred_tuned = cat_tuned.predict(X_test)\n",
        "y_prob_tuned = cat_tuned.predict_proba(X_test)[:, 1]\n",
        "\n",
        "print(\"CatBoost (tuned)\")\n",
        "print(\"Accuracy:\", accuracy_score(y_test, y_pred_tuned))\n",
        "print(\"ROC-AUC:\", roc_auc_score(y_test, y_prob_tuned))\n"
      ],
      "metadata": {
        "colab": {
          "base_uri": "https://localhost:8080/",
          "height": 0
        },
        "id": "itY3iTRT-Io0",
        "outputId": "012da29d-5ea3-4654-b2f5-15a8adcbec16"
      },
      "execution_count": 23,
      "outputs": [
        {
          "output_type": "stream",
          "name": "stdout",
          "text": [
            "CatBoost (tuned)\n",
            "Accuracy: 0.8780899738983571\n",
            "ROC-AUC: 0.9333453705041166\n"
          ]
        }
      ]
    },
    {
      "cell_type": "markdown",
      "source": [
        "Evaluation and Visualization\n",
        "ROC Curve Comparison->"
      ],
      "metadata": {
        "id": "PkRz0KWN_Ijs"
      }
    },
    {
      "cell_type": "code",
      "source": [
        "fpr_base, tpr_base, _ = roc_curve(y_test, y_prob_cat)\n",
        "fpr_tuned, tpr_tuned, _ = roc_curve(y_test, y_prob_tuned)\n",
        "\n",
        "plt.figure(figsize=(6,5))\n",
        "plt.plot(fpr_base, tpr_base, label=\"CatBoost default\")\n",
        "plt.plot(fpr_tuned, tpr_tuned, label=\"CatBoost tuned\")\n",
        "plt.plot([0,1],[0,1],'k--')\n",
        "plt.xlabel(\"False Positive Rate\")\n",
        "plt.ylabel(\"True Positive Rate\")\n",
        "plt.title(\"ROC Curve Comparison\")\n",
        "plt.legend()\n",
        "plt.show()\n"
      ],
      "metadata": {
        "colab": {
          "base_uri": "https://localhost:8080/",
          "height": 487
        },
        "id": "HhqwjW-U56kI",
        "outputId": "3666a3e7-316c-4fbd-cd48-0710160cfd37"
      },
      "execution_count": 24,
      "outputs": [
        {
          "output_type": "display_data",
          "data": {
            "text/plain": [
              "<Figure size 600x500 with 1 Axes>"
            ],
            "image/png": "[encoded data removed]"
          },
          "metadata": {}
        }
      ]
    },
    {
      "cell_type": "markdown",
      "source": [
        "Feature Importance->"
      ],
      "metadata": {
        "id": "4XOSigUm_LY9"
      }
    },
    {
      "cell_type": "code",
      "source": [
        "feature_importances = pd.Series(cat_tuned.get_feature_importance(), index=X_train.columns)\n",
        "feature_importances.sort_values(ascending=False).head(10).plot.barh()\n",
        "plt.title(\"Top 10 Important Features (CatBoost)\")\n",
        "plt.gca().invert_yaxis()\n",
        "plt.show()\n"
      ],
      "metadata": {
        "colab": {
          "base_uri": "https://localhost:8080/",
          "height": 452
        },
        "id": "qD5BNaxe6EKV",
        "outputId": "51eac668-5d41-44ef-e96e-e3b4227e051a"
      },
      "execution_count": 25,
      "outputs": [
        {
          "output_type": "display_data",
          "data": {
            "text/plain": [
              "<Figure size 640x480 with 1 Axes>"
            ],
            "image/png": "[encoded data removed]"
          },
          "metadata": {}
        }
      ]
    }
  ]
}