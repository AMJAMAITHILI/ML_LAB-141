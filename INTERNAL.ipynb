{
  "nbformat": 4,
  "nbformat_minor": 0,
  "metadata": {
    "colab": {
      "provenance": [],
      "authorship_tag": "ABX9TyNN7hFJ6IGRMzaetyMgvsOx",
      "include_colab_link": true
    },
    "kernelspec": {
      "name": "python3",
      "display_name": "Python 3"
    },
    "language_info": {
      "name": "python"
    }
  },
  "cells": [
    {
      "cell_type": "markdown",
      "metadata": {
        "id": "view-in-github",
        "colab_type": "text"
      },
      "source": [
        "<a href=\"https://colab.research.google.com/github/AMJAMAITHILI/ML_LAB-141/blob/main/INTERNAL.ipynb\" target=\"_parent\"><img src=\"https://colab.research.google.com/assets/colab-badge.svg\" alt=\"Open In Colab\"/></a>"
      ]
    },
    {
      "cell_type": "code",
      "execution_count": 1,
      "metadata": {
        "colab": {
          "base_uri": "https://localhost:8080/"
        },
        "id": "_SEjHEn39qbE",
        "outputId": "28f649cc-d53d-4c3f-f774-f62f4685944b"
      },
      "outputs": [
        {
          "output_type": "stream",
          "name": "stdout",
          "text": [
            "Intercept (b0): 2.0692396089424143\n",
            "Slope (b1): 0.7965923043030702\n",
            "\n",
            "Interpretation: For each 1 standard deviation increase in median income, the house price changes by 0.80 units.\n",
            "\n",
            "Metrics on Test Data:\n",
            "Mean Squared Error (MSE): 0.6917979868048499\n",
            "Mean Absolute Error (MAE): 0.6231559293823171\n",
            "Root Mean Squared Error (RMSE): 0.8317439430526982\n"
          ]
        }
      ],
      "source": [
        "# Step 1: Import libraries\n",
        "import numpy as np\n",
        "import pandas as pd\n",
        "from sklearn.datasets import fetch_california_housing\n",
        "from sklearn.model_selection import train_test_split\n",
        "from sklearn.linear_model import LinearRegression\n",
        "from sklearn.preprocessing import StandardScaler\n",
        "from sklearn.metrics import mean_squared_error, mean_absolute_error\n",
        "\n",
        "# Step 2: Load dataset\n",
        "california = fetch_california_housing()\n",
        "X = california.data[:, 0].reshape(-1, 1)  # Use MedInc (median income) as single feature\n",
        "y = california.target\n",
        "\n",
        "# Step 3: Train-test split\n",
        "X_train, X_test, y_train, y_test = train_test_split(X, y, test_size=0.3, random_state=42)\n",
        "\n",
        "# Step 4: Standardize features (optional but recommended)\n",
        "scaler = StandardScaler()\n",
        "X_train_scaled = scaler.fit_transform(X_train)\n",
        "X_test_scaled = scaler.transform(X_test)\n",
        "\n",
        "# Step 5: Linear Regression model\n",
        "lr = LinearRegression()\n",
        "lr.fit(X_train_scaled, y_train)\n",
        "\n",
        "# Step 6: Predictions\n",
        "y_pred = lr.predict(X_test_scaled)\n",
        "\n",
        "# Step 7: Display intercept and slope\n",
        "print(\"Intercept (b0):\", lr.intercept_)\n",
        "print(\"Slope (b1):\", lr.coef_[0])\n",
        "print(f\"\\nInterpretation: For each 1 standard deviation increase in median income, the house price changes by {lr.coef_[0]:.2f} units.\\n\")\n",
        "\n",
        "# Step 8: Compute metrics\n",
        "mse = mean_squared_error(y_test, y_pred)\n",
        "mae = mean_absolute_error(y_test, y_pred)\n",
        "rmse = np.sqrt(mse)\n",
        "\n",
        "print(\"Metrics on Test Data:\")\n",
        "print(\"Mean Squared Error (MSE):\", mse)\n",
        "print(\"Mean Absolute Error (MAE):\", mae)\n",
        "print(\"Root Mean Squared Error (RMSE):\", rmse)\n"
      ]
    },
    {
      "cell_type": "code",
      "source": [
        "import pandas as pd\n",
        "from sklearn.linear_model import LinearRegression\n",
        "\n",
        "# Load data\n",
        "data = pd.read_csv(\"/content/Salary.csv\")\n",
        "X = data[['YearsExperience']]\n",
        "y = data['Salary']\n",
        "\n",
        "# Train model\n",
        "model = LinearRegression()\n",
        "model.fit(X, y)\n",
        "\n",
        "# Sample years to check\n",
        "sample_years = [1, 3, 5, 7, 10]\n",
        "\n",
        "print(\"Predicted Salaries for Sample Years of Experience:\")\n",
        "for year in sample_years:\n",
        "    predicted_salary = model.predict([[year]])[0]\n",
        "    print(f\"Years of Experience: {year}, Predicted Salary: {predicted_salary:.2f}\")\n"
      ],
      "metadata": {
        "id": "1gq6H8SQ_z8G"
      },
      "execution_count": null,
      "outputs": []
    },
    {
      "cell_type": "code",
      "source": [
        "import pandas as pd\n",
        "from sklearn.model_selection import train_test_split\n",
        "from sklearn.linear_model import LogisticRegression\n",
        "from sklearn.metrics import confusion_matrix, accuracy_score, precision_score, recall_score, f1_score\n",
        "\n",
        "url = \"https://raw.githubusercontent.com/jbrownlee/Datasets/master/pima-indians-diabetes.data.csv\"\n",
        "columns = ['Pregnancies','Glucose','BloodPressure','SkinThickness','Insulin','BMI','DiabetesPedigree','Age','Outcome']\n",
        "data = pd.read_csv(url, names=columns)\n",
        "X = data.drop('Outcome', axis=1)\n",
        "y = data['Outcome']\n",
        "X_train, X_test, y_train, y_test = train_test_split(X, y, test_size=0.2, random_state=42)\n",
        "\n",
        "model = LogisticRegression(max_iter=1000)#1000 to make sure safe convergence\n",
        "model.fit(X_train, y_train)\n",
        "y_pred = model.predict(X_test)\n",
        "\n",
        "cm = confusion_matrix(y_test, y_pred)#shows TP, TN, FP, FN:\n",
        "accuracy = accuracy_score(y_test, y_pred)\n",
        "precision = precision_score(y_test, y_pred)\n",
        "recall = recall_score(y_test, y_pred)\n",
        "f1 = f1_score(y_test, y_pred)\n",
        "\n",
        "print(\"Confusion Matrix:\\n\", cm)\n",
        "print(\"Accuracy:\", accuracy)\n",
        "print(\"Precision:\", precision)\n",
        "print(\"Recall:\", recall)\n",
        "print(\"F1 Score:\", f1)\n",
        "\n",
        "TN, FP, FN, TP = cm.ravel()\n",
        "manual_accuracy = (TP + TN) / (TP + TN + FP + FN)\n",
        "manual_precision = TP / (TP + FP) if (TP + FP) != 0 else 0\n",
        "manual_recall = TP / (TP + FN) if (TP + FN) != 0 else 0\n",
        "manual_f1 = 2 * manual_precision * manual_recall / (manual_precision + manual_recall) if (manual_precision + manual_recall) != 0 else 0\n",
        "\n",
        "print(\"\\nManual Calculation:\")\n",
        "print(\"Accuracy:\", manual_accuracy)\n",
        "print(\"Precision:\", manual_precision)\n",
        "print(\"Recall:\", manual_recall)\n",
        "print(\"F1 Score:\", manual_f1)\n",
        "\n"
      ],
      "metadata": {
        "id": "L0UC0vyuANU7"
      },
      "execution_count": null,
      "outputs": []
    },
    {
      "cell_type": "code",
      "source": [
        "import numpy as np\n",
        "import pandas as pd\n",
        "import matplotlib.pyplot as plt\n",
        "from sklearn.datasets import load_diabetes\n",
        "from sklearn.model_selection import train_test_split\n",
        "from sklearn.preprocessing import PolynomialFeatures, StandardScaler\n",
        "from sklearn.linear_model import LinearRegression\n",
        "from sklearn.metrics import mean_absolute_error, mean_squared_error, r2_score\n",
        "\n",
        "diabetes = load_diabetes()\n",
        "X = diabetes.data[:, 2].reshape(-1, 1)   #taking just BMI feature[2nd col] for visualization\n",
        "y = diabetes.target\n",
        "\n",
        "X_train, X_test, y_train, y_test = train_test_split(X, y, test_size=0.2, random_state=42)\n",
        "\n",
        "# Polynomial transformation->degree 2\n",
        "degree = 2\n",
        "poly_features = PolynomialFeatures(degree=degree)# means to convert to curve of degree 2 y=β0​+β1​x+β2​x2\n",
        "X_train_poly = poly_features.fit_transform(X_train)#1st col bias term 2nd col x 3rd col x2 then the model predicts β0,β1 and β2\n",
        "X_test_poly = poly_features.transform(X_test)\n",
        "\n",
        "model = LinearRegression()\n",
        "model.fit(X_train_poly, y_train)\n",
        "\n",
        "y_pred = model.predict(X_test_poly)\n",
        "\n",
        "mae = mean_absolute_error(y_test, y_pred)\n",
        "mse = mean_squared_error(y_test, y_pred)\n",
        "rmse = np.sqrt(mse)\n",
        "r2 = r2_score(y_test, y_pred)\n",
        "\n",
        "print(\"Polynomial Regression (degree 2):\")\n",
        "print(\"MAE:\", mae)\n",
        "print(\"MSE:\", mse)\n",
        "print(\"RMSE:\", rmse)\n",
        "print(\"R² Score:\", r2)\n",
        "\n",
        "# Visualization\n",
        "plt.scatter(X_test, y_test, color=\"blue\", label=\"Actual Data\")\n",
        "plt.scatter(X_test, y_pred, color=\"red\", label=\"Predicted (Poly)\")\n",
        "plt.xlabel(\"BMI\")\n",
        "plt.ylabel(\"Diabetes Progression\")\n",
        "plt.title(\"Polynomial Regression (Degree 2)\")\n",
        "plt.legend()\n",
        "plt.show()\n",
        "results = pd.DataFrame({\n",
        "    \"Actual\": y_test,\n",
        "    \"Predicted\": y_pred\n",
        "})\n",
        "\n",
        "print(\"\\nActual vs Predicted Values (sample):\")\n",
        "print(results.head(10))\n",
        ""
      ],
      "metadata": {
        "id": "rbaL961XATNA"
      },
      "execution_count": null,
      "outputs": []
    }
  ]
}