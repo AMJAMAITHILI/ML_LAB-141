{
  "nbformat": 4,
  "nbformat_minor": 0,
  "metadata": {
    "colab": {
      "provenance": [],
      "authorship_tag": "ABX9TyPB98WXyb+w8Wo8HhOC0PEb",
      "include_colab_link": true
    },
    "kernelspec": {
      "name": "python3",
      "display_name": "Python 3"
    },
    "language_info": {
      "name": "python"
    }
  },
  "cells": [
    {
      "cell_type": "markdown",
      "metadata": {
        "id": "view-in-github",
        "colab_type": "text"
      },
      "source": [
        "<a href=\"https://colab.research.google.com/github/AMJAMAITHILI/ML_LAB-141/blob/main/ML_LAB8.ipynb\" target=\"_parent\"><img src=\"https://colab.research.google.com/assets/colab-badge.svg\" alt=\"Open In Colab\"/></a>"
      ]
    },
    {
      "cell_type": "markdown",
      "source": [
        "**1. Comparing Single vs. Ensemble Classifiers**"
      ],
      "metadata": {
        "id": "Ujfjx1mgBP4H"
      }
    },
    {
      "cell_type": "code",
      "source": [
        "from google.colab import files\n",
        "f=files.upload()"
      ],
      "metadata": {
        "colab": {
          "base_uri": "https://localhost:8080/",
          "height": 73
        },
        "id": "jpbzBa3GAJFH",
        "outputId": "cb57c306-9f7b-45a6-f314-9c66aca342a8"
      },
      "execution_count": 1,
      "outputs": [
        {
          "output_type": "display_data",
          "data": {
            "text/plain": [
              "<IPython.core.display.HTML object>"
            ],
            "text/html": [
              "\n",
              "     <input type=\"file\" id=\"files-2c9a5fc4-0cd4-4425-9b2f-b9ba3bae6089\" name=\"files[]\" multiple disabled\n",
              "        style=\"border:none\" />\n",
              "     <output id=\"result-2c9a5fc4-0cd4-4425-9b2f-b9ba3bae6089\">\n",
              "      Upload widget is only available when the cell has been executed in the\n",
              "      current browser session. Please rerun this cell to enable.\n",
              "      </output>\n",
              "      <script>// Copyright 2017 Google LLC\n",
              "//\n",
              "// Licensed under the Apache License, Version 2.0 (the \"License\");\n",
              "// you may not use this file except in compliance with the License.\n",
              "// You may obtain a copy of the License at\n",
              "//\n",
              "//      http://www.apache.org/licenses/LICENSE-2.0\n",
              "//\n",
              "// Unless required by applicable law or agreed to in writing, software\n",
              "// distributed under the License is distributed on an \"AS IS\" BASIS,\n",
              "// WITHOUT WARRANTIES OR CONDITIONS OF ANY KIND, either express or implied.\n",
              "// See the License for the specific language governing permissions and\n",
              "// limitations under the License.\n",
              "\n",
              "/**\n",
              " * @fileoverview Helpers for google.colab Python module.\n",
              " */\n",
              "(function(scope) {\n",
              "function span(text, styleAttributes = {}) {\n",
              "  const element = document.createElement('span');\n",
              "  element.textContent = text;\n",
              "  for (const key of Object.keys(styleAttributes)) {\n",
              "    element.style[key] = styleAttributes[key];\n",
              "  }\n",
              "  return element;\n",
              "}\n",
              "\n",
              "// Max number of bytes which will be uploaded at a time.\n",
              "const MAX_PAYLOAD_SIZE = 100 * 1024;\n",
              "\n",
              "function _uploadFiles(inputId, outputId) {\n",
              "  const steps = uploadFilesStep(inputId, outputId);\n",
              "  const outputElement = document.getElementById(outputId);\n",
              "  // Cache steps on the outputElement to make it available for the next call\n",
              "  // to uploadFilesContinue from Python.\n",
              "  outputElement.steps = steps;\n",
              "\n",
              "  return _uploadFilesContinue(outputId);\n",
              "}\n",
              "\n",
              "// This is roughly an async generator (not supported in the browser yet),\n",
              "// where there are multiple asynchronous steps and the Python side is going\n",
              "// to poll for completion of each step.\n",
              "// This uses a Promise to block the python side on completion of each step,\n",
              "// then passes the result of the previous step as the input to the next step.\n",
              "function _uploadFilesContinue(outputId) {\n",
              "  const outputElement = document.getElementById(outputId);\n",
              "  const steps = outputElement.steps;\n",
              "\n",
              "  const next = steps.next(outputElement.lastPromiseValue);\n",
              "  return Promise.resolve(next.value.promise).then((value) => {\n",
              "    // Cache the last promise value to make it available to the next\n",
              "    // step of the generator.\n",
              "    outputElement.lastPromiseValue = value;\n",
              "    return next.value.response;\n",
              "  });\n",
              "}\n",
              "\n",
              "/**\n",
              " * Generator function which is called between each async step of the upload\n",
              " * process.\n",
              " * @param {string} inputId Element ID of the input file picker element.\n",
              " * @param {string} outputId Element ID of the output display.\n",
              " * @return {!Iterable<!Object>} Iterable of next steps.\n",
              " */\n",
              "function* uploadFilesStep(inputId, outputId) {\n",
              "  const inputElement = document.getElementById(inputId);\n",
              "  inputElement.disabled = false;\n",
              "\n",
              "  const outputElement = document.getElementById(outputId);\n",
              "  outputElement.innerHTML = '';\n",
              "\n",
              "  const pickedPromise = new Promise((resolve) => {\n",
              "    inputElement.addEventListener('change', (e) => {\n",
              "      resolve(e.target.files);\n",
              "    });\n",
              "  });\n",
              "\n",
              "  const cancel = document.createElement('button');\n",
              "  inputElement.parentElement.appendChild(cancel);\n",
              "  cancel.textContent = 'Cancel upload';\n",
              "  const cancelPromise = new Promise((resolve) => {\n",
              "    cancel.onclick = () => {\n",
              "      resolve(null);\n",
              "    };\n",
              "  });\n",
              "\n",
              "  // Wait for the user to pick the files.\n",
              "  const files = yield {\n",
              "    promise: Promise.race([pickedPromise, cancelPromise]),\n",
              "    response: {\n",
              "      action: 'starting',\n",
              "    }\n",
              "  };\n",
              "\n",
              "  cancel.remove();\n",
              "\n",
              "  // Disable the input element since further picks are not allowed.\n",
              "  inputElement.disabled = true;\n",
              "\n",
              "  if (!files) {\n",
              "    return {\n",
              "      response: {\n",
              "        action: 'complete',\n",
              "      }\n",
              "    };\n",
              "  }\n",
              "\n",
              "  for (const file of files) {\n",
              "    const li = document.createElement('li');\n",
              "    li.append(span(file.name, {fontWeight: 'bold'}));\n",
              "    li.append(span(\n",
              "        `(${file.type || 'n/a'}) - ${file.size} bytes, ` +\n",
              "        `last modified: ${\n",
              "            file.lastModifiedDate ? file.lastModifiedDate.toLocaleDateString() :\n",
              "                                    'n/a'} - `));\n",
              "    const percent = span('0% done');\n",
              "    li.appendChild(percent);\n",
              "\n",
              "    outputElement.appendChild(li);\n",
              "\n",
              "    const fileDataPromise = new Promise((resolve) => {\n",
              "      const reader = new FileReader();\n",
              "      reader.onload = (e) => {\n",
              "        resolve(e.target.result);\n",
              "      };\n",
              "      reader.readAsArrayBuffer(file);\n",
              "    });\n",
              "    // Wait for the data to be ready.\n",
              "    let fileData = yield {\n",
              "      promise: fileDataPromise,\n",
              "      response: {\n",
              "        action: 'continue',\n",
              "      }\n",
              "    };\n",
              "\n",
              "    // Use a chunked sending to avoid message size limits. See b/62115660.\n",
              "    let position = 0;\n",
              "    do {\n",
              "      const length = Math.min(fileData.byteLength - position, MAX_PAYLOAD_SIZE);\n",
              "      const chunk = new Uint8Array(fileData, position, length);\n",
              "      position += length;\n",
              "\n",
              "      const base64 = btoa(String.fromCharCode.apply(null, chunk));\n",
              "      yield {\n",
              "        response: {\n",
              "          action: 'append',\n",
              "          file: file.name,\n",
              "          data: base64,\n",
              "        },\n",
              "      };\n",
              "\n",
              "      let percentDone = fileData.byteLength === 0 ?\n",
              "          100 :\n",
              "          Math.round((position / fileData.byteLength) * 100);\n",
              "      percent.textContent = `${percentDone}% done`;\n",
              "\n",
              "    } while (position < fileData.byteLength);\n",
              "  }\n",
              "\n",
              "  // All done.\n",
              "  yield {\n",
              "    response: {\n",
              "      action: 'complete',\n",
              "    }\n",
              "  };\n",
              "}\n",
              "\n",
              "scope.google = scope.google || {};\n",
              "scope.google.colab = scope.google.colab || {};\n",
              "scope.google.colab._files = {\n",
              "  _uploadFiles,\n",
              "  _uploadFilesContinue,\n",
              "};\n",
              "})(self);\n",
              "</script> "
            ]
          },
          "metadata": {}
        },
        {
          "output_type": "stream",
          "name": "stdout",
          "text": [
            "Saving diabetes.csv to diabetes.csv\n"
          ]
        }
      ]
    },
    {
      "cell_type": "code",
      "source": [
        "import pandas as pd\n",
        "from sklearn.model_selection import train_test_split\n",
        "from sklearn.tree import DecisionTreeClassifier\n",
        "from sklearn.ensemble import RandomForestClassifier\n",
        "from sklearn.metrics import accuracy_score, precision_score, recall_score, f1_score\n",
        "df = pd.read_csv('diabetes.csv')\n",
        "print(df.isnull().sum())\n",
        "X = df.iloc[:, :-1]\n",
        "y = df.iloc[:, -1]\n",
        "X_train, X_test, y_train, y_test = train_test_split(X, y, test_size=0.3, random_state=42)"
      ],
      "metadata": {
        "colab": {
          "base_uri": "https://localhost:8080/"
        },
        "id": "we_CpF6bDIb2",
        "outputId": "bc130a94-e5c5-4c33-daf7-d9c4e5302ed1"
      },
      "execution_count": 2,
      "outputs": [
        {
          "output_type": "stream",
          "name": "stdout",
          "text": [
            "Pregnancies                 0\n",
            "Glucose                     0\n",
            "BloodPressure               0\n",
            "SkinThickness               0\n",
            "Insulin                     0\n",
            "BMI                         0\n",
            "DiabetesPedigreeFunction    0\n",
            "Age                         0\n",
            "Outcome                     0\n",
            "dtype: int64\n"
          ]
        }
      ]
    },
    {
      "cell_type": "code",
      "source": [
        "dt = DecisionTreeClassifier(random_state=42)#same splits and trees every time you run your code.\n",
        "dt.fit(X_train, y_train)\n",
        "y_pred_dt = dt.predict(X_test)\n",
        "rf = RandomForestClassifier(random_state=42)#default 100 estimators\n",
        "rf.fit(X_train, y_train)\n",
        "y_pred_rf = rf.predict(X_test)\n",
        "def print_metrics(y_true, y_pred, model_name):\n",
        "    print(model_name+\" Performance\")\n",
        "    print(f\"Accuracy:  {accuracy_score(y_true, y_pred):.4f}\")\n",
        "    print(f\"Precision: {precision_score(y_true, y_pred, zero_division=0):.4f}\")\n",
        "    print(f\"Recall:    {recall_score(y_true, y_pred, zero_division=0):.4f}\")\n",
        "    print(f\"F1 Score:  {f1_score(y_true, y_pred, zero_division=0):.4f}\\n\")\n",
        "print_metrics(y_test, y_pred_dt, \"Decision Tree\")\n",
        "print_metrics(y_test, y_pred_rf, \"Random Forest\")\n"
      ],
      "metadata": {
        "colab": {
          "base_uri": "https://localhost:8080/"
        },
        "id": "uLH8mzbMB9v-",
        "outputId": "d98246ff-3a59-4090-e22a-6bb36aca7672"
      },
      "execution_count": null,
      "outputs": [
        {
          "output_type": "stream",
          "name": "stdout",
          "text": [
            "Decision Tree Performance\n",
            "Accuracy:  0.7013\n",
            "Precision: 0.5556\n",
            "Recall:    0.6875\n",
            "F1 Score:  0.6145\n",
            "\n",
            "Random Forest Performance\n",
            "Accuracy:  0.7532\n",
            "Precision: 0.6386\n",
            "Recall:    0.6625\n",
            "F1 Score:  0.6503\n",
            "\n"
          ]
        }
      ]
    },
    {
      "cell_type": "markdown",
      "source": [
        "comparing single method with ensemble method->in case of Decision Tree evaluation metric<Random Forest except for the recall part The ensemble may prioritize better precision, reducing false positives, which can come at a minor cost to recall.Random Forest generally aims to reduce variance and overfitting by averaging multiple trees."
      ],
      "metadata": {
        "id": "tRlksgTFFo2-"
      }
    },
    {
      "cell_type": "code",
      "source": [
        "from sklearn.ensemble import RandomForestClassifier\n",
        "from sklearn.model_selection import GridSearchCV\n",
        "from sklearn.metrics import make_scorer, accuracy_score\n",
        "param_grid = {\n",
        "    'n_estimators': [50, 100, 200],\n",
        "    'max_depth': [None, 10, 20, 30],\n",
        "    'min_samples_split': [2, 5, 10],\n",
        "    'min_samples_leaf': [1, 2, 4],\n",
        "    'max_features': ['auto', 'sqrt']\n",
        "}\n",
        "rf = RandomForestClassifier(random_state=42)\n",
        "scorer = make_scorer(accuracy_score)\n",
        "grid_search = GridSearchCV(\n",
        "    estimator=rf,\n",
        "    param_grid=param_grid,\n",
        "    scoring=scorer,\n",
        "    cv=5,\n",
        "    n_jobs=-1,\n",
        "    verbose=2\n",
        ")\n",
        "\n",
        "grid_search.fit(X_train, y_train)\n",
        "print(\"Best parameters found: \", grid_search.best_params_)\n",
        "print(f\"Best cross-validation accuracy: {grid_search.best_score_:.4f}\")\n",
        "best_rf = grid_search.best_estimator_\n",
        "y_pred = best_rf.predict(X_test)\n",
        "\n",
        "print(\"\\nTest set performance with best parameters:\")\n",
        "print(f\"Accuracy:  {accuracy_score(y_test, y_pred):.4f}\")\n",
        "print(f\"Precision: {precision_score(y_test, y_pred, zero_division=0):.4f}\")\n",
        "print(f\"Recall:    {recall_score(y_test, y_pred, zero_division=0):.4f}\")\n",
        "print(f\"F1 Score:  {f1_score(y_test, y_pred, zero_division=0):.4f}\")\n"
      ],
      "metadata": {
        "colab": {
          "base_uri": "https://localhost:8080/"
        },
        "id": "y1qnJk3dMnfG",
        "outputId": "c3fc30c4-4ed2-4a36-b0fe-b272a5910da0"
      },
      "execution_count": null,
      "outputs": [
        {
          "output_type": "stream",
          "name": "stdout",
          "text": [
            "Fitting 5 folds for each of 216 candidates, totalling 1080 fits\n"
          ]
        },
        {
          "output_type": "stream",
          "name": "stderr",
          "text": [
            "/usr/local/lib/python3.12/dist-packages/sklearn/model_selection/_validation.py:528: FitFailedWarning: \n",
            "540 fits failed out of a total of 1080.\n",
            "The score on these train-test partitions for these parameters will be set to nan.\n",
            "If these failures are not expected, you can try to debug them by setting error_score='raise'.\n",
            "\n",
            "Below are more details about the failures:\n",
            "--------------------------------------------------------------------------------\n",
            "394 fits failed with the following error:\n",
            "Traceback (most recent call last):\n",
            "  File \"/usr/local/lib/python3.12/dist-packages/sklearn/model_selection/_validation.py\", line 866, in _fit_and_score\n",
            "    estimator.fit(X_train, y_train, **fit_params)\n",
            "  File \"/usr/local/lib/python3.12/dist-packages/sklearn/base.py\", line 1382, in wrapper\n",
            "    estimator._validate_params()\n",
            "  File \"/usr/local/lib/python3.12/dist-packages/sklearn/base.py\", line 436, in _validate_params\n",
            "    validate_parameter_constraints(\n",
            "  File \"/usr/local/lib/python3.12/dist-packages/sklearn/utils/_param_validation.py\", line 98, in validate_parameter_constraints\n",
            "    raise InvalidParameterError(\n",
            "sklearn.utils._param_validation.InvalidParameterError: The 'max_features' parameter of RandomForestClassifier must be an int in the range [1, inf), a float in the range (0.0, 1.0], a str among {'sqrt', 'log2'} or None. Got 'auto' instead.\n",
            "\n",
            "--------------------------------------------------------------------------------\n",
            "146 fits failed with the following error:\n",
            "Traceback (most recent call last):\n",
            "  File \"/usr/local/lib/python3.12/dist-packages/sklearn/model_selection/_validation.py\", line 866, in _fit_and_score\n",
            "    estimator.fit(X_train, y_train, **fit_params)\n",
            "  File \"/usr/local/lib/python3.12/dist-packages/sklearn/base.py\", line 1382, in wrapper\n",
            "    estimator._validate_params()\n",
            "  File \"/usr/local/lib/python3.12/dist-packages/sklearn/base.py\", line 436, in _validate_params\n",
            "    validate_parameter_constraints(\n",
            "  File \"/usr/local/lib/python3.12/dist-packages/sklearn/utils/_param_validation.py\", line 98, in validate_parameter_constraints\n",
            "    raise InvalidParameterError(\n",
            "sklearn.utils._param_validation.InvalidParameterError: The 'max_features' parameter of RandomForestClassifier must be an int in the range [1, inf), a float in the range (0.0, 1.0], a str among {'log2', 'sqrt'} or None. Got 'auto' instead.\n",
            "\n",
            "  warnings.warn(some_fits_failed_message, FitFailedWarning)\n",
            "/usr/local/lib/python3.12/dist-packages/sklearn/model_selection/_search.py:1108: UserWarning: One or more of the test scores are non-finite: [       nan        nan        nan        nan        nan        nan\n",
            "        nan        nan        nan        nan        nan        nan\n",
            "        nan        nan        nan        nan        nan        nan\n",
            "        nan        nan        nan        nan        nan        nan\n",
            "        nan        nan        nan 0.76713396 0.7746279  0.77836622\n",
            " 0.76905504 0.76907234 0.76720318 0.76902042 0.77274143 0.76898581\n",
            " 0.75974386 0.75413638 0.7709242  0.7541883  0.76346487 0.757892\n",
            " 0.7652821  0.76715126 0.76715126 0.76535133 0.77087227 0.77459328\n",
            " 0.76535133 0.77087227 0.77459328 0.75976116 0.76900312 0.76529941\n",
            "        nan        nan        nan        nan        nan        nan\n",
            "        nan        nan        nan        nan        nan        nan\n",
            "        nan        nan        nan        nan        nan        nan\n",
            "        nan        nan        nan        nan        nan        nan\n",
            "        nan        nan        nan 0.75782278 0.76898581 0.77277605\n",
            " 0.75785739 0.76156109 0.77461059 0.7652648  0.77270682 0.7652648\n",
            " 0.757892   0.75976116 0.76346487 0.76341295 0.76529941 0.7652821\n",
            " 0.76341295 0.76715126 0.7652821  0.76905504 0.77275874 0.76902042\n",
            " 0.76905504 0.77275874 0.76902042 0.76159571 0.75970924 0.7615784\n",
            "        nan        nan        nan        nan        nan        nan\n",
            "        nan        nan        nan        nan        nan        nan\n",
            "        nan        nan        nan        nan        nan        nan\n",
            "        nan        nan        nan        nan        nan        nan\n",
            "        nan        nan        nan 0.76713396 0.7746279  0.77836622\n",
            " 0.76905504 0.76907234 0.76720318 0.76902042 0.77274143 0.76898581\n",
            " 0.75974386 0.75413638 0.7709242  0.7541883  0.76346487 0.757892\n",
            " 0.7652821  0.76715126 0.76715126 0.76535133 0.77087227 0.77459328\n",
            " 0.76535133 0.77087227 0.77459328 0.75976116 0.76900312 0.76529941\n",
            "        nan        nan        nan        nan        nan        nan\n",
            "        nan        nan        nan        nan        nan        nan\n",
            "        nan        nan        nan        nan        nan        nan\n",
            "        nan        nan        nan        nan        nan        nan\n",
            "        nan        nan        nan 0.76713396 0.7746279  0.77836622\n",
            " 0.76905504 0.76907234 0.76720318 0.76902042 0.77274143 0.76898581\n",
            " 0.75974386 0.75413638 0.7709242  0.7541883  0.76346487 0.757892\n",
            " 0.7652821  0.76715126 0.76715126 0.76535133 0.77087227 0.77459328\n",
            " 0.76535133 0.77087227 0.77459328 0.75976116 0.76900312 0.76529941]\n",
            "  warnings.warn(\n"
          ]
        },
        {
          "output_type": "stream",
          "name": "stdout",
          "text": [
            "Best parameters found:  {'max_depth': None, 'max_features': 'sqrt', 'min_samples_leaf': 1, 'min_samples_split': 2, 'n_estimators': 200}\n",
            "Best cross-validation accuracy: 0.7784\n",
            "\n",
            "Test set performance with best parameters:\n",
            "Accuracy:  0.7532\n",
            "Precision: 0.6420\n",
            "Recall:    0.6500\n",
            "F1 Score:  0.6460\n"
          ]
        }
      ]
    },
    {
      "cell_type": "markdown",
      "source": [
        "How does increasing the number of estimators affect performance and stability?"
      ],
      "metadata": {
        "id": "lJb_Xw-BsPp8"
      }
    },
    {
      "cell_type": "code",
      "source": [
        "n_estimators_list = [1,5,10, 50, 100, 200,300]\n",
        "\n",
        "accuracy_scores = []\n",
        "precision_scores = []\n",
        "recall_scores = []\n",
        "f1_scores = []\n",
        "\n",
        "for n in n_estimators_list:\n",
        "    rf = RandomForestClassifier(n_estimators=n, random_state=42)\n",
        "    rf.fit(X_train, y_train)\n",
        "    y_pred = rf.predict(X_test)\n",
        "\n",
        "    accuracy_scores.append(accuracy_score(y_test, y_pred))\n",
        "    precision_scores.append(precision_score(y_test, y_pred, zero_division=0))#zero_division=0->incase of zero division error\n",
        "    recall_scores.append(recall_score(y_test, y_pred, zero_division=0))\n",
        "    f1_scores.append(f1_score(y_test, y_pred, zero_division=0))\n",
        "for i in range(len(n_estimators_list)):\n",
        "    print(\"n_estimator\",n_estimators_list[i])\n",
        "    print(f\"Accuracy:  {accuracy_scores[i]:.4f}\")\n",
        "    print(f\"Precision: {precision_scores[i]:.4f}\")\n",
        "    print(f\"Recall:    {recall_scores[i]:.4f}\")\n",
        "    print(f\"F1 Score:  {f1_scores[i]:.4f}\\n\")\n"
      ],
      "metadata": {
        "colab": {
          "base_uri": "https://localhost:8080/"
        },
        "id": "gA3Gi9nLDdWd",
        "outputId": "aaeba852-994c-4c56-d0f3-a87ee437ae67"
      },
      "execution_count": null,
      "outputs": [
        {
          "output_type": "stream",
          "name": "stdout",
          "text": [
            "n_estimator 1\n",
            "Accuracy:  0.6667\n",
            "Precision: 0.5161\n",
            "Recall:    0.6000\n",
            "F1 Score:  0.5549\n",
            "\n",
            "n_estimator 5\n",
            "Accuracy:  0.7186\n",
            "Precision: 0.5862\n",
            "Recall:    0.6375\n",
            "F1 Score:  0.6108\n",
            "\n",
            "n_estimator 10\n",
            "Accuracy:  0.7403\n",
            "Precision: 0.6316\n",
            "Recall:    0.6000\n",
            "F1 Score:  0.6154\n",
            "\n",
            "n_estimator 50\n",
            "Accuracy:  0.7403\n",
            "Precision: 0.6163\n",
            "Recall:    0.6625\n",
            "F1 Score:  0.6386\n",
            "\n",
            "n_estimator 100\n",
            "Accuracy:  0.7532\n",
            "Precision: 0.6386\n",
            "Recall:    0.6625\n",
            "F1 Score:  0.6503\n",
            "\n",
            "n_estimator 200\n",
            "Accuracy:  0.7532\n",
            "Precision: 0.6420\n",
            "Recall:    0.6500\n",
            "F1 Score:  0.6460\n",
            "\n",
            "n_estimator 300\n",
            "Accuracy:  0.7532\n",
            "Precision: 0.6420\n",
            "Recall:    0.6500\n",
            "F1 Score:  0.6460\n",
            "\n"
          ]
        }
      ]
    },
    {
      "cell_type": "markdown",
      "source": [
        "increasing the no of estimator increases the evaluation metrics upto a point and there after taking 100 it decreased and remained constant(precision,recall,f1 score) gives minimal improvement so 100 suits the best"
      ],
      "metadata": {
        "id": "8MsA5Rd7E7fe"
      }
    },
    {
      "cell_type": "markdown",
      "source": [
        "**2. Implementing Simple Ensemble Techniques**\n",
        "\n",
        "Task:\n",
        "**Write a program that demonstrates the use of simple ensemble techniques: Max Voting,Average Voting, and Weighted Average Voting**\n"
      ],
      "metadata": {
        "id": "oRfOUHtYsXH8"
      }
    },
    {
      "cell_type": "code",
      "source": [
        "import pandas as pd\n",
        "from sklearn.model_selection import train_test_split\n",
        "from sklearn.tree import DecisionTreeClassifier\n",
        "from sklearn.linear_model import LogisticRegression\n",
        "from sklearn.neighbors import KNeighborsClassifier\n",
        "from sklearn.metrics import accuracy_score, precision_score, recall_score, f1_score\n",
        "import numpy as np\n",
        "from scipy.stats import mode\n",
        "df = pd.read_csv('diabetes.csv')\n",
        "X = df.iloc[:, :-1]\n",
        "y = df.iloc[:, -1]\n",
        "X_train, X_test, y_train, y_test = train_test_split(X, y, test_size=0.3, random_state=42)\n",
        "models = {\n",
        "    'Decision Tree': DecisionTreeClassifier(random_state=42),\n",
        "    'Logistic Regression': LogisticRegression(max_iter=1000, random_state=42),\n",
        "    'KNN': KNeighborsClassifier()\n",
        "}\n",
        "predictions = {}\n",
        "probabilities = {}\n",
        "model_scores = {}\n",
        "\n",
        "for name, model in models.items():\n",
        "    model.fit(X_train, y_train)\n",
        "    pred = model.predict(X_test)\n",
        "    prob = model.predict_proba(X_test)[:, 1]#of correctly predicted only there are 2 cols->-ve,+ve)\n",
        "\n",
        "    predictions[name] = pred\n",
        "    probabilities[name] = prob\n",
        "\n",
        "    acc = accuracy_score(y_test, pred)\n",
        "    model_scores[name] = acc\n",
        "    print(f\"{name} Accuracy: {acc:.4f}\")\n",
        "\n",
        "# 1. Max Voting (majority vote on predicted classes)\n",
        "all_preds = np.array(list(predictions.values()))\n",
        "max_vote_preds, _ = mode(all_preds, axis=0)\n",
        "max_vote_preds = max_vote_preds.flatten()\n",
        "\n",
        "# 2. Average Voting (average predicted probabilities, threshold=0.5)\n",
        "avg_probs = np.mean(np.array(list(probabilities.values())), axis=0)\n",
        "avg_vote_preds = (avg_probs >= 0.5).astype(int)\n",
        "\n",
        "# 3. Weighted Average Voting (weights based on model accuracy)\n",
        "weights = np.array([model_scores[name] for name in models.keys()])\n",
        "weights = weights / weights.sum()  # normalize weights to sum=1\n",
        "\n",
        "weighted_probs = np.zeros_like(avg_probs)\n",
        "for i, name in enumerate(models.keys()):\n",
        "    weighted_probs += weights[i] * probabilities[name]\n",
        "\n",
        "weighted_vote_preds = (weighted_probs >= 0.5).astype(int)\n",
        "\"\"\"array([\n",
        "    [0.2, 0.8, 0.6, 0.4],  # Logistic Regression\n",
        "    [0.3, 0.7, 0.9, 0.2],  # Decision Tree\n",
        "    [0.1, 0.9, 0.8, 0.5]   # KNN\n",
        "])\n",
        "avg1​=(0.2+0.3+0.1)/3=0.2avg2​=(0.8+0.7+0.9)/3=0.8avg3​=(0.6+0.9+0.8)/3=0.7667avg4​=(0.4+0.2+0.5)/3=0.3667->avg voting\n",
        "weight*prob->weighted_prob\n",
        "\"\"\"\n",
        "\n",
        "# Evaluation function\n",
        "def print_metrics(y_true, y_pred, label):\n",
        "    print(label)\n",
        "    print(f\"Accuracy:  {accuracy_score(y_true, y_pred):.4f}\")\n",
        "    print(f\"Precision: {precision_score(y_true, y_pred, zero_division=0):.4f}\")\n",
        "    print(f\"Recall:    {recall_score(y_true, y_pred, zero_division=0):.4f}\")\n",
        "    print(f\"F1 Score:  {f1_score(y_true, y_pred, zero_division=0):.4f}\\n\")\n",
        "\n",
        "# Print results\n",
        "print_metrics(y_test, max_vote_preds, \"Max Voting Ensemble\")\n",
        "print_metrics(y_test, avg_vote_preds, \"Average Voting Ensemble\")\n",
        "print_metrics(y_test, weighted_vote_preds, \"Weighted Average Voting Ensemble\")\n"
      ],
      "metadata": {
        "colab": {
          "base_uri": "https://localhost:8080/"
        },
        "id": "F3f2Mir2Ic-d",
        "outputId": "245d0457-a913-4520-b0a9-242e68b7231e"
      },
      "execution_count": null,
      "outputs": [
        {
          "output_type": "stream",
          "name": "stdout",
          "text": [
            "Decision Tree Accuracy: 0.7013\n",
            "Logistic Regression Accuracy: 0.7359\n",
            "KNN Accuracy: 0.6883\n",
            "Max Voting Ensemble\n",
            "Accuracy:  0.7186\n",
            "Precision: 0.5862\n",
            "Recall:    0.6375\n",
            "F1 Score:  0.6108\n",
            "\n",
            "Average Voting Ensemble\n",
            "Accuracy:  0.7100\n",
            "Precision: 0.5714\n",
            "Recall:    0.6500\n",
            "F1 Score:  0.6082\n",
            "\n",
            "Weighted Average Voting Ensemble\n",
            "Accuracy:  0.7100\n",
            "Precision: 0.5714\n",
            "Recall:    0.6500\n",
            "F1 Score:  0.6082\n",
            "\n"
          ]
        }
      ]
    },
    {
      "cell_type": "markdown",
      "source": [
        "**3. Hard Voting vs. Soft Voting Classifiers**\n",
        "\n",
        "Task:\n",
        " **Write a program to show the difference between Hard Voting and Soft Voting classifiers\n",
        "in ensemble learning using multiple base learners (e.g., Decision Tree, Logistic\n",
        "Regression, and KNN).**"
      ],
      "metadata": {
        "id": "AmbRAr-jsqIm"
      }
    },
    {
      "cell_type": "markdown",
      "source": [
        "| Type            | What It Does          | How It Works                                                                                                                          |\n",
        "| --------------- | --------------------- | ------------------------------------------------------------------------------------------------------------------------------------- |\n",
        "| **Hard Voting** | Majority Voting       | Each model predicts a class label (0 or 1). The final class is chosen by majority vote.                                               |\n",
        "| **Soft Voting** | Probability Averaging | Each model outputs class probabilities. The probabilities are averaged, and the class with the highest average probability is chosen. |\n"
      ],
      "metadata": {
        "id": "HoQ0eC5kVoG9"
      }
    },
    {
      "cell_type": "code",
      "source": [
        "from sklearn.tree import DecisionTreeClassifier\n",
        "from sklearn.linear_model import LogisticRegression\n",
        "from sklearn.neighbors import KNeighborsClassifier\n",
        "from sklearn.ensemble import VotingClassifier\n",
        "from sklearn.metrics import accuracy_score, precision_score, recall_score, f1_score\n",
        "\n",
        "model1 = LogisticRegression(max_iter=1000, random_state=42)\n",
        "model2 = DecisionTreeClassifier(random_state=42)\n",
        "model3 = KNeighborsClassifier()\n",
        "\n",
        "hard_voting = VotingClassifier(\n",
        "    estimators=[('lr', model1), ('dt', model2), ('knn', model3)],\n",
        "    voting='hard'\n",
        ")\n",
        "\n",
        "soft_voting = VotingClassifier(\n",
        "    estimators=[('lr', model1), ('dt', model2), ('knn', model3)],\n",
        "    voting='soft'\n",
        ")\n",
        "\n",
        "hard_voting.fit(X_train, y_train)\n",
        "soft_voting.fit(X_train, y_train)\n",
        "\n",
        "y_pred_hard = hard_voting.predict(X_test)\n",
        "y_pred_soft = soft_voting.predict(X_test)\n",
        "\n",
        "print(\"Hard Voting Performance:\")\n",
        "print(f\"Accuracy:  {accuracy_score(y_test, y_pred_hard):.4f}\")\n",
        "print(f\"Precision: {precision_score(y_test, y_pred_hard, zero_division=0):.4f}\")\n",
        "print(f\"Recall:    {recall_score(y_test, y_pred_hard, zero_division=0):.4f}\")\n",
        "print(f\"F1 Score:  {f1_score(y_test, y_pred_hard, zero_division=0):.4f}\")\n",
        "\n",
        "print(\"\\nSoft Voting Performance:\")\n",
        "print(f\"Accuracy:  {accuracy_score(y_test, y_pred_soft):.4f}\")\n",
        "print(f\"Precision: {precision_score(y_test, y_pred_soft, zero_division=0):.4f}\")\n",
        "print(f\"Recall:    {recall_score(y_test, y_pred_soft, zero_division=0):.4f}\")\n",
        "print(f\"F1 Score:  {f1_score(y_test, y_pred_soft, zero_division=0):.4f}\")\n"
      ],
      "metadata": {
        "colab": {
          "base_uri": "https://localhost:8080/"
        },
        "id": "0kBwWPd_VYnd",
        "outputId": "6a23f858-3168-4bd8-9980-fc5bb012c45f"
      },
      "execution_count": null,
      "outputs": [
        {
          "output_type": "stream",
          "name": "stdout",
          "text": [
            "Hard Voting Performance:\n",
            "Accuracy:  0.7186\n",
            "Precision: 0.5862\n",
            "Recall:    0.6375\n",
            "F1 Score:  0.6108\n",
            "\n",
            "Soft Voting Performance:\n",
            "Accuracy:  0.7100\n",
            "Precision: 0.5714\n",
            "Recall:    0.6500\n",
            "F1 Score:  0.6082\n"
          ]
        }
      ]
    },
    {
      "cell_type": "markdown",
      "source": [
        "**4. Exploring Bagging Technique (Random Forest)**\n",
        "\n"
      ],
      "metadata": {
        "id": "MmmpAGHHtkFE"
      }
    },
    {
      "cell_type": "code",
      "source": [
        "from sklearn.ensemble import RandomForestClassifier\n",
        "from sklearn.metrics import accuracy_score\n",
        "for n in [10, 50, 100, 200]:\n",
        "    model = RandomForestClassifier(n_estimators=n, max_depth=None, random_state=42)\n",
        "    model.fit(X_train, y_train)\n",
        "    y_pred = model.predict(X_test)\n",
        "    acc = accuracy_score(y_test, y_pred)\n",
        "    print(f\"n_estimators={n}, Accuracy={acc:.4f}\")"
      ],
      "metadata": {
        "colab": {
          "base_uri": "https://localhost:8080/"
        },
        "id": "mB2MGcibtkpH",
        "outputId": "59185138-bf6c-49ec-f7da-856433464c9d"
      },
      "execution_count": 3,
      "outputs": [
        {
          "output_type": "stream",
          "name": "stdout",
          "text": [
            "n_estimators=10, Accuracy=0.7403\n",
            "n_estimators=50, Accuracy=0.7403\n",
            "n_estimators=100, Accuracy=0.7532\n",
            "n_estimators=200, Accuracy=0.7532\n"
          ]
        }
      ]
    },
    {
      "cell_type": "markdown",
      "source": [
        "Increasing n_estimators (number of trees) usually increases accuracy slightly and stabilizes predictions.\n",
        "\n",
        "Too few trees → unstable and underfit.\n",
        "\n",
        "Too many trees → slower training, but performance plateaus (bias↓, variance↓).\n",
        "\n",
        "Random Forest reduces variance compared to a single Decision Tree and avoids overfitting."
      ],
      "metadata": {
        "id": "IjH3Fpp1t6fm"
      }
    },
    {
      "cell_type": "markdown",
      "source": [
        "5. RandomForestRegressor and OOB Score"
      ],
      "metadata": {
        "id": "BWSEyyJruDBt"
      }
    },
    {
      "cell_type": "code",
      "source": [
        "# Train RandomForestRegressor with OOB enabled\n",
        "from sklearn.ensemble import RandomForestRegressor\n",
        "from sklearn.metrics import r2_score, mean_squared_error\n",
        "rf = RandomForestRegressor(n_estimators=100, oob_score=True, random_state=42)\n",
        "rf.fit(X_train, y_train)\n",
        "# Predictions and evaluation\n",
        "y_pred = rf.predict(X_test)\n",
        "print(\"R2 Score:\", r2_score(y_test, y_pred))\n",
        "print(\"OOB Score:\", rf.oob_score_)"
      ],
      "metadata": {
        "colab": {
          "base_uri": "https://localhost:8080/"
        },
        "id": "9wkDG_Xht8Dj",
        "outputId": "5b398dd5-8b3b-4a1d-f0d8-36674666ee61"
      },
      "execution_count": 5,
      "outputs": [
        {
          "output_type": "stream",
          "name": "stdout",
          "text": [
            "R2 Score: 0.23698481788079462\n",
            "OOB Score: 0.3014463537754273\n"
          ]
        }
      ]
    },
    {
      "cell_type": "markdown",
      "source": [
        "oob_score_ is the model’s accuracy measured using samples not included in each tree’s bootstrap (acts like built-in cross-validation).\n",
        "\n",
        "OOB evaluation saves time since no separate validation set is needed.\n",
        "\n",
        "As n_estimators increases, OOB score stabilizes and often improves."
      ],
      "metadata": {
        "id": "aHeyPYjxuesh"
      }
    },
    {
      "cell_type": "markdown",
      "source": [
        "**6. Exploring Boosting Techniques**"
      ],
      "metadata": {
        "id": "CV17oYtNux3-"
      }
    },
    {
      "cell_type": "code",
      "source": [
        "pip install catboost"
      ],
      "metadata": {
        "colab": {
          "base_uri": "https://localhost:8080/"
        },
        "id": "LWZ5IFObu59z",
        "outputId": "2095d33b-66ba-4215-a35d-a3f7247f2445"
      },
      "execution_count": 7,
      "outputs": [
        {
          "output_type": "stream",
          "name": "stdout",
          "text": [
            "Collecting catboost\n",
            "  Downloading catboost-1.2.8-cp312-cp312-manylinux2014_x86_64.whl.metadata (1.2 kB)\n",
            "Requirement already satisfied: graphviz in /usr/local/lib/python3.12/dist-packages (from catboost) (0.21)\n",
            "Requirement already satisfied: matplotlib in /usr/local/lib/python3.12/dist-packages (from catboost) (3.10.0)\n",
            "Requirement already satisfied: numpy<3.0,>=1.16.0 in /usr/local/lib/python3.12/dist-packages (from catboost) (2.0.2)\n",
            "Requirement already satisfied: pandas>=0.24 in /usr/local/lib/python3.12/dist-packages (from catboost) (2.2.2)\n",
            "Requirement already satisfied: scipy in /usr/local/lib/python3.12/dist-packages (from catboost) (1.16.2)\n",
            "Requirement already satisfied: plotly in /usr/local/lib/python3.12/dist-packages (from catboost) (5.24.1)\n",
            "Requirement already satisfied: six in /usr/local/lib/python3.12/dist-packages (from catboost) (1.17.0)\n",
            "Requirement already satisfied: python-dateutil>=2.8.2 in /usr/local/lib/python3.12/dist-packages (from pandas>=0.24->catboost) (2.9.0.post0)\n",
            "Requirement already satisfied: pytz>=2020.1 in /usr/local/lib/python3.12/dist-packages (from pandas>=0.24->catboost) (2025.2)\n",
            "Requirement already satisfied: tzdata>=2022.7 in /usr/local/lib/python3.12/dist-packages (from pandas>=0.24->catboost) (2025.2)\n",
            "Requirement already satisfied: contourpy>=1.0.1 in /usr/local/lib/python3.12/dist-packages (from matplotlib->catboost) (1.3.3)\n",
            "Requirement already satisfied: cycler>=0.10 in /usr/local/lib/python3.12/dist-packages (from matplotlib->catboost) (0.12.1)\n",
            "Requirement already satisfied: fonttools>=4.22.0 in /usr/local/lib/python3.12/dist-packages (from matplotlib->catboost) (4.60.1)\n",
            "Requirement already satisfied: kiwisolver>=1.3.1 in /usr/local/lib/python3.12/dist-packages (from matplotlib->catboost) (1.4.9)\n",
            "Requirement already satisfied: packaging>=20.0 in /usr/local/lib/python3.12/dist-packages (from matplotlib->catboost) (25.0)\n",
            "Requirement already satisfied: pillow>=8 in /usr/local/lib/python3.12/dist-packages (from matplotlib->catboost) (11.3.0)\n",
            "Requirement already satisfied: pyparsing>=2.3.1 in /usr/local/lib/python3.12/dist-packages (from matplotlib->catboost) (3.2.5)\n",
            "Requirement already satisfied: tenacity>=6.2.0 in /usr/local/lib/python3.12/dist-packages (from plotly->catboost) (8.5.0)\n",
            "Downloading catboost-1.2.8-cp312-cp312-manylinux2014_x86_64.whl (99.2 MB)\n",
            "\u001b[2K   \u001b[90m━━━━━━━━━━━━━━━━━━━━━━━━━━━━━━━━━━━━━━━━\u001b[0m \u001b[32m99.2/99.2 MB\u001b[0m \u001b[31m7.9 MB/s\u001b[0m eta \u001b[36m0:00:00\u001b[0m\n",
            "\u001b[?25hInstalling collected packages: catboost\n",
            "Successfully installed catboost-1.2.8\n"
          ]
        }
      ]
    },
    {
      "cell_type": "code",
      "source": [
        "from sklearn.metrics import accuracy_score\n",
        "from sklearn.ensemble import AdaBoostClassifier, GradientBoostingClassifier\n",
        "from xgboost import XGBClassifier\n",
        "from catboost import CatBoostClassifier\n",
        "# AdaBoost\n",
        "ada = AdaBoostClassifier(n_estimators=100, learning_rate=0.5, random_state=42)\n",
        "ada.fit(X_train, y_train)\n",
        "print(\"AdaBoost Accuracy:\", accuracy_score(y_test, ada.predict(X_test)))\n",
        "\n",
        "# Gradient Boosting\n",
        "gb = GradientBoostingClassifier(n_estimators=100, learning_rate=0.1, random_state=42)\n",
        "gb.fit(X_train, y_train)\n",
        "print(\"Gradient Boosting Accuracy:\", accuracy_score(y_test, gb.predict(X_test)))\n",
        "\n",
        "# XGBoost\n",
        "xgb = XGBClassifier(n_estimators=100, learning_rate=0.1, random_state=42, eval_metric='logloss')\n",
        "xgb.fit(X_train, y_train)\n",
        "print(\"XGBoost Accuracy:\", accuracy_score(y_test, xgb.predict(X_test)))\n",
        "\n",
        "# CatBoost (silent training)\n",
        "cat = CatBoostClassifier(iterations=100, learning_rate=0.1, verbose=0, random_state=42)\n",
        "cat.fit(X_train, y_train)\n",
        "print(\"CatBoost Accuracy:\", accuracy_score(y_test, cat.predict(X_test)))"
      ],
      "metadata": {
        "colab": {
          "base_uri": "https://localhost:8080/"
        },
        "id": "B9LlTNGzuqwe",
        "outputId": "01939597-26c8-4777-a658-1402d88d2a67"
      },
      "execution_count": 8,
      "outputs": [
        {
          "output_type": "stream",
          "name": "stdout",
          "text": [
            "AdaBoost Accuracy: 0.7662337662337663\n",
            "Gradient Boosting Accuracy: 0.7489177489177489\n",
            "XGBoost Accuracy: 0.7402597402597403\n",
            "CatBoost Accuracy: 0.7489177489177489\n"
          ]
        }
      ]
    },
    {
      "cell_type": "markdown",
      "source": [
        "AdaBoost focuses on misclassified samples, increasing their weights in the next iteration.\n",
        "\n",
        "Gradient Boosting improves flexibility by optimizing any differentiable loss function.\n",
        "\n",
        "XGBoost and CatBoost are optimized versions with regularization and fast computation.\n",
        "\n",
        "Usually, XGBoost or CatBoost gives the best accuracy–speed trade-off."
      ],
      "metadata": {
        "id": "2XSbeJfUvBwv"
      }
    },
    {
      "cell_type": "markdown",
      "source": [
        "**7. Comparative Study of Ensemble Models**"
      ],
      "metadata": {
        "id": "Z8VcPsRgvJPr"
      }
    },
    {
      "cell_type": "code",
      "source": [
        "import time\n",
        "from sklearn.ensemble import BaggingClassifier, RandomForestClassifier, AdaBoostClassifier, GradientBoostingClassifier\n",
        "from xgboost import XGBClassifier\n",
        "from catboost import CatBoostClassifier\n",
        "from sklearn.metrics import accuracy_score\n",
        "\n",
        "models = {\n",
        "    \"Bagging\": BaggingClassifier(n_estimators=50, random_state=42),\n",
        "    \"RandomForest\": RandomForestClassifier(n_estimators=100, random_state=42),\n",
        "    \"AdaBoost\": AdaBoostClassifier(n_estimators=100, random_state=42),\n",
        "    \"GradientBoost\": GradientBoostingClassifier(n_estimators=100, random_state=42),\n",
        "    \"XGBoost\": XGBClassifier(n_estimators=100, random_state=42, eval_metric='logloss'),\n",
        "    \"CatBoost\": CatBoostClassifier(iterations=100, random_state=42, verbose=0)\n",
        "}\n",
        "\n",
        "for name, model in models.items():\n",
        "    start = time.time()\n",
        "    model.fit(X_train, y_train)\n",
        "    preds = model.predict(X_test)\n",
        "    acc = accuracy_score(y_test, preds)\n",
        "    print(f\"{name}: Accuracy={acc:.4f}, TrainTime={time.time()-start:.2f}s\")\n"
      ],
      "metadata": {
        "colab": {
          "base_uri": "https://localhost:8080/"
        },
        "id": "u5WqWCB6vFH5",
        "outputId": "f709cb53-6497-4b42-c31c-0de1990eb31a"
      },
      "execution_count": 9,
      "outputs": [
        {
          "output_type": "stream",
          "name": "stdout",
          "text": [
            "Bagging: Accuracy=0.7489, TrainTime=0.47s\n",
            "RandomForest: Accuracy=0.7532, TrainTime=0.42s\n",
            "AdaBoost: Accuracy=0.7576, TrainTime=0.27s\n",
            "GradientBoost: Accuracy=0.7489, TrainTime=0.28s\n",
            "XGBoost: Accuracy=0.7143, TrainTime=0.09s\n",
            "CatBoost: Accuracy=0.7706, TrainTime=0.16s\n"
          ]
        }
      ]
    },
    {
      "cell_type": "markdown",
      "source": [
        "Random Forest and Gradient Boosting show strong accuracy with moderate training time.\n",
        "\n",
        "XGBoost and CatBoost are fastest due to optimized implementations.\n",
        "\n",
        "Bagging is simpler but less accurate.\n",
        "\n",
        "Best model often depends on dataset; here, CatBoost/XGBoost perform best."
      ],
      "metadata": {
        "id": "XBS-kJqPvN_2"
      }
    },
    {
      "cell_type": "markdown",
      "source": [
        "**8. Visualizing Ensemble Models**"
      ],
      "metadata": {
        "id": "OTgIFIpjvQiz"
      }
    },
    {
      "cell_type": "code",
      "source": [
        "import matplotlib.pyplot as plt\n",
        "import numpy as np\n",
        "from sklearn.decomposition import PCA\n",
        "\n",
        "# Reduce features to 2D for visualization\n",
        "pca = PCA(n_components=2)\n",
        "X_vis = pca.fit_transform(X_test)\n",
        "\n",
        "# Predict using Random Forest\n",
        "rf = RandomForestClassifier(n_estimators=100, random_state=42)\n",
        "rf.fit(X_train, y_train)\n",
        "y_pred = rf.predict(X_test)\n",
        "\n",
        "plt.scatter(X_vis[:,0], X_vis[:,1], c=y_pred, cmap='coolwarm', alpha=0.6)\n",
        "plt.title(\"Random Forest Decision Boundary (PCA Projection)\")\n",
        "plt.xlabel(\"PC1\")\n",
        "plt.ylabel(\"PC2\")\n",
        "plt.show()\n"
      ],
      "metadata": {
        "colab": {
          "base_uri": "https://localhost:8080/",
          "height": 472
        },
        "id": "QR-wdwEqvYa_",
        "outputId": "f29f4d10-b1bb-47a0-8a46-7d7d7f8142ff"
      },
      "execution_count": 10,
      "outputs": [
        {
          "output_type": "display_data",
          "data": {
            "text/plain": [
              "<Figure size 640x480 with 1 Axes>"
            ],
            "image/png": "[encoded data removed]"
          },
          "metadata": {}
        }
      ]
    },
    {
      "cell_type": "markdown",
      "source": [
        "PCA reduces data for visualization.\n",
        "\n",
        "The scatter shows how Random Forest separates classes.\n",
        "\n",
        "Ensemble models create smoother decision boundaries and handle noise better than single trees."
      ],
      "metadata": {
        "id": "lzSRV8dyvcKJ"
      }
    },
    {
      "cell_type": "markdown",
      "source": [
        "**9. Heterogeneous Ensemble Models**"
      ],
      "metadata": {
        "id": "FuRXSHzhvdC1"
      }
    },
    {
      "cell_type": "code",
      "source": [
        "from sklearn.tree import DecisionTreeClassifier\n",
        "from sklearn.neighbors import KNeighborsClassifier\n",
        "from sklearn.linear_model import LogisticRegression\n",
        "from sklearn.svm import SVC\n",
        "from sklearn.ensemble import VotingClassifier\n",
        "\n",
        "# Defining different classifiers\n",
        "clf1 = DecisionTreeClassifier(random_state=42)\n",
        "clf2 = KNeighborsClassifier(n_neighbors=5)\n",
        "clf3 = LogisticRegression(max_iter=1000)\n",
        "clf4 = SVC(probability=True, random_state=42)\n",
        "\n",
        "# Hard Voting\n",
        "hard_vote = VotingClassifier(estimators=[\n",
        "    ('dt', clf1), ('knn', clf2), ('lr', clf3), ('svm', clf4)\n",
        "], voting='hard')\n",
        "hard_vote.fit(X_train, y_train)\n",
        "print(\"Hard Voting Accuracy:\", accuracy_score(y_test, hard_vote.predict(X_test)))\n",
        "\n",
        "# Soft Voting\n",
        "soft_vote = VotingClassifier(estimators=[\n",
        "    ('dt', clf1), ('knn', clf2), ('lr', clf3), ('svm', clf4)\n",
        "], voting='soft')\n",
        "soft_vote.fit(X_train, y_train)\n",
        "print(\"Soft Voting Accuracy:\", accuracy_score(y_test, soft_vote.predict(X_test)))\n"
      ],
      "metadata": {
        "colab": {
          "base_uri": "https://localhost:8080/"
        },
        "id": "FJyi2ngqvgMD",
        "outputId": "5b560105-e18e-4bab-e7a6-16f89b965380"
      },
      "execution_count": 12,
      "outputs": [
        {
          "output_type": "stream",
          "name": "stdout",
          "text": [
            "Hard Voting Accuracy: 0.7489177489177489\n",
            "Soft Voting Accuracy: 0.7316017316017316\n"
          ]
        }
      ]
    },
    {
      "cell_type": "markdown",
      "source": [
        "A heterogeneous ensemble combines different types of models (Tree, KNN, SVM, etc.).\n",
        "\n",
        "Soft voting usually performs better because it averages class probabilities, giving more stable predictions.\n",
        "\n",
        "Model diversity helps improve generalization."
      ],
      "metadata": {
        "id": "XAkj9RY1vm0_"
      }
    },
    {
      "cell_type": "markdown",
      "source": [
        "**10. Homogeneous vs Heterogeneous Ensembles**"
      ],
      "metadata": {
        "id": "ntAGeN-7vvOK"
      }
    },
    {
      "cell_type": "code",
      "source": [
        "from sklearn.tree import DecisionTreeClassifier\n",
        "from sklearn.ensemble import BaggingClassifier, RandomForestClassifier, VotingClassifier, StackingClassifier\n",
        "from sklearn.neighbors import KNeighborsClassifier\n",
        "from sklearn.linear_model import LogisticRegression\n",
        "from sklearn.svm import SVC\n",
        "from sklearn.metrics import accuracy_score\n",
        "#Homogenous Ensembles\n",
        " #1. Bagging Classifier (all base models are Decision Trees)\n",
        "start = time.time()\n",
        "bagging = BaggingClassifier(estimator=DecisionTreeClassifier(), n_estimators=50, random_state=42)\n",
        "bagging.fit(X_train, y_train)\n",
        "bag_acc = accuracy_score(y_test, bagging.predict(X_test))\n",
        "bag_time = time.time() - start\n",
        "\n",
        "# 2. Random Forest (special type of bagging with feature randomness)\n",
        "start = time.time()\n",
        "rf = RandomForestClassifier(n_estimators=100, random_state=42)\n",
        "rf.fit(X_train, y_train)\n",
        "rf_acc = accuracy_score(y_test, rf.predict(X_test))\n",
        "rf_time = time.time() - start\n",
        "\n",
        "# Heterogeneous Ensembles\n",
        "# 3. Voting Classifier (different model types combined)\n",
        "start = time.time()\n",
        "voting = VotingClassifier(estimators=[\n",
        "    ('dt', DecisionTreeClassifier(random_state=42)),\n",
        "    ('knn', KNeighborsClassifier(n_neighbors=5)),\n",
        "    ('lr', LogisticRegression(max_iter=1000))\n",
        "], voting='soft')\n",
        "voting.fit(X_train, y_train)\n",
        "voting_acc = accuracy_score(y_test, voting.predict(X_test))\n",
        "voting_time = time.time() - start\n",
        "\n",
        "# 4. Stacking Classifier (meta-learner learns from base models)\n",
        "start = time.time()\n",
        "stacking = StackingClassifier(estimators=[\n",
        "    ('dt', DecisionTreeClassifier(random_state=42)),\n",
        "    ('knn', KNeighborsClassifier()),\n",
        "    ('lr', LogisticRegression(max_iter=1000))\n",
        "], final_estimator=RandomForestClassifier(random_state=42))\n",
        "stacking.fit(X_train, y_train)\n",
        "stack_acc = accuracy_score(y_test, stacking.predict(X_test))\n",
        "stack_time = time.time() - start\n",
        "\n",
        "print(\"\\n--- Ensemble Model Comparison ---\")\n",
        "print(f\"Bagging Accuracy:       {bag_acc:.4f},  Train Time: {bag_time:.2f}s\")\n",
        "print(f\"Random Forest Accuracy: {rf_acc:.4f},  Train Time: {rf_time:.2f}s\")\n",
        "print(f\"Voting Accuracy:        {voting_acc:.4f},  Train Time: {voting_time:.2f}s\")\n",
        "print(f\"Stacking Accuracy:      {stack_acc:.4f},  Train Time: {stack_time:.2f}s\")"
      ],
      "metadata": {
        "colab": {
          "base_uri": "https://localhost:8080/"
        },
        "id": "f_zFCXzBvqZt",
        "outputId": "cff3e68e-50d0-4532-a17a-651aed159348"
      },
      "execution_count": 15,
      "outputs": [
        {
          "output_type": "stream",
          "name": "stdout",
          "text": [
            "\n",
            "--- Ensemble Model Comparison ---\n",
            "Bagging Accuracy:       0.7489,  Train Time: 2.16s\n",
            "Random Forest Accuracy: 0.7532,  Train Time: 1.24s\n",
            "Voting Accuracy:        0.7100,  Train Time: 1.08s\n",
            "Stacking Accuracy:      0.6797,  Train Time: 1.73s\n"
          ]
        }
      ]
    },
    {
      "cell_type": "markdown",
      "source": [
        "| Model         | Training Time | Reason                                             |\n",
        "| ------------- | ------------- | -------------------------------------------------- |\n",
        "| Bagging       | Fast          | Parallel training of simple trees                  |\n",
        "| Random Forest | Moderate      | Builds multiple trees, each using random features  |\n",
        "| Voting        | Moderate      | Trains multiple models separately, then aggregates |\n",
        "| Stacking      | Highest       | Trains multiple base models + one meta-model       |\n"
      ],
      "metadata": {
        "id": "NXuUSazVv_j6"
      }
    },
    {
      "cell_type": "markdown",
      "source": [
        "Random Forest usually gives the best accuracy among homogeneous models because it adds extra randomness (bagging + feature sampling).\n",
        "\n",
        "Stacking often performs best overall since it combines different models and a meta-learner learns from their strengths.\n",
        "\n",
        "Voting improves performance slightly compared to individual models.\n",
        "\n",
        "Homogeneous ensembles → simpler, faster, but less diverse.\n",
        "\n",
        "Heterogeneous ensembles → slower but more powerful and generalizable."
      ],
      "metadata": {
        "id": "nojDlhdQxUTi"
      }
    }
  ]
}