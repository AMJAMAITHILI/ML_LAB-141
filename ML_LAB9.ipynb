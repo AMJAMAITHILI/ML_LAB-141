{
  "nbformat": 4,
  "nbformat_minor": 0,
  "metadata": {
    "colab": {
      "provenance": [],
      "authorship_tag": "ABX9TyMbv0ruEZnmQ77/oCxrRyqG",
      "include_colab_link": true
    },
    "kernelspec": {
      "name": "python3",
      "display_name": "Python 3"
    },
    "language_info": {
      "name": "python"
    }
  },
  "cells": [
    {
      "cell_type": "markdown",
      "metadata": {
        "id": "view-in-github",
        "colab_type": "text"
      },
      "source": [
        "<a href=\"https://colab.research.google.com/github/AMJAMAITHILI/ML_LAB-141/blob/main/ML_LAB9.ipynb\" target=\"_parent\"><img src=\"https://colab.research.google.com/assets/colab-badge.svg\" alt=\"Open In Colab\"/></a>"
      ]
    },
    {
      "cell_type": "markdown",
      "source": [
        "1.)Simple Perceptron"
      ],
      "metadata": {
        "id": "fcuqKrYJkhmi"
      }
    },
    {
      "cell_type": "code",
      "execution_count": null,
      "metadata": {
        "colab": {
          "base_uri": "https://localhost:8080/"
        },
        "id": "Xwr27cTMgN69",
        "outputId": "8fd0d313-ad38-4fff-cacb-5f57d1fa698e"
      },
      "outputs": [
        {
          "output_type": "stream",
          "name": "stdout",
          "text": [
            "Neuron output: 0.9990889488055994\n"
          ]
        }
      ],
      "source": [
        "import numpy as np\n",
        "\n",
        "# Sigmoid activation function\n",
        "def sigmoid(x):\n",
        "    return 1 / (1 + np.exp(-x))\n",
        "\n",
        "class Neuron:\n",
        "    def __init__(self, weights, bias):\n",
        "        self.weights = weights\n",
        "        self.bias = bias\n",
        "\n",
        "    def feedforward(self, inputs):\n",
        "        total = np.dot(self.weights, inputs) + self.bias\n",
        "        return sigmoid(total)\n",
        "\n",
        "# Example\n",
        "weights = np.array([0, 1])  # w1=0, w2=1\n",
        "bias = 4\n",
        "n = Neuron(weights, bias)\n",
        "\n",
        "x = np.array([2, 3])  # input\n",
        "print(\"Neuron output:\", n.feedforward(x))\n"
      ]
    },
    {
      "cell_type": "markdown",
      "source": [
        "2.)Perceptron with activation Function with AND, OR, XOR\n",
        "\n"
      ],
      "metadata": {
        "id": "XW3-jWrykSzd"
      }
    },
    {
      "cell_type": "markdown",
      "source": [
        "![image.png](data:image/png;base64,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)"
      ],
      "metadata": {
        "id": "5O95BFuFnOeD"
      }
    },
    {
      "cell_type": "code",
      "source": [
        "import numpy as np\n",
        "\n",
        "class Perceptron:\n",
        "    def __init__(self, learning_rate=0.1, epochs=10):\n",
        "        self.learning_rate = learning_rate#learning_rate: how much to adjust weights when an error occurs,epochs: how many times to iterate over the entire dataset.\n",
        "        self.epochs = epochs\n",
        "        self.weights = None\n",
        "        self.bias = None\n",
        "\n",
        "    def step_function(self, x):\n",
        "        return np.where(x >= 0, 1, 0)#If the weighted sum ≥ 0 ⇒ output = 1 else 0\n",
        "\n",
        "    def fit(self, X, y):\n",
        "        n_samples, n_features = X.shape\n",
        "        self.weights = np.zeros(n_features)\n",
        "        self.bias = 0\n",
        "\n",
        "        for _ in range(self.epochs):\n",
        "            for i in range(n_samples):\n",
        "                linear_output = np.dot(X[i], self.weights) + self.bias#computing w.x+b and then applying step fn to get 0/1\n",
        "                y_pred = self.step_function(linear_output)\n",
        "                update = self.learning_rate * (y[i] - y_pred)\n",
        "                self.weights += update * X[i]\n",
        "                self.bias += update\n",
        "\n",
        "    def predict(self, X):\n",
        "        linear_output = np.dot(X, self.weights) + self.bias\n",
        "        return self.step_function(linear_output)\n",
        "\n",
        "\n",
        "#AND Gate\n",
        "X = np.array([[0,0],[0,1],[1,0],[1,1]])\n",
        "y_and = np.array([0,0,0,1])\n",
        "p_and = Perceptron()\n",
        "p_and.fit(X, y_and)\n",
        "print(\"AND Predictions:\", p_and.predict(X))\n",
        "\n",
        "#OR Gate\n",
        "y_or = np.array([0,1,1,1])\n",
        "p_or = Perceptron()\n",
        "p_or.fit(X, y_or)\n",
        "print(\"OR Predictions:\", p_or.predict(X))\n",
        "\n",
        "#XOR Gate (not linearly separable, will fail intentionally)no single straight line can divide 1s and 0s we need at least two layers (an MLP)\n",
        "y_xor = np.array([0,1,1,0])\n",
        "p_xor = Perceptron()\n",
        "p_xor.fit(X, y_xor)\n",
        "print(\"XOR Predictions:\", p_xor.predict(X))\n"
      ],
      "metadata": {
        "colab": {
          "base_uri": "https://localhost:8080/"
        },
        "id": "orakWiZdkSBC",
        "outputId": "1274371b-5df3-4245-9d99-e52b047c0be4"
      },
      "execution_count": null,
      "outputs": [
        {
          "output_type": "stream",
          "name": "stdout",
          "text": [
            "AND Predictions: [0 0 0 1]\n",
            "OR Predictions: [0 1 1 1]\n",
            "XOR Predictions: [1 1 0 0]\n"
          ]
        }
      ]
    },
    {
      "cell_type": "markdown",
      "source": [
        "3.)MLP (Multi-Layer Perceptron) with Single Hidden Layer\n",
        "Given:\n",
        "weights = [0, 1]\n",
        "bias = 0\n",
        "x = [2, 3]\n",
        "sigmoid(z) = 1 / (1 + exp(-z))\n",
        "\n",
        "Step 1: hidden neuron h1\n",
        " total_h1 = 0*2 + 1*3 + 0 = 3\n",
        " out_h1 = sigmoid(3) = 1 / (1 + e^(-3)) = 0.9525741268224334\n",
        "\n",
        "Step 2: hidden neuron h2 (same weights)\n",
        " total_h2 = 3\n",
        " out_h2 = sigmoid(3) = 0.9525741268224334\n",
        "\n",
        "Step 3: output neuron o1 (inputs = [out_h1, out_h2])\n",
        " total_o1 = 0*out_h1 + 1*out_h2 + 0 = 0.9525741268224334\n",
        " out_o1 = sigmoid(total_o1) = sigmoid(0.9525741268224334)\n",
        "        = 1 / (1 + e^(-0.9525741268224334)) = 0.7216325609518421\n",
        "\n",
        "Final network output: 0.7216325609518421\n"
      ],
      "metadata": {
        "id": "2uurrMHqo1Km"
      }
    },
    {
      "cell_type": "code",
      "source": [
        "import numpy as np\n",
        "\n",
        "def sigmoid(x):\n",
        "    return 1 / (1 + np.exp(-x))\n",
        "\n",
        "class Neuron:\n",
        "    def __init__(self, weights, bias):\n",
        "        self.weights = weights\n",
        "        self.bias = bias\n",
        "\n",
        "    def feedforward(self, inputs):\n",
        "        total = np.dot(self.weights, inputs) + self.bias\n",
        "        return sigmoid(total)\n",
        "\n",
        "class OurNeuralNetwork:\n",
        "    \"\"\"\n",
        "    Neural Network with:\n",
        "    - 2 input neurons\n",
        "    - 2 hidden neurons (h1, h2)\n",
        "    - 1 output neuron (o1)\n",
        "    \"\"\"\n",
        "    def __init__(self):\n",
        "        weights = np.array([0, 1])\n",
        "        bias = 0\n",
        "        self.h1 = Neuron(weights, bias)\n",
        "        self.h2 = Neuron(weights, bias)\n",
        "        self.o1 = Neuron(weights, bias)\n",
        "\n",
        "    def feedforward(self, x):\n",
        "        out_h1 = self.h1.feedforward(x)\n",
        "        out_h2 = self.h2.feedforward(x)\n",
        "        out_o1 = self.o1.feedforward(np.array([out_h1, out_h2]))\n",
        "        return out_o1\n",
        "\n",
        "# Example\n",
        "network = OurNeuralNetwork()\n",
        "x = np.array([2, 3])\n",
        "print(\"Network output:\", network.feedforward(x))\n"
      ],
      "metadata": {
        "colab": {
          "base_uri": "https://localhost:8080/"
        },
        "id": "QzjQTzDAot52",
        "outputId": "4416ac2f-b1a8-4355-bc8c-88de7ecfeae6"
      },
      "execution_count": null,
      "outputs": [
        {
          "output_type": "stream",
          "name": "stdout",
          "text": [
            "Network output: 0.7216325609518421\n"
          ]
        }
      ]
    },
    {
      "cell_type": "markdown",
      "source": [
        "MNIST MLP(Multi-Layer perceptron) Classifier"
      ],
      "metadata": {
        "id": "VhEmo9ctqMqi"
      }
    },
    {
      "cell_type": "code",
      "source": [
        "from sklearn.datasets import fetch_openml                # To load the MNIST dataset\n",
        "from sklearn.model_selection import train_test_split\n",
        "from sklearn.neural_network import MLPClassifier\n",
        "from sklearn.metrics import accuracy_score\n",
        "# fetch_openml downloads the dataset from OpenML\n",
        "# 'mnist_784' → dataset name (contains 70,000 images of digits, each 28x28 = 784 pixels)\n",
        "# version=1 → dataset version\n",
        "# return_X_y=True → directly returns features (X) and labels (y) separately\n",
        "data, labels = fetch_openml('mnist_784', version=1, return_X_y=True)\n",
        "\n",
        "# Each pixel value ranges from 0 to 255 — normalizing them to 0–1 for faster training\n",
        "data = data / 255.0\n",
        "# Split the dataset into training and testing sets\n",
        "# random_state=42 → ensures reproducibility (same random split each run)\n",
        "# stratify=labels → ensures equal class distribution in both train and test sets\n",
        "X_train, X_test, y_train, y_test = train_test_split(\n",
        "    data, labels, test_size=0.1, random_state=42, stratify=labels\n",
        ")\n",
        "\n",
        "# Initializing the Multi-Layer Perceptron (MLP)\n",
        "mlp = MLPClassifier(\n",
        "    hidden_layer_sizes=(50,),   # One hidden layer with 50 neurons\n",
        "    max_iter=50,                # Maximum 50 training iterations (epochs)\n",
        "    verbose=True,               # Prints training progress and loss values\n",
        "    random_state=1              # For reproducibility of weight initialization\n",
        ")\n",
        "# Train the model (Backpropagation)\n",
        "# .fit() automatically performs:\n",
        "#   - Forward pass → calculates outputs\n",
        "#   - Backward pass → adjusts weights using gradient descent\n",
        "#   - Repeats for 'max_iter' epochs\n",
        "mlp.fit(X_train, y_train)\n",
        "# .predict() → predicts labels for test set\n",
        "y_pred = mlp.predict(X_test)\n",
        "accuracy = accuracy_score(y_test, y_pred)\n",
        "print(\"Test Accuracy:\", accuracy)\n"
      ],
      "metadata": {
        "colab": {
          "base_uri": "https://localhost:8080/"
        },
        "id": "_QVbKQPKqThv",
        "outputId": "e9868ade-eba6-4a3a-c0dd-9a59ccbae438"
      },
      "execution_count": null,
      "outputs": [
        {
          "output_type": "stream",
          "name": "stdout",
          "text": [
            "Iteration 1, loss = 0.50240991\n",
            "Iteration 2, loss = 0.24293823\n",
            "Iteration 3, loss = 0.19396647\n",
            "Iteration 4, loss = 0.16213879\n",
            "Iteration 5, loss = 0.14071148\n",
            "Iteration 6, loss = 0.12341883\n",
            "Iteration 7, loss = 0.10922166\n",
            "Iteration 8, loss = 0.09774355\n",
            "Iteration 9, loss = 0.08919639\n",
            "Iteration 10, loss = 0.08139225\n",
            "Iteration 11, loss = 0.07540877\n",
            "Iteration 12, loss = 0.06954664\n",
            "Iteration 13, loss = 0.06361726\n",
            "Iteration 14, loss = 0.05979103\n",
            "Iteration 15, loss = 0.05585580\n",
            "Iteration 16, loss = 0.05202626\n",
            "Iteration 17, loss = 0.04899432\n",
            "Iteration 18, loss = 0.04561763\n",
            "Iteration 19, loss = 0.04281492\n",
            "Iteration 20, loss = 0.04050308\n",
            "Iteration 21, loss = 0.03787670\n",
            "Iteration 22, loss = 0.03558628\n",
            "Iteration 23, loss = 0.03292704\n",
            "Iteration 24, loss = 0.03132445\n",
            "Iteration 25, loss = 0.02988745\n",
            "Iteration 26, loss = 0.02857582\n",
            "Iteration 27, loss = 0.02623057\n",
            "Iteration 28, loss = 0.02454969\n",
            "Iteration 29, loss = 0.02335991\n",
            "Iteration 30, loss = 0.02190347\n",
            "Iteration 31, loss = 0.02054652\n",
            "Iteration 32, loss = 0.01955444\n",
            "Iteration 33, loss = 0.01806062\n",
            "Iteration 34, loss = 0.01723213\n",
            "Iteration 35, loss = 0.01601015\n",
            "Iteration 36, loss = 0.01543006\n",
            "Iteration 37, loss = 0.01425774\n",
            "Iteration 38, loss = 0.01361097\n",
            "Iteration 39, loss = 0.01272899\n",
            "Iteration 40, loss = 0.01192553\n",
            "Iteration 41, loss = 0.01160828\n",
            "Iteration 42, loss = 0.01075935\n",
            "Iteration 43, loss = 0.00983147\n",
            "Iteration 44, loss = 0.00952984\n",
            "Iteration 45, loss = 0.00876814\n",
            "Iteration 46, loss = 0.00864342\n",
            "Iteration 47, loss = 0.00796637\n",
            "Iteration 48, loss = 0.00720160\n",
            "Iteration 49, loss = 0.00758951\n",
            "Iteration 50, loss = 0.00681590\n",
            "Test Accuracy: 0.97\n"
          ]
        },
        {
          "output_type": "stream",
          "name": "stderr",
          "text": [
            "/usr/local/lib/python3.12/dist-packages/sklearn/neural_network/_multilayer_perceptron.py:691: ConvergenceWarning: Stochastic Optimizer: Maximum iterations (50) reached and the optimization hasn't converged yet.\n",
            "  warnings.warn(\n"
          ]
        }
      ]
    }
  ]
}