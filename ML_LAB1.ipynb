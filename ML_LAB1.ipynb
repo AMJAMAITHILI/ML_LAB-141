{
  "nbformat": 4,
  "nbformat_minor": 0,
  "metadata": {
    "colab": {
      "provenance": [],
      "authorship_tag": "ABX9TyNMLGeF5fPgUGSO/BWNCZcz",
      "include_colab_link": true
    },
    "kernelspec": {
      "name": "python3",
      "display_name": "Python 3"
    },
    "language_info": {
      "name": "python"
    }
  },
  "cells": [
    {
      "cell_type": "markdown",
      "metadata": {
        "id": "view-in-github",
        "colab_type": "text"
      },
      "source": [
        "<a href=\"https://colab.research.google.com/github/AMJAMAITHILI/ML_LAB-141/blob/main/ML_LAB1.ipynb\" target=\"_parent\"><img src=\"https://colab.research.google.com/assets/colab-badge.svg\" alt=\"Open In Colab\"/></a>"
      ]
    },
    {
      "cell_type": "code",
      "source": [
        "import pandas as pd\n",
        "import string\n",
        "EngAlph=pd.Series(list(string.ascii_lowercase))\n",
        "print(EngAlph)"
      ],
      "metadata": {
        "colab": {
          "base_uri": "https://localhost:8080/"
        },
        "id": "z_fusdqUu0uZ",
        "outputId": "5a6fb6cf-d038-4a76-c710-78a7747e4e04"
      },
      "execution_count": 1,
      "outputs": [
        {
          "output_type": "stream",
          "name": "stdout",
          "text": [
            "0     a\n",
            "1     b\n",
            "2     c\n",
            "3     d\n",
            "4     e\n",
            "5     f\n",
            "6     g\n",
            "7     h\n",
            "8     i\n",
            "9     j\n",
            "10    k\n",
            "11    l\n",
            "12    m\n",
            "13    n\n",
            "14    o\n",
            "15    p\n",
            "16    q\n",
            "17    r\n",
            "18    s\n",
            "19    t\n",
            "20    u\n",
            "21    v\n",
            "22    w\n",
            "23    x\n",
            "24    y\n",
            "25    z\n",
            "dtype: object\n"
          ]
        }
      ]
    },
    {
      "cell_type": "code",
      "source": [
        "vowels=pd.Series(0,index=[\"a\",\"e\",\"i\",\"o\",\"u\"])\n",
        "print(vowels)"
      ],
      "metadata": {
        "colab": {
          "base_uri": "https://localhost:8080/"
        },
        "id": "QRjuww3Fv0wx",
        "outputId": "bec8ac7d-e9e1-4f88-bfe3-5ffaf5cbc81c"
      },
      "execution_count": null,
      "outputs": [
        {
          "output_type": "stream",
          "name": "stdout",
          "text": [
            "a    0\n",
            "e    0\n",
            "i    0\n",
            "o    0\n",
            "u    0\n",
            "dtype: int64\n"
          ]
        }
      ]
    },
    {
      "cell_type": "code",
      "source": [
        "Sales = pd.DataFrame({\n",
        "    '2014': [100.5, 150.8, 200.9, 30000, 40000],\n",
        "    '2015': [12000, 18000, 22000, 30000, 45000],\n",
        "    '2016': [20000, 50000, 70000, 100000, 125000],\n",
        "    '2017': [50000, 60000, 70000, 80000, 90000]\n",
        "}, index=['Madhu','Kusum','Kinshuk','Ankit','Shruti'])\n",
        "print(Sales)"
      ],
      "metadata": {
        "colab": {
          "base_uri": "https://localhost:8080/"
        },
        "id": "yyBtxIwowPJg",
        "outputId": "07400da3-c0f4-4cbf-9dad-e2c195166a7c"
      },
      "execution_count": 18,
      "outputs": [
        {
          "output_type": "stream",
          "name": "stdout",
          "text": [
            "            2014   2015    2016   2017\n",
            "Madhu      100.5  12000   20000  50000\n",
            "Kusum      150.8  18000   50000  60000\n",
            "Kinshuk    200.9  22000   70000  70000\n",
            "Ankit    30000.0  30000  100000  80000\n",
            "Shruti   40000.0  45000  125000  90000\n"
          ]
        }
      ]
    },
    {
      "cell_type": "code",
      "source": [
        "# a)\n",
        "print(Sales.index)\n",
        "# b)\n",
        "print(Sales.columns)\n",
        "# c)\n",
        "print(Sales.dtypes)\n",
        "# d)\n",
        "print(Sales.ndim, Sales.shape, Sales.size, Sales.values)\n",
        "# e)\n",
        "print(Sales.tail(2))\n",
        "# f)\n",
        "print(Sales.iloc[:,0:2])\n",
        "# g)\n",
        "Sales2 = pd.DataFrame({\n",
        "    '2018':[160000,110000,500000,340000,900000]\n",
        "}, index=['Madhu','Kusum','Kinshuk','Ankit','Shruti'])\n",
        "# h)\n",
        "print(Sales2.empty)\n"
      ],
      "metadata": {
        "colab": {
          "base_uri": "https://localhost:8080/"
        },
        "id": "Tfr-cexgydAQ",
        "outputId": "93991fc4-a62a-4f61-c1cf-95c499d919a0"
      },
      "execution_count": 19,
      "outputs": [
        {
          "output_type": "stream",
          "name": "stdout",
          "text": [
            "Index(['Madhu', 'Kusum', 'Kinshuk', 'Ankit', 'Shruti'], dtype='object')\n",
            "Index(['2014', '2015', '2016', '2017'], dtype='object')\n",
            "2014    float64\n",
            "2015      int64\n",
            "2016      int64\n",
            "2017      int64\n",
            "dtype: object\n",
            "2 (5, 4) 20 [[1.005e+02 1.200e+04 2.000e+04 5.000e+04]\n",
            " [1.508e+02 1.800e+04 5.000e+04 6.000e+04]\n",
            " [2.009e+02 2.200e+04 7.000e+04 7.000e+04]\n",
            " [3.000e+04 3.000e+04 1.000e+05 8.000e+04]\n",
            " [4.000e+04 4.500e+04 1.250e+05 9.000e+04]]\n",
            "           2014   2015    2016   2017\n",
            "Ankit   30000.0  30000  100000  80000\n",
            "Shruti  40000.0  45000  125000  90000\n",
            "            2014   2015\n",
            "Madhu      100.5  12000\n",
            "Kusum      150.8  18000\n",
            "Kinshuk    200.9  22000\n",
            "Ankit    30000.0  30000\n",
            "Shruti   40000.0  45000\n",
            "False\n"
          ]
        }
      ]
    },
    {
      "cell_type": "code",
      "source": [
        "# a)\n",
        "Sales = pd.concat([Sales, Sales2], axis=1)\n",
        "print(Sales)\n",
        "\n",
        "# b)\n",
        "print(Sales.T)\n",
        "\n",
        "# c)\n",
        "print(Sales.T.loc['2017'])\n",
        "\n",
        "# d)\n",
        "print(Sales.T.loc[['2017', '2018'], ['Madhu', 'Ankit']])\n",
        "\n",
        "# e)\n",
        "print(Sales.T.loc['2016', 'Shruti'])\n",
        "\n",
        "# f)\n",
        "Sales['Sumeet'] = [196.2, 37800, 52000, 78438, 38852]\n",
        "print(Sales)\n",
        "\n",
        "# g)\n",
        "Sales.drop('2014', axis=1, inplace=True)\n",
        "print(Sales)\n",
        "\n",
        "# h)\n",
        "Sales.drop('Kinshuk', axis=0, inplace=True)\n",
        "print(Sales)\n",
        "\n",
        "# i)\n",
        "Sales.rename(index={'Ankit': 'Vivaan', 'Madhu': 'Shailesh'}, inplace=True)\n",
        "print(Sales)\n",
        "\n",
        "# j)\n",
        "Sales.loc['Shailesh', '2018'] = 100000\n",
        "print(Sales)\n",
        "\n",
        "# k)\n",
        "Sales.to_csv('SalesFigures.csv', index=True, header=True)\n",
        "\n",
        "# l)\n",
        "SalesRetrieved = pd.read_csv('SalesFigures.csv', index_col=0)\n",
        "print(SalesRetrieved)\n"
      ],
      "metadata": {
        "colab": {
          "base_uri": "https://localhost:8080/"
        },
        "id": "yraX99UtyyeY",
        "outputId": "02cc3ae2-9401-4e73-8080-30653f9d3949"
      },
      "execution_count": 20,
      "outputs": [
        {
          "output_type": "stream",
          "name": "stdout",
          "text": [
            "            2014   2015    2016   2017    2018\n",
            "Madhu      100.5  12000   20000  50000  160000\n",
            "Kusum      150.8  18000   50000  60000  110000\n",
            "Kinshuk    200.9  22000   70000  70000  500000\n",
            "Ankit    30000.0  30000  100000  80000  340000\n",
            "Shruti   40000.0  45000  125000  90000  900000\n",
            "         Madhu     Kusum   Kinshuk     Ankit    Shruti\n",
            "2014     100.5     150.8     200.9   30000.0   40000.0\n",
            "2015   12000.0   18000.0   22000.0   30000.0   45000.0\n",
            "2016   20000.0   50000.0   70000.0  100000.0  125000.0\n",
            "2017   50000.0   60000.0   70000.0   80000.0   90000.0\n",
            "2018  160000.0  110000.0  500000.0  340000.0  900000.0\n",
            "Madhu      50000.0\n",
            "Kusum      60000.0\n",
            "Kinshuk    70000.0\n",
            "Ankit      80000.0\n",
            "Shruti     90000.0\n",
            "Name: 2017, dtype: float64\n",
            "         Madhu     Ankit\n",
            "2017   50000.0   80000.0\n",
            "2018  160000.0  340000.0\n",
            "125000.0\n",
            "            2014   2015    2016   2017    2018   Sumeet\n",
            "Madhu      100.5  12000   20000  50000  160000    196.2\n",
            "Kusum      150.8  18000   50000  60000  110000  37800.0\n",
            "Kinshuk    200.9  22000   70000  70000  500000  52000.0\n",
            "Ankit    30000.0  30000  100000  80000  340000  78438.0\n",
            "Shruti   40000.0  45000  125000  90000  900000  38852.0\n",
            "          2015    2016   2017    2018   Sumeet\n",
            "Madhu    12000   20000  50000  160000    196.2\n",
            "Kusum    18000   50000  60000  110000  37800.0\n",
            "Kinshuk  22000   70000  70000  500000  52000.0\n",
            "Ankit    30000  100000  80000  340000  78438.0\n",
            "Shruti   45000  125000  90000  900000  38852.0\n",
            "         2015    2016   2017    2018   Sumeet\n",
            "Madhu   12000   20000  50000  160000    196.2\n",
            "Kusum   18000   50000  60000  110000  37800.0\n",
            "Ankit   30000  100000  80000  340000  78438.0\n",
            "Shruti  45000  125000  90000  900000  38852.0\n",
            "           2015    2016   2017    2018   Sumeet\n",
            "Shailesh  12000   20000  50000  160000    196.2\n",
            "Kusum     18000   50000  60000  110000  37800.0\n",
            "Vivaan    30000  100000  80000  340000  78438.0\n",
            "Shruti    45000  125000  90000  900000  38852.0\n",
            "           2015    2016   2017    2018   Sumeet\n",
            "Shailesh  12000   20000  50000  100000    196.2\n",
            "Kusum     18000   50000  60000  110000  37800.0\n",
            "Vivaan    30000  100000  80000  340000  78438.0\n",
            "Shruti    45000  125000  90000  900000  38852.0\n",
            "           2015    2016   2017    2018   Sumeet\n",
            "Shailesh  12000   20000  50000  100000    196.2\n",
            "Kusum     18000   50000  60000  110000  37800.0\n",
            "Vivaan    30000  100000  80000  340000  78438.0\n",
            "Shruti    45000  125000  90000  900000  38852.0\n"
          ]
        }
      ]
    },
    {
      "cell_type": "code",
      "source": [],
      "metadata": {
        "id": "q4wcQkhxOrvQ"
      },
      "execution_count": null,
      "outputs": []
    }
  ]
}