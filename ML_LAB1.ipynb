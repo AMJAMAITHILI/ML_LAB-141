{
  "nbformat": 4,
  "nbformat_minor": 0,
  "metadata": {
    "colab": {
      "provenance": [],
      "authorship_tag": "ABX9TyMBHgrgDO+bDE5sJR+NnKLH",
      "include_colab_link": true
    },
    "kernelspec": {
      "name": "python3",
      "display_name": "Python 3"
    },
    "language_info": {
      "name": "python"
    }
  },
  "cells": [
    {
      "cell_type": "markdown",
      "metadata": {
        "id": "view-in-github",
        "colab_type": "text"
      },
      "source": [
        "<a href=\"https://colab.research.google.com/github/AMJAMAITHILI/ML_LAB-141/blob/main/ML_LAB1.ipynb\" target=\"_parent\"><img src=\"https://colab.research.google.com/assets/colab-badge.svg\" alt=\"Open In Colab\"/></a>"
      ]
    },
    {
      "cell_type": "code",
      "source": [
        "import pandas as pd\n",
        "import string\n",
        "EngAlph=pd.Series(list(string.ascii_lowercase))\n",
        "print(EngAlph)"
      ],
      "metadata": {
        "colab": {
          "base_uri": "https://localhost:8080/"
        },
        "id": "z_fusdqUu0uZ",
        "outputId": "5a6fb6cf-d038-4a76-c710-78a7747e4e04"
      },
      "execution_count": 1,
      "outputs": [
        {
          "output_type": "stream",
          "name": "stdout",
          "text": [
            "0     a\n",
            "1     b\n",
            "2     c\n",
            "3     d\n",
            "4     e\n",
            "5     f\n",
            "6     g\n",
            "7     h\n",
            "8     i\n",
            "9     j\n",
            "10    k\n",
            "11    l\n",
            "12    m\n",
            "13    n\n",
            "14    o\n",
            "15    p\n",
            "16    q\n",
            "17    r\n",
            "18    s\n",
            "19    t\n",
            "20    u\n",
            "21    v\n",
            "22    w\n",
            "23    x\n",
            "24    y\n",
            "25    z\n",
            "dtype: object\n"
          ]
        }
      ]
    },
    {
      "cell_type": "code",
      "source": [
        "vowels=pd.Series(0,index=[\"a\",\"e\",\"i\",\"o\",\"u\"])\n",
        "print(vowels)"
      ],
      "metadata": {
        "colab": {
          "base_uri": "https://localhost:8080/"
        },
        "id": "QRjuww3Fv0wx",
        "outputId": "bec8ac7d-e9e1-4f88-bfe3-5ffaf5cbc81c"
      },
      "execution_count": null,
      "outputs": [
        {
          "output_type": "stream",
          "name": "stdout",
          "text": [
            "a    0\n",
            "e    0\n",
            "i    0\n",
            "o    0\n",
            "u    0\n",
            "dtype: int64\n"
          ]
        }
      ]
    },
    {
      "cell_type": "code",
      "source": [
        "df=pd.DataFrame({2014:[20,30,40],2015:[20,30,40],2016:[20,30,40]},index=[\"A\",\"B\",\"C\"])\n",
        "print(df)\n"
      ],
      "metadata": {
        "colab": {
          "base_uri": "https://localhost:8080/"
        },
        "id": "yyBtxIwowPJg",
        "outputId": "59fee27a-eef3-4d86-dda9-875bb0a47418"
      },
      "execution_count": 3,
      "outputs": [
        {
          "output_type": "stream",
          "name": "stdout",
          "text": [
            "   2014  2015  2016\n",
            "A    20    20    20\n",
            "B    30    30    30\n",
            "C    40    40    40\n"
          ]
        }
      ]
    },
    {
      "cell_type": "code",
      "source": [
        "print(df.index)\n",
        "print(df.columns)\n",
        "print(df[2014].dtype)\n",
        "print(df.size)\n",
        "print(df.shape)\n",
        "print(df.values)\n",
        "print(df.ndim)\n",
        "print(df.head(2))\n",
        "print(df.iloc[:2])\n",
        "print(df.empty)"
      ],
      "metadata": {
        "colab": {
          "base_uri": "https://localhost:8080/"
        },
        "id": "Tfr-cexgydAQ",
        "outputId": "e6054315-16ab-4255-c4e7-4a77a01c79bc"
      },
      "execution_count": null,
      "outputs": [
        {
          "output_type": "stream",
          "name": "stdout",
          "text": [
            "Index(['A', 'B', 'C'], dtype='object')\n",
            "Index([2014, 2015, 2016], dtype='int64')\n",
            "int64\n",
            "9\n",
            "(3, 3)\n",
            "[[20 20 20]\n",
            " [30 30 30]\n",
            " [40 40 40]]\n",
            "2\n",
            "   2014  2015  2016\n",
            "A    20    20    20\n",
            "B    30    30    30\n",
            "   2014  2015  2016\n",
            "A    20    20    20\n",
            "B    30    30    30\n",
            "False\n"
          ]
        }
      ]
    },
    {
      "cell_type": "code",
      "source": [
        "df1=pd.DataFrame({2014:[20,30,40]},index=[\"A\",\"B\",\"C\"])\n",
        "print(df1)"
      ],
      "metadata": {
        "colab": {
          "base_uri": "https://localhost:8080/"
        },
        "id": "-HxsUsfFyeFv",
        "outputId": "26498af6-c9ad-4938-a8f4-e46d454cde42"
      },
      "execution_count": 4,
      "outputs": [
        {
          "output_type": "stream",
          "name": "stdout",
          "text": [
            "   2014\n",
            "A    20\n",
            "B    30\n",
            "C    40\n"
          ]
        }
      ]
    },
    {
      "cell_type": "code",
      "source": [
        "df2=pd.concat([df, df1])\n",
        "print(df2)"
      ],
      "metadata": {
        "colab": {
          "base_uri": "https://localhost:8080/"
        },
        "id": "yraX99UtyyeY",
        "outputId": "f8e0f4c1-404a-45d4-b6eb-ae7a4df84582"
      },
      "execution_count": null,
      "outputs": [
        {
          "output_type": "stream",
          "name": "stdout",
          "text": [
            "   2014  2015  2016\n",
            "A    20  20.0  20.0\n",
            "B    30  30.0  30.0\n",
            "C    40  40.0  40.0\n",
            "A    20   NaN   NaN\n",
            "B    30   NaN   NaN\n",
            "C    40   NaN   NaN\n"
          ]
        }
      ]
    },
    {
      "cell_type": "code",
      "source": [
        "df3=pd.concat([df, df1])\n",
        "print(df3)"
      ],
      "metadata": {
        "colab": {
          "base_uri": "https://localhost:8080/"
        },
        "id": "sse_IfWrNDXJ",
        "outputId": "4334fd08-3be5-4734-eb42-ffdc024b507a"
      },
      "execution_count": 5,
      "outputs": [
        {
          "output_type": "stream",
          "name": "stdout",
          "text": [
            "   2014  2015  2016\n",
            "A    20  20.0  20.0\n",
            "B    30  30.0  30.0\n",
            "C    40  40.0  40.0\n",
            "A    20   NaN   NaN\n",
            "B    30   NaN   NaN\n",
            "C    40   NaN   NaN\n"
          ]
        }
      ]
    }
  ]
}